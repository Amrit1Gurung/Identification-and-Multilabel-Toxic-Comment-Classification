{
  "nbformat": 4,
  "nbformat_minor": 0,
  "metadata": {
    "colab": {
      "name": "EDA(toxic comments).ipynb",
      "provenance": [],
      "collapsed_sections": []
    },
    "kernelspec": {
      "name": "python3",
      "display_name": "Python 3"
    },
    "language_info": {
      "name": "python"
    }
  },
  "cells": [
    {
      "cell_type": "code",
      "metadata": {
        "colab": {
          "base_uri": "https://localhost:8080/"
        },
        "id": "KNwJs6RqvblG",
        "outputId": "c3d91ce5-335f-48aa-c630-7dcb97903bf8"
      },
      "source": [
        "import nltk\n",
        "nltk.download('stopwords')\n",
        "nltk.download('punkt')\n",
        "nltk.download('wordnet')"
      ],
      "execution_count": null,
      "outputs": [
        {
          "output_type": "stream",
          "text": [
            "[nltk_data] Downloading package stopwords to /root/nltk_data...\n",
            "[nltk_data]   Unzipping corpora/stopwords.zip.\n",
            "[nltk_data] Downloading package punkt to /root/nltk_data...\n",
            "[nltk_data]   Unzipping tokenizers/punkt.zip.\n",
            "[nltk_data] Downloading package wordnet to /root/nltk_data...\n",
            "[nltk_data]   Unzipping corpora/wordnet.zip.\n"
          ],
          "name": "stdout"
        },
        {
          "output_type": "execute_result",
          "data": {
            "text/plain": [
              "True"
            ]
          },
          "metadata": {
            "tags": []
          },
          "execution_count": 1
        }
      ]
    },
    {
      "cell_type": "code",
      "metadata": {
        "id": "DmAy5lXQqkCg"
      },
      "source": [
        "import os\n",
        "os.chdi"
      ],
      "execution_count": null,
      "outputs": []
    },
    {
      "cell_type": "code",
      "metadata": {
        "id": "v3rhp-rOs6J3"
      },
      "source": [
        "\n",
        "import re\n",
        "import datetime as dt\n",
        "import numpy as np\n",
        "import pandas as pd\n",
        "import seaborn as sns\n",
        "import matplotlib.pyplot as plt\n",
        "%matplotlib inline\n",
        "\n",
        "from tqdm import tqdm\n",
        "import collections\n",
        "#import difflib\n",
        "import nltk\n",
        "from nltk.tokenize import word_tokenize, sent_tokenize\n",
        "from nltk.stem import WordNetLemmatizer\n",
        "from nltk.util import ngrams\n",
        "from nltk.corpus import stopwords\n",
        "stop_words = stopwords.words('english')\n",
        "import warnings\n",
        "warnings.filterwarnings(\"ignore\")"
      ],
      "execution_count": null,
      "outputs": []
    },
    {
      "cell_type": "code",
      "metadata": {
        "colab": {
          "base_uri": "https://localhost:8080/",
          "height": 375
        },
        "id": "bCxGDX73w7dh",
        "outputId": "5315650a-81f6-4b51-f580-2f6d002b49d2"
      },
      "source": [
        "\n",
        "toxic_data = pd.read_csv('data/train.csv')\n",
        "print(\"Shape of data : \", toxic_data.shape)\n",
        "toxic_data.head()"
      ],
      "execution_count": null,
      "outputs": [
        {
          "output_type": "stream",
          "text": [
            "Shape of data :  (159571, 8)\n"
          ],
          "name": "stdout"
        },
        {
          "output_type": "execute_result",
          "data": {
            "text/html": [
              "<div>\n",
              "<style scoped>\n",
              "    .dataframe tbody tr th:only-of-type {\n",
              "        vertical-align: middle;\n",
              "    }\n",
              "\n",
              "    .dataframe tbody tr th {\n",
              "        vertical-align: top;\n",
              "    }\n",
              "\n",
              "    .dataframe thead th {\n",
              "        text-align: right;\n",
              "    }\n",
              "</style>\n",
              "<table border=\"1\" class=\"dataframe\">\n",
              "  <thead>\n",
              "    <tr style=\"text-align: right;\">\n",
              "      <th></th>\n",
              "      <th>id</th>\n",
              "      <th>comment_text</th>\n",
              "      <th>toxic</th>\n",
              "      <th>severe_toxic</th>\n",
              "      <th>obscene</th>\n",
              "      <th>threat</th>\n",
              "      <th>insult</th>\n",
              "      <th>identity_hate</th>\n",
              "    </tr>\n",
              "  </thead>\n",
              "  <tbody>\n",
              "    <tr>\n",
              "      <th>0</th>\n",
              "      <td>0000997932d777bf</td>\n",
              "      <td>Explanation\\nWhy the edits made under my usern...</td>\n",
              "      <td>0</td>\n",
              "      <td>0</td>\n",
              "      <td>0</td>\n",
              "      <td>0</td>\n",
              "      <td>0</td>\n",
              "      <td>0</td>\n",
              "    </tr>\n",
              "    <tr>\n",
              "      <th>1</th>\n",
              "      <td>000103f0d9cfb60f</td>\n",
              "      <td>D'aww! He matches this background colour I'm s...</td>\n",
              "      <td>0</td>\n",
              "      <td>0</td>\n",
              "      <td>0</td>\n",
              "      <td>0</td>\n",
              "      <td>0</td>\n",
              "      <td>0</td>\n",
              "    </tr>\n",
              "    <tr>\n",
              "      <th>2</th>\n",
              "      <td>000113f07ec002fd</td>\n",
              "      <td>Hey man, I'm really not trying to edit war. It...</td>\n",
              "      <td>0</td>\n",
              "      <td>0</td>\n",
              "      <td>0</td>\n",
              "      <td>0</td>\n",
              "      <td>0</td>\n",
              "      <td>0</td>\n",
              "    </tr>\n",
              "    <tr>\n",
              "      <th>3</th>\n",
              "      <td>0001b41b1c6bb37e</td>\n",
              "      <td>\"\\nMore\\nI can't make any real suggestions on ...</td>\n",
              "      <td>0</td>\n",
              "      <td>0</td>\n",
              "      <td>0</td>\n",
              "      <td>0</td>\n",
              "      <td>0</td>\n",
              "      <td>0</td>\n",
              "    </tr>\n",
              "    <tr>\n",
              "      <th>4</th>\n",
              "      <td>0001d958c54c6e35</td>\n",
              "      <td>You, sir, are my hero. Any chance you remember...</td>\n",
              "      <td>0</td>\n",
              "      <td>0</td>\n",
              "      <td>0</td>\n",
              "      <td>0</td>\n",
              "      <td>0</td>\n",
              "      <td>0</td>\n",
              "    </tr>\n",
              "  </tbody>\n",
              "</table>\n",
              "</div>"
            ],
            "text/plain": [
              "                 id  ... identity_hate\n",
              "0  0000997932d777bf  ...             0\n",
              "1  000103f0d9cfb60f  ...             0\n",
              "2  000113f07ec002fd  ...             0\n",
              "3  0001b41b1c6bb37e  ...             0\n",
              "4  0001d958c54c6e35  ...             0\n",
              "\n",
              "[5 rows x 8 columns]"
            ]
          },
          "metadata": {
            "tags": []
          },
          "execution_count": 42
        }
      ]
    },
    {
      "cell_type": "code",
      "metadata": {
        "id": "uoc3ZyCat30U"
      },
      "source": [
        "stop_words = set(stopwords.words('english'))\n",
        "# function to preprocess and remove stopwords\n",
        "def preprocess(text):\n",
        "  no_stops = []\n",
        "  sent = text.lower()\n",
        "  sent = re.sub(r\"[^a-zA-Z]\",\" \",sent)    # removes all characters except alphabets\n",
        "  sent = re.sub(r'\\s+', ' ', sent)       # removes extra white spaces\n",
        "  #sent = str(text)\n",
        "  for w in sent.split():\n",
        "    if not w in stop_words:\n",
        "      no_stops.append(w)\n",
        "  long_words = [word for word in no_stops if len(word)>3]\n",
        "  return (\" \".join(long_words))"
      ],
      "execution_count": null,
      "outputs": []
    },
    {
      "cell_type": "code",
      "metadata": {
        "id": "Zj6rRCTDuJs9"
      },
      "source": [
        "data = toxic_data.copy()\n",
        "data['cleaned_comments'] = data['comment_text'].apply(lambda x: preprocess(str(x)))\n",
        "#lemmatizer = WordNetLemmatizer()\n",
        "#data['cleaned_comments'] = data['cleaned_comments'].apply(lambda x: lemmatizer.lemmatize(word) for word in x.split(' '))"
      ],
      "execution_count": null,
      "outputs": []
    },
    {
      "cell_type": "code",
      "metadata": {
        "colab": {
          "base_uri": "https://localhost:8080/"
        },
        "id": "uEbfpVOWuwU2",
        "outputId": "1bbe6519-08cf-4c02-baae-9f71682f6f74"
      },
      "source": [
        "data.cleaned_comments[:10]"
      ],
      "execution_count": null,
      "outputs": [
        {
          "output_type": "execute_result",
          "data": {
            "text/plain": [
              "0    explanation edits made username hardcore metal...\n",
              "1    matches background colour seemingly stuck than...\n",
              "2    really trying edit constantly removing relevan...\n",
              "3    make real suggestions improvement wondered sec...\n",
              "4                            hero chance remember page\n",
              "5                 congratulations well tools well talk\n",
              "6                          cocksucker piss around work\n",
              "7    vandalism matt shirvington article reverted pl...\n",
              "8    sorry word nonsense offensive anyway intending...\n",
              "9                 alignment subject contrary dulithgow\n",
              "Name: cleaned_comments, dtype: object"
            ]
          },
          "metadata": {
            "tags": []
          },
          "execution_count": 46
        }
      ]
    },
    {
      "cell_type": "code",
      "metadata": {
        "colab": {
          "base_uri": "https://localhost:8080/"
        },
        "id": "t479gSjTxofO",
        "outputId": "d1e827a9-bc7e-4c3a-d99b-4c51794d0dd7"
      },
      "source": [
        "len(sentences)"
      ],
      "execution_count": null,
      "outputs": [
        {
          "output_type": "execute_result",
          "data": {
            "text/plain": [
              "700887"
            ]
          },
          "metadata": {
            "tags": []
          },
          "execution_count": 48
        }
      ]
    },
    {
      "cell_type": "code",
      "metadata": {
        "colab": {
          "base_uri": "https://localhost:8080/"
        },
        "id": "VmgN6SPKyAHH",
        "outputId": "2c86ceaf-3a46-441e-9d3d-85ec44d0afd0"
      },
      "source": [
        "data['cleaned_comments'] = data['cleaned_comments'].apply(lambda x:[word for word in x.split(' ')])\n",
        "data.cleaned_comments[:19]"
      ],
      "execution_count": null,
      "outputs": [
        {
          "output_type": "execute_result",
          "data": {
            "text/plain": [
              "0     [explanation, edits, made, username, hardcore,...\n",
              "1     [matches, background, colour, seemingly, stuck...\n",
              "2     [really, trying, edit, constantly, removing, r...\n",
              "3     [make, real, suggestions, improvement, wondere...\n",
              "4                        [hero, chance, remember, page]\n",
              "5            [congratulations, well, tools, well, talk]\n",
              "6                      [cocksucker, piss, around, work]\n",
              "7     [vandalism, matt, shirvington, article, revert...\n",
              "8     [sorry, word, nonsense, offensive, anyway, int...\n",
              "9             [alignment, subject, contrary, dulithgow]\n",
              "10    [fair, rationale, image, wonju, thanks, upload...\n",
              "11                        [lets, discuss, maybe, phone]\n",
              "12    [talk, exclusive, group, talibans, good, destr...\n",
              "13    [start, throwing, accusations, warnings, lets,...\n",
              "14    [girl, started, arguments, stuck, nose, belong...\n",
              "15    [juelz, santanas, juelz, santana, years, came,...\n",
              "16           [look, come, think, comming, back, tosser]\n",
              "17    [redirect, talk, voydan, georgiev, chernodrinski]\n",
              "18    [mitsurugi, point, made, sense, argue, include...\n",
              "Name: cleaned_comments, dtype: object"
            ]
          },
          "metadata": {
            "tags": []
          },
          "execution_count": 49
        }
      ]
    },
    {
      "cell_type": "code",
      "metadata": {
        "id": "vl4C8gh0zvUB"
      },
      "source": [
        "## This is multilabel data i.e each comment can have one or more label ot none at all. There are five label/category\n",
        "## of toxic comments. i will create data for each category.\n",
        "\n",
        "severe_toxics = data.loc[data['severe_toxic']==1]\n",
        "toxic = data.loc[data['toxic']==1]\n",
        "obscene = data.loc[data['obscene']==1]\n",
        "insult = data.loc[data['insult']==1]\n",
        "identity_hate = data.loc[data['identity_hate']==1]"
      ],
      "execution_count": null,
      "outputs": []
    },
    {
      "cell_type": "code",
      "metadata": {
        "colab": {
          "base_uri": "https://localhost:8080/"
        },
        "id": "_mVatEtdA5B3",
        "outputId": "b04bc193-3dc5-4b84-b590-d39c7c16b91c"
      },
      "source": [
        "severe_toxics.cleaned_comments"
      ],
      "execution_count": null,
      "outputs": [
        {
          "output_type": "execute_result",
          "data": {
            "text/plain": [
              "6                          [cocksucker, piss, around, work]\n",
              "55        [stupid, peace, shit, stop, deleting, stuff, a...\n",
              "181                    [stupid, fuck, mother, cunt, stinks]\n",
              "442                                        [fucking, bitch]\n",
              "579       [motherfucking, piece, crap, fuckheads, blocking]\n",
              "                                ...                        \n",
              "159096    [filthy, stinking, crow, back, dirty, crow, be...\n",
              "159099    [fucking, pathetic, moron, jimbo, wales, rootm...\n",
              "159281              [never, know, good, feels, fuck, woman]\n",
              "159312    [walter, mercado, antonio, quite, frankly, fuc...\n",
              "159400    [shalom, semite, fuck, kill, bitch, leave, wik...\n",
              "Name: cleaned_comments, Length: 1595, dtype: object"
            ]
          },
          "metadata": {
            "tags": []
          },
          "execution_count": 51
        }
      ]
    },
    {
      "cell_type": "code",
      "metadata": {
        "id": "Z_Cbxf6x3TDx"
      },
      "source": [
        "## make a list of all tokens in severe_toxic label.\n",
        "all_severe_toxic_tokens = [token for token_sublist in list(severe_toxics.cleaned_comments) for token in token_sublist ]"
      ],
      "execution_count": null,
      "outputs": []
    },
    {
      "cell_type": "code",
      "metadata": {
        "colab": {
          "base_uri": "https://localhost:8080/"
        },
        "id": "WNFRsCY83VbR",
        "outputId": "1a2bfdec-718e-4c9a-e870-9c07284acac0"
      },
      "source": [
        "len(all_severe_toxic_tokens)"
      ],
      "execution_count": null,
      "outputs": [
        {
          "output_type": "execute_result",
          "data": {
            "text/plain": [
              "64458"
            ]
          },
          "metadata": {
            "tags": []
          },
          "execution_count": 53
        }
      ]
    },
    {
      "cell_type": "code",
      "metadata": {
        "colab": {
          "base_uri": "https://localhost:8080/"
        },
        "id": "FFHH6OfcDtgg",
        "outputId": "e60b56b4-1ec8-4aa0-bf8f-73207f01c238"
      },
      "source": [
        "# find frequency distribution of each tokens.\n",
        "freq_dist = nltk.FreqDist(all_severe_toxic_tokens)          # frequency of each tokens\n",
        "freq_dist.most_common(100)"
      ],
      "execution_count": null,
      "outputs": [
        {
          "output_type": "execute_result",
          "data": {
            "text/plain": [
              "[('fuck', 7304),\n",
              " ('suck', 2535),\n",
              " ('shit', 1885),\n",
              " ('faggot', 1571),\n",
              " ('fucking', 1456),\n",
              " ('bitch', 1113),\n",
              " ('nigger', 1012),\n",
              " ('sucks', 961),\n",
              " ('cunt', 834),\n",
              " ('wikipedia', 774),\n",
              " ('cock', 681),\n",
              " ('fucksex', 624),\n",
              " ('yourselfgo', 621),\n",
              " ('dick', 596),\n",
              " ('fucker', 588),\n",
              " ('kill', 580),\n",
              " ('asshole', 522),\n",
              " ('cocksucker', 510),\n",
              " ('piece', 502),\n",
              " ('penis', 490),\n",
              " ('mothjer', 489),\n",
              " ('bastard', 481),\n",
              " ('bitches', 430),\n",
              " ('huge', 424),\n",
              " ('shut', 407),\n",
              " ('damn', 398),\n",
              " ('rape', 383),\n",
              " ('stupid', 369),\n",
              " ('offfuck', 360),\n",
              " ('mexicans', 358),\n",
              " ('anal', 350),\n",
              " ('hanibal', 348),\n",
              " ('assad', 347),\n",
              " ('like', 341),\n",
              " ('niggas', 337),\n",
              " ('dickhead', 337),\n",
              " ('pussy', 332),\n",
              " ('idiot', 320),\n",
              " ('block', 318),\n",
              " ('bush', 294),\n",
              " ('wiki', 286),\n",
              " ('criminalwar', 279),\n",
              " ('bunksteve', 278),\n",
              " ('going', 273),\n",
              " ('cocksucking', 272),\n",
              " ('small', 264),\n",
              " ('chester', 261),\n",
              " ('marcolfuck', 260),\n",
              " ('want', 259),\n",
              " ('mother', 241),\n",
              " ('cocks', 233),\n",
              " ('fack', 232),\n",
              " ('useless', 231),\n",
              " ('homeland', 229),\n",
              " ('notrhbysouthbanof', 228),\n",
              " ('securityfuck', 227),\n",
              " ('page', 224),\n",
              " ('hate', 224),\n",
              " ('whore', 220),\n",
              " ('admins', 214),\n",
              " ('veggietales', 212),\n",
              " ('jewish', 211),\n",
              " ('ancestryfuck', 208),\n",
              " ('cunts', 205),\n",
              " ('moron', 198),\n",
              " ('loves', 189),\n",
              " ('shitfuck', 182),\n",
              " ('anthony', 181),\n",
              " ('bradbury', 181),\n",
              " ('atheist', 178),\n",
              " ('fuckin', 172),\n",
              " ('must', 170),\n",
              " ('person', 169),\n",
              " ('fired', 169),\n",
              " ('life', 166),\n",
              " ('keep', 162),\n",
              " ('people', 157),\n",
              " ('wales', 157),\n",
              " ('know', 153),\n",
              " ('talk', 153),\n",
              " ('drink', 149),\n",
              " ('bleachanhero', 148),\n",
              " ('lick', 143),\n",
              " ('bitchmattythewhite', 139),\n",
              " ('thanks', 135),\n",
              " ('hell', 133),\n",
              " ('edits', 131),\n",
              " ('user', 130),\n",
              " ('haahhahahah', 128),\n",
              " ('yaaa', 128),\n",
              " ('yaaaa', 128),\n",
              " ('nice', 126),\n",
              " ('loser', 126),\n",
              " ('nigga', 125),\n",
              " ('come', 124),\n",
              " ('arse', 124),\n",
              " ('dirty', 124),\n",
              " ('takes', 119),\n",
              " ('work', 115),\n",
              " ('give', 112)]"
            ]
          },
          "metadata": {
            "tags": []
          },
          "execution_count": 54
        }
      ]
    },
    {
      "cell_type": "code",
      "metadata": {
        "colab": {
          "base_uri": "https://localhost:8080/"
        },
        "id": "VmLTYBxi-o0j",
        "outputId": "336d92f9-f365-4b36-f000-2d351f55faea"
      },
      "source": [
        "### Label/Category : toxic\n",
        "all_toxic_tokens = [token for token_sublist in list(toxic.cleaned_comments) for token in token_sublist ]\n",
        "print(\"Total no. of tokens: \",len(all_toxic_tokens))\n",
        "freq_dist = nltk.FreqDist(all_toxic_tokens)          # frequency of each tokens\n",
        "freq_dist.most_common(100)"
      ],
      "execution_count": null,
      "outputs": [
        {
          "output_type": "stream",
          "text": [
            "Total no. of tokens:  365122\n"
          ],
          "name": "stdout"
        },
        {
          "output_type": "execute_result",
          "data": {
            "text/plain": [
              "[('fuck', 9939),\n",
              " ('wikipedia', 3686),\n",
              " ('shit', 3624),\n",
              " ('like', 3512),\n",
              " ('nigger', 3300),\n",
              " ('fucking', 3289),\n",
              " ('suck', 3235),\n",
              " ('hate', 2631),\n",
              " ('know', 2201),\n",
              " ('page', 2150),\n",
              " ('faggot', 2017),\n",
              " ('people', 1874),\n",
              " ('moron', 1862),\n",
              " ('bitch', 1787),\n",
              " ('cunt', 1544),\n",
              " ('talk', 1499),\n",
              " ('sucks', 1443),\n",
              " ('stupid', 1439),\n",
              " ('wiki', 1438),\n",
              " ('stop', 1420),\n",
              " ('article', 1395),\n",
              " ('user', 1361),\n",
              " ('dick', 1304),\n",
              " ('penis', 1239),\n",
              " ('think', 1236),\n",
              " ('want', 1220),\n",
              " ('bullshit', 1139),\n",
              " ('life', 1093),\n",
              " ('block', 1089),\n",
              " ('time', 1064),\n",
              " ('asshole', 1044),\n",
              " ('wanker', 1035),\n",
              " ('right', 1032),\n",
              " ('dont', 1031),\n",
              " ('would', 1021),\n",
              " ('even', 1007),\n",
              " ('bark', 1001),\n",
              " ('balls', 1000),\n",
              " ('make', 952),\n",
              " ('vandalism', 951),\n",
              " ('idiot', 951),\n",
              " ('going', 947),\n",
              " ('cock', 940),\n",
              " ('edit', 937),\n",
              " ('please', 920),\n",
              " ('little', 851),\n",
              " ('piece', 844),\n",
              " ('nipple', 825),\n",
              " ('really', 816),\n",
              " ('kill', 796),\n",
              " ('good', 793),\n",
              " ('hell', 790),\n",
              " ('aids', 784),\n",
              " ('dickhead', 765),\n",
              " ('bastard', 754),\n",
              " ('fucker', 742),\n",
              " ('also', 737),\n",
              " ('care', 735),\n",
              " ('well', 729),\n",
              " ('admin', 723),\n",
              " ('shut', 721),\n",
              " ('back', 699),\n",
              " ('edits', 696),\n",
              " ('nothing', 692),\n",
              " ('give', 678),\n",
              " ('damn', 678),\n",
              " ('faggots', 676),\n",
              " ('freedom', 651),\n",
              " ('loser', 642),\n",
              " ('come', 641),\n",
              " ('take', 641),\n",
              " ('love', 640),\n",
              " ('blocked', 629),\n",
              " ('need', 627),\n",
              " ('fucksex', 624),\n",
              " ('said', 622),\n",
              " ('yourselfgo', 621),\n",
              " ('rape', 606),\n",
              " ('tell', 598),\n",
              " ('never', 593),\n",
              " ('keep', 589),\n",
              " ('homo', 584),\n",
              " ('mother', 573),\n",
              " ('ever', 571),\n",
              " ('person', 570),\n",
              " ('huge', 569),\n",
              " ('still', 566),\n",
              " ('real', 564),\n",
              " ('cocksucker', 550),\n",
              " ('look', 537),\n",
              " ('editing', 534),\n",
              " ('super', 527),\n",
              " ('anything', 526),\n",
              " ('delete', 516),\n",
              " ('poop', 504),\n",
              " ('articles', 504),\n",
              " ('hitler', 504),\n",
              " ('information', 501),\n",
              " ('work', 499),\n",
              " ('buttsecks', 498)]"
            ]
          },
          "metadata": {
            "tags": []
          },
          "execution_count": 55
        }
      ]
    },
    {
      "cell_type": "code",
      "metadata": {
        "colab": {
          "base_uri": "https://localhost:8080/"
        },
        "id": "KPP7u_0lKNHJ",
        "outputId": "4c17675b-e3da-4abb-e302-fcd6e458f676"
      },
      "source": [
        "## Label/Category: obscene\n",
        "all_obscene_tokens = [token for token_sublist in list(obscene.cleaned_comments) for token in token_sublist ]\n",
        "print(\"Total no. of tokens: \",len(all_obscene_tokens))\n",
        "freq_dist = nltk.FreqDist(all_obscene_tokens)          # frequency of each tokens\n",
        "freq_dist.most_common(100)"
      ],
      "execution_count": null,
      "outputs": [
        {
          "output_type": "stream",
          "text": [
            "Total no. of tokens:  202371\n"
          ],
          "name": "stdout"
        },
        {
          "output_type": "execute_result",
          "data": {
            "text/plain": [
              "[('fuck', 9864),\n",
              " ('shit', 3214),\n",
              " ('fucking', 3192),\n",
              " ('suck', 3021),\n",
              " ('nigger', 2727),\n",
              " ('wikipedia', 1911),\n",
              " ('bitch', 1797),\n",
              " ('like', 1541),\n",
              " ('cunt', 1533),\n",
              " ('dick', 1258),\n",
              " ('faggot', 1223),\n",
              " ('know', 1178),\n",
              " ('bullshit', 1086),\n",
              " ('page', 1084),\n",
              " ('penis', 1076),\n",
              " ('sucks', 1068),\n",
              " ('asshole', 1009),\n",
              " ('stupid', 953),\n",
              " ('cock', 924),\n",
              " ('hate', 835),\n",
              " ('people', 825),\n",
              " ('nipple', 824),\n",
              " ('user', 782),\n",
              " ('talk', 777),\n",
              " ('fucker', 726),\n",
              " ('dickhead', 712),\n",
              " ('article', 690),\n",
              " ('bastard', 690),\n",
              " ('piece', 682),\n",
              " ('faggots', 670),\n",
              " ('right', 654),\n",
              " ('block', 654),\n",
              " ('stop', 645),\n",
              " ('want', 641),\n",
              " ('idiot', 633),\n",
              " ('fucksex', 624),\n",
              " ('life', 622),\n",
              " ('yourselfgo', 621),\n",
              " ('think', 617),\n",
              " ('wiki', 617),\n",
              " ('freedom', 602),\n",
              " ('damn', 600),\n",
              " ('shut', 590),\n",
              " ('twat', 577),\n",
              " ('going', 575),\n",
              " ('edit', 549),\n",
              " ('cocksucker', 547),\n",
              " ('huge', 541),\n",
              " ('time', 523),\n",
              " ('little', 502),\n",
              " ('buttsecks', 497),\n",
              " ('would', 495),\n",
              " ('mothjer', 489),\n",
              " ('mother', 475),\n",
              " ('bitches', 475),\n",
              " ('make', 471),\n",
              " ('even', 462),\n",
              " ('kill', 460),\n",
              " ('poop', 456),\n",
              " ('pussy', 452),\n",
              " ('bastered', 449),\n",
              " ('please', 439),\n",
              " ('give', 431),\n",
              " ('rape', 420),\n",
              " ('love', 406),\n",
              " ('dont', 395),\n",
              " ('really', 392),\n",
              " ('anal', 389),\n",
              " ('assad', 388),\n",
              " ('edits', 386),\n",
              " ('come', 384),\n",
              " ('said', 382),\n",
              " ('boobs', 373),\n",
              " ('hell', 370),\n",
              " ('good', 368),\n",
              " ('fuckin', 366),\n",
              " ('mexicans', 363),\n",
              " ('back', 360),\n",
              " ('offfuck', 360),\n",
              " ('hanibal', 358),\n",
              " ('take', 357),\n",
              " ('well', 357),\n",
              " ('niggas', 344),\n",
              " ('nothing', 341),\n",
              " ('also', 331),\n",
              " ('cocks', 330),\n",
              " ('bollocks', 327),\n",
              " ('still', 324),\n",
              " ('admins', 311),\n",
              " ('notrhbysouthbanof', 308),\n",
              " ('information', 307),\n",
              " ('guys', 305),\n",
              " ('dumb', 305),\n",
              " ('small', 305),\n",
              " ('tell', 300),\n",
              " ('person', 299),\n",
              " ('ever', 297),\n",
              " ('blocked', 296),\n",
              " ('never', 288),\n",
              " ('vandalism', 287)]"
            ]
          },
          "metadata": {
            "tags": []
          },
          "execution_count": 56
        }
      ]
    },
    {
      "cell_type": "code",
      "metadata": {
        "colab": {
          "base_uri": "https://localhost:8080/"
        },
        "id": "ZPcs8cuIKxwh",
        "outputId": "e77b9c5e-28d7-4429-dc91-4a6898189ecb"
      },
      "source": [
        "## Label/Category: insult\n",
        "all_insult_tokens = [token for token_sublist in list(insult.cleaned_comments) for token in token_sublist ]\n",
        "print(\"Total no. of tokens: \",len(all_insult_tokens))\n",
        "freq_dist = nltk.FreqDist(all_insult_tokens)          # frequency of each tokens\n",
        "freq_dist.most_common(100)"
      ],
      "execution_count": null,
      "outputs": [
        {
          "output_type": "stream",
          "text": [
            "Total no. of tokens:  179359\n"
          ],
          "name": "stdout"
        },
        {
          "output_type": "execute_result",
          "data": {
            "text/plain": [
              "[('fuck', 7929),\n",
              " ('fucking', 2799),\n",
              " ('suck', 2792),\n",
              " ('nigger', 2781),\n",
              " ('faggot', 1867),\n",
              " ('bitch', 1735),\n",
              " ('shit', 1691),\n",
              " ('like', 1565),\n",
              " ('moron', 1458),\n",
              " ('cunt', 1443),\n",
              " ('wikipedia', 1433),\n",
              " ('hate', 1386),\n",
              " ('know', 1162),\n",
              " ('stupid', 1068),\n",
              " ('dick', 1046),\n",
              " ('asshole', 957),\n",
              " ('sucks', 954),\n",
              " ('page', 923),\n",
              " ('people', 825),\n",
              " ('idiot', 811),\n",
              " ('piece', 712),\n",
              " ('dickhead', 709),\n",
              " ('fucker', 699),\n",
              " ('want', 697),\n",
              " ('cock', 689),\n",
              " ('life', 679),\n",
              " ('faggots', 665),\n",
              " ('bastard', 640),\n",
              " ('stop', 635),\n",
              " ('yourselfgo', 621),\n",
              " ('block', 605),\n",
              " ('freedom', 605),\n",
              " ('user', 596),\n",
              " ('think', 580),\n",
              " ('twat', 576),\n",
              " ('cocksucker', 543),\n",
              " ('huge', 532),\n",
              " ('article', 530),\n",
              " ('damn', 526),\n",
              " ('right', 521),\n",
              " ('little', 515),\n",
              " ('talk', 491),\n",
              " ('mothjer', 489),\n",
              " ('time', 480),\n",
              " ('bitches', 468),\n",
              " ('wiki', 459),\n",
              " ('admin', 452),\n",
              " ('hell', 449),\n",
              " ('bastered', 449),\n",
              " ('would', 447),\n",
              " ('penis', 441),\n",
              " ('mother', 440),\n",
              " ('make', 430),\n",
              " ('edit', 414),\n",
              " ('pussy', 404),\n",
              " ('even', 404),\n",
              " ('edits', 374),\n",
              " ('come', 363),\n",
              " ('mexicans', 363),\n",
              " ('really', 358),\n",
              " ('dont', 356),\n",
              " ('assad', 354),\n",
              " ('give', 353),\n",
              " ('please', 349),\n",
              " ('fggt', 349),\n",
              " ('hanibal', 349),\n",
              " ('fuckin', 346),\n",
              " ('niggas', 344),\n",
              " ('love', 340),\n",
              " ('good', 337),\n",
              " ('shut', 329),\n",
              " ('said', 329),\n",
              " ('dumb', 329),\n",
              " ('going', 327),\n",
              " ('cocks', 325),\n",
              " ('keep', 324),\n",
              " ('fool', 323),\n",
              " ('well', 322),\n",
              " ('take', 320),\n",
              " ('person', 319),\n",
              " ('back', 315),\n",
              " ('loser', 308),\n",
              " ('notrhbysouthbanof', 308),\n",
              " ('small', 307),\n",
              " ('nothing', 306),\n",
              " ('still', 302),\n",
              " ('ever', 299),\n",
              " ('admins', 293),\n",
              " ('wanker', 293),\n",
              " ('information', 290),\n",
              " ('guys', 286),\n",
              " ('cocksucking', 286),\n",
              " ('real', 284),\n",
              " ('also', 282),\n",
              " ('never', 278),\n",
              " ('need', 278),\n",
              " ('bunksteve', 278),\n",
              " ('useless', 276),\n",
              " ('whore', 273),\n",
              " ('delete', 272)]"
            ]
          },
          "metadata": {
            "tags": []
          },
          "execution_count": 57
        }
      ]
    },
    {
      "cell_type": "code",
      "metadata": {
        "colab": {
          "base_uri": "https://localhost:8080/"
        },
        "id": "AjpTjql43IoN",
        "outputId": "870146d4-6651-42f3-d83e-d483315d69d3"
      },
      "source": [
        "## Label/Category: identity_hate\n",
        "all_identityhate_tokens = [token for token_sublist in list(identity_hate.cleaned_comments) for token in token_sublist ]\n",
        "print(\"Total no. of tokens: \",len(all_identityhate_tokens))\n",
        "freq_dist = nltk.FreqDist(all_identityhate_tokens)          # frequency of each tokens\n",
        "freq_dist.most_common(100)"
      ],
      "execution_count": null,
      "outputs": [
        {
          "output_type": "stream",
          "text": [
            "Total no. of tokens:  35922\n"
          ],
          "name": "stdout"
        },
        {
          "output_type": "execute_result",
          "data": {
            "text/plain": [
              "[('nigger', 2969),\n",
              " ('fuck', 880),\n",
              " ('faggot', 742),\n",
              " ('fucking', 518),\n",
              " ('huge', 430),\n",
              " ('suck', 427),\n",
              " ('shit', 410),\n",
              " ('stupid', 396),\n",
              " ('cunt', 394),\n",
              " ('like', 384),\n",
              " ('mexicans', 365),\n",
              " ('bitch', 349),\n",
              " ('niggas', 342),\n",
              " ('hate', 291),\n",
              " ('bunksteve', 278),\n",
              " ('jewish', 248),\n",
              " ('wikipedia', 234),\n",
              " ('tommy', 230),\n",
              " ('ancestryfuck', 208),\n",
              " ('kill', 197),\n",
              " ('jews', 184),\n",
              " ('spanish', 182),\n",
              " ('people', 181),\n",
              " ('licker', 181),\n",
              " ('centraliststupid', 179),\n",
              " ('piece', 171),\n",
              " ('nigga', 170),\n",
              " ('keep', 167),\n",
              " ('drink', 151),\n",
              " ('bleachanhero', 148),\n",
              " ('user', 135),\n",
              " ('dick', 128),\n",
              " ('homo', 125),\n",
              " ('page', 124),\n",
              " ('niggers', 119),\n",
              " ('know', 118),\n",
              " ('real', 114),\n",
              " ('wiki', 110),\n",
              " ('make', 105),\n",
              " ('think', 105),\n",
              " ('stop', 102),\n",
              " ('right', 100),\n",
              " ('would', 99),\n",
              " ('little', 98),\n",
              " ('life', 95),\n",
              " ('want', 94),\n",
              " ('cody', 93),\n",
              " ('edie', 90),\n",
              " ('mitt', 89),\n",
              " ('romney', 89),\n",
              " ('racist', 87),\n",
              " ('american', 86),\n",
              " ('cline', 86),\n",
              " ('love', 83),\n",
              " ('dont', 82),\n",
              " ('white', 81),\n",
              " ('minorities', 81),\n",
              " ('chink', 80),\n",
              " ('spics', 80),\n",
              " ('good', 78),\n",
              " ('sucks', 78),\n",
              " ('block', 76),\n",
              " ('cocksucking', 76),\n",
              " ('jforget', 71),\n",
              " ('stephen', 71),\n",
              " ('nazi', 70),\n",
              " ('even', 69),\n",
              " ('scum', 69),\n",
              " ('asian', 69),\n",
              " ('shitty', 69),\n",
              " ('hawkinghttp', 69),\n",
              " ('also', 65),\n",
              " ('come', 64),\n",
              " ('said', 63),\n",
              " ('homosexual', 63),\n",
              " ('john', 62),\n",
              " ('world', 61),\n",
              " ('making', 61),\n",
              " ('cock', 58),\n",
              " ('time', 58),\n",
              " ('still', 57),\n",
              " ('article', 57),\n",
              " ('please', 56),\n",
              " ('couriano', 56),\n",
              " ('back', 55),\n",
              " ('ever', 55),\n",
              " ('hell', 54),\n",
              " ('black', 54),\n",
              " ('anti', 53),\n",
              " ('give', 53),\n",
              " ('fuckin', 53),\n",
              " ('pussy', 52),\n",
              " ('edit', 52),\n",
              " ('nothing', 52),\n",
              " ('need', 51),\n",
              " ('bush', 51),\n",
              " ('talk', 50),\n",
              " ('going', 50),\n",
              " ('well', 50),\n",
              " ('really', 50)]"
            ]
          },
          "metadata": {
            "tags": []
          },
          "execution_count": 58
        }
      ]
    },
    {
      "cell_type": "code",
      "metadata": {
        "id": "e-Uw8yBY50KE"
      },
      "source": [
        ""
      ],
      "execution_count": null,
      "outputs": []
    },
    {
      "cell_type": "markdown",
      "metadata": {
        "id": "NxMt-E365mYD"
      },
      "source": [
        "**Now concate all datas above of all toxic categories into single dataframe**"
      ]
    },
    {
      "cell_type": "code",
      "metadata": {
        "colab": {
          "base_uri": "https://localhost:8080/"
        },
        "id": "WoigOb2fMNE0",
        "outputId": "ce3a5c05-33bd-4f97-a041-40532d9ad0b2"
      },
      "source": [
        "toxic_df = pd.concat([toxic,severe_toxics,insult,obscene,identity_hate])\n",
        "print('Initial shape: ',toxic_df.shape)\n",
        "toxic_df.drop_duplicates(subset='comment_text', inplace=True)  # drop duplicate data\n",
        "print('Shape after droping duplicates : ',toxic_df.shape)"
      ],
      "execution_count": null,
      "outputs": [
        {
          "output_type": "stream",
          "text": [
            "Initial shape:  (34620, 9)\n",
            "Shape after droping duplicates :  (16203, 9)\n"
          ],
          "name": "stdout"
        }
      ]
    },
    {
      "cell_type": "code",
      "metadata": {
        "id": "ONbR_Boju4x0"
      },
      "source": [
        "## We are going to create the list of sentences from above data \n",
        "\n",
        "sentences = toxic_df['comment_text'].apply(lambda x:[sent_tokenize(x)])\n",
        "\n",
        "#flattening the list of list into single list.\n",
        "sentences = [sent for sublist in sentences for sent in sublist]\n",
        "sentences = [sent for sublist in sentences for sent in sublist]\n",
        "\n",
        "# removing new line characters from sentences\n",
        "sentences = [re.sub(r\"\\n\",\" \",sent) for sent in sentences]\n",
        "sentences = [re.sub(r'\\s+', ' ', sent) for sent in sentences ]\n",
        "sentences = [sent.lower() for sent in sentences]"
      ],
      "execution_count": null,
      "outputs": []
    },
    {
      "cell_type": "code",
      "metadata": {
        "colab": {
          "base_uri": "https://localhost:8080/"
        },
        "id": "EYC2_aYia4Wt",
        "outputId": "aaec4864-f396-4024-85ad-7e6c29b60755"
      },
      "source": [
        "len(sentences)  # number of sentences "
      ],
      "execution_count": null,
      "outputs": [
        {
          "output_type": "execute_result",
          "data": {
            "text/plain": [
              "70226"
            ]
          },
          "metadata": {
            "tags": []
          },
          "execution_count": 67
        }
      ]
    },
    {
      "cell_type": "code",
      "metadata": {
        "colab": {
          "base_uri": "https://localhost:8080/"
        },
        "id": "fcdfUGQv02xI",
        "outputId": "37041b17-92df-44cd-ac02-a0ccf32e8edd"
      },
      "source": [
        "all_tokens = [token for token_sublist in list(toxic_df.cleaned_comments) for token in token_sublist ]\n",
        "len(all_tokens)"
      ],
      "execution_count": null,
      "outputs": [
        {
          "output_type": "execute_result",
          "data": {
            "text/plain": [
              "396712"
            ]
          },
          "metadata": {
            "tags": []
          },
          "execution_count": 68
        }
      ]
    },
    {
      "cell_type": "code",
      "metadata": {
        "id": "Zs-mnsqyWCrw"
      },
      "source": [
        "#from pattern.text.en import singularize\n",
        "#all_tokens = [singularize(token) for token in all_tokens]"
      ],
      "execution_count": null,
      "outputs": []
    },
    {
      "cell_type": "code",
      "metadata": {
        "colab": {
          "base_uri": "https://localhost:8080/"
        },
        "id": "WhrdyCbYW8en",
        "outputId": "53d4210f-c19b-4601-f3f5-5b9c0ce3f0d7"
      },
      "source": [
        "freq_dist = nltk.FreqDist(all_tokens)\n",
        "freq_dist.most_common(100)"
      ],
      "execution_count": null,
      "outputs": [
        {
          "output_type": "execute_result",
          "data": {
            "text/plain": [
              "[('fuck', 10004),\n",
              " ('wikipedia', 3935),\n",
              " ('like', 3805),\n",
              " ('shit', 3695),\n",
              " ('fucking', 3337),\n",
              " ('nigger', 3306),\n",
              " ('suck', 3249),\n",
              " ('hate', 2655),\n",
              " ('page', 2382),\n",
              " ('know', 2363),\n",
              " ('people', 2069),\n",
              " ('faggot', 2028),\n",
              " ('moron', 1886),\n",
              " ('bitch', 1841),\n",
              " ('talk', 1646),\n",
              " ('cunt', 1574),\n",
              " ('article', 1574),\n",
              " ('user', 1526),\n",
              " ('stop', 1511),\n",
              " ('stupid', 1491),\n",
              " ('wiki', 1481),\n",
              " ('sucks', 1447),\n",
              " ('think', 1397),\n",
              " ('dick', 1337),\n",
              " ('want', 1304),\n",
              " ('penis', 1245),\n",
              " ('time', 1185),\n",
              " ('bullshit', 1164),\n",
              " ('would', 1160),\n",
              " ('life', 1159),\n",
              " ('block', 1152),\n",
              " ('even', 1138),\n",
              " ('right', 1109),\n",
              " ('dont', 1078),\n",
              " ('asshole', 1070),\n",
              " ('make', 1060),\n",
              " ('edit', 1056),\n",
              " ('please', 1042),\n",
              " ('wanker', 1037),\n",
              " ('going', 1010),\n",
              " ('balls', 1005),\n",
              " ('bark', 1001),\n",
              " ('vandalism', 994),\n",
              " ('idiot', 988),\n",
              " ('cock', 951),\n",
              " ('little', 914),\n",
              " ('really', 901),\n",
              " ('good', 864),\n",
              " ('piece', 852),\n",
              " ('also', 833),\n",
              " ('nipple', 826),\n",
              " ('hell', 825),\n",
              " ('well', 823),\n",
              " ('kill', 804),\n",
              " ('aids', 787),\n",
              " ('dickhead', 772),\n",
              " ('back', 770),\n",
              " ('care', 767),\n",
              " ('admin', 760),\n",
              " ('bastard', 760),\n",
              " ('nothing', 752),\n",
              " ('fucker', 748),\n",
              " ('edits', 744),\n",
              " ('give', 723),\n",
              " ('shut', 722),\n",
              " ('damn', 702),\n",
              " ('take', 699),\n",
              " ('come', 696),\n",
              " ('said', 689),\n",
              " ('blocked', 687),\n",
              " ('faggots', 680),\n",
              " ('need', 679),\n",
              " ('love', 662),\n",
              " ('loser', 659),\n",
              " ('freedom', 659),\n",
              " ('never', 654),\n",
              " ('tell', 643),\n",
              " ('keep', 629),\n",
              " ('fucksex', 624),\n",
              " ('yourselfgo', 621),\n",
              " ('ever', 618),\n",
              " ('twat', 614),\n",
              " ('still', 613),\n",
              " ('person', 611),\n",
              " ('rape', 610),\n",
              " ('real', 600),\n",
              " ('look', 597),\n",
              " ('homo', 587),\n",
              " ('mother', 581),\n",
              " ('anything', 581),\n",
              " ('editing', 579),\n",
              " ('something', 575),\n",
              " ('information', 575),\n",
              " ('huge', 575),\n",
              " ('much', 571),\n",
              " ('delete', 560),\n",
              " ('articles', 557),\n",
              " ('someone', 551),\n",
              " ('cocksucker', 550),\n",
              " ('name', 545)]"
            ]
          },
          "metadata": {
            "tags": []
          },
          "execution_count": 70
        }
      ]
    },
    {
      "cell_type": "code",
      "metadata": {
        "id": "4JXtXEj9DD9A"
      },
      "source": [
        ""
      ],
      "execution_count": null,
      "outputs": []
    },
    {
      "cell_type": "markdown",
      "metadata": {
        "id": "GbYTek84EuSi"
      },
      "source": [
        "**Now creating a dataframe containing most frequently used toxic words**  \n",
        "Note: some words like 'idiot' & 'idiots', 'c#nt' & 'c#nts', 'P##sy' & 'p##sies' etc have same meaning so frequency distribution is not entirely valid until some lemmatization or stemming is performed but result given by them wasn't satisfactory. Nonetheless following words are most frequently used toxic words."
      ]
    },
    {
      "cell_type": "code",
      "metadata": {
        "colab": {
          "base_uri": "https://localhost:8080/",
          "height": 1000
        },
        "id": "JwyUnCi08gFL",
        "outputId": "2ccfedb1-0c72-4a7e-f9d6-979512129e92"
      },
      "source": [
        "toxic_words_df = pd.DataFrame(freq_dist.most_common(300), columns=['Toxic_word','Frequency'])\n",
        "selected_toxic_words = ['fuck', 'shit', 'fucking', 'nigger', 'suck', 'hate', 'faggot', 'moron', 'bitch', 'cunt', 'stupid',  'sucks', 'dick', 'penis', 'bullshit',  'block',  'asshole', 'wanker', 'balls', 'bark', 'vandalism', 'idiot', 'cock', 'nipple', 'hell',  'kill', 'dickhead', 'bastard', 'fucker', 'shut', 'faggots', 'loser', 'fucksex',  'twat', 'rape', 'cocksucker','boobs','mexicans','anal','pussy']\n",
        "toxic_words_df = toxic_words_df.loc[toxic_words_df['Toxic_word'].isin(selected_toxic_words)]\n",
        "toxic_words_df = toxic_words_df.reset_index()\n",
        "toxic_words_df = toxic_words_df.drop('index', axis=1)\n",
        "toxic_words_df = toxic_words_df.sort_values('Frequency',ascending=False)\n",
        "toxic_words_df"
      ],
      "execution_count": null,
      "outputs": [
        {
          "output_type": "execute_result",
          "data": {
            "text/html": [
              "<div>\n",
              "<style scoped>\n",
              "    .dataframe tbody tr th:only-of-type {\n",
              "        vertical-align: middle;\n",
              "    }\n",
              "\n",
              "    .dataframe tbody tr th {\n",
              "        vertical-align: top;\n",
              "    }\n",
              "\n",
              "    .dataframe thead th {\n",
              "        text-align: right;\n",
              "    }\n",
              "</style>\n",
              "<table border=\"1\" class=\"dataframe\">\n",
              "  <thead>\n",
              "    <tr style=\"text-align: right;\">\n",
              "      <th></th>\n",
              "      <th>Toxic_word</th>\n",
              "      <th>Frequency</th>\n",
              "    </tr>\n",
              "  </thead>\n",
              "  <tbody>\n",
              "    <tr>\n",
              "      <th>0</th>\n",
              "      <td>fuck</td>\n",
              "      <td>10004</td>\n",
              "    </tr>\n",
              "    <tr>\n",
              "      <th>1</th>\n",
              "      <td>shit</td>\n",
              "      <td>3695</td>\n",
              "    </tr>\n",
              "    <tr>\n",
              "      <th>2</th>\n",
              "      <td>fucking</td>\n",
              "      <td>3337</td>\n",
              "    </tr>\n",
              "    <tr>\n",
              "      <th>3</th>\n",
              "      <td>nigger</td>\n",
              "      <td>3306</td>\n",
              "    </tr>\n",
              "    <tr>\n",
              "      <th>4</th>\n",
              "      <td>suck</td>\n",
              "      <td>3249</td>\n",
              "    </tr>\n",
              "    <tr>\n",
              "      <th>5</th>\n",
              "      <td>hate</td>\n",
              "      <td>2655</td>\n",
              "    </tr>\n",
              "    <tr>\n",
              "      <th>6</th>\n",
              "      <td>faggot</td>\n",
              "      <td>2028</td>\n",
              "    </tr>\n",
              "    <tr>\n",
              "      <th>7</th>\n",
              "      <td>moron</td>\n",
              "      <td>1886</td>\n",
              "    </tr>\n",
              "    <tr>\n",
              "      <th>8</th>\n",
              "      <td>bitch</td>\n",
              "      <td>1841</td>\n",
              "    </tr>\n",
              "    <tr>\n",
              "      <th>9</th>\n",
              "      <td>cunt</td>\n",
              "      <td>1574</td>\n",
              "    </tr>\n",
              "    <tr>\n",
              "      <th>10</th>\n",
              "      <td>stupid</td>\n",
              "      <td>1491</td>\n",
              "    </tr>\n",
              "    <tr>\n",
              "      <th>11</th>\n",
              "      <td>sucks</td>\n",
              "      <td>1447</td>\n",
              "    </tr>\n",
              "    <tr>\n",
              "      <th>12</th>\n",
              "      <td>dick</td>\n",
              "      <td>1337</td>\n",
              "    </tr>\n",
              "    <tr>\n",
              "      <th>13</th>\n",
              "      <td>penis</td>\n",
              "      <td>1245</td>\n",
              "    </tr>\n",
              "    <tr>\n",
              "      <th>14</th>\n",
              "      <td>bullshit</td>\n",
              "      <td>1164</td>\n",
              "    </tr>\n",
              "    <tr>\n",
              "      <th>15</th>\n",
              "      <td>block</td>\n",
              "      <td>1152</td>\n",
              "    </tr>\n",
              "    <tr>\n",
              "      <th>16</th>\n",
              "      <td>asshole</td>\n",
              "      <td>1070</td>\n",
              "    </tr>\n",
              "    <tr>\n",
              "      <th>17</th>\n",
              "      <td>wanker</td>\n",
              "      <td>1037</td>\n",
              "    </tr>\n",
              "    <tr>\n",
              "      <th>18</th>\n",
              "      <td>balls</td>\n",
              "      <td>1005</td>\n",
              "    </tr>\n",
              "    <tr>\n",
              "      <th>19</th>\n",
              "      <td>bark</td>\n",
              "      <td>1001</td>\n",
              "    </tr>\n",
              "    <tr>\n",
              "      <th>20</th>\n",
              "      <td>vandalism</td>\n",
              "      <td>994</td>\n",
              "    </tr>\n",
              "    <tr>\n",
              "      <th>21</th>\n",
              "      <td>idiot</td>\n",
              "      <td>988</td>\n",
              "    </tr>\n",
              "    <tr>\n",
              "      <th>22</th>\n",
              "      <td>cock</td>\n",
              "      <td>951</td>\n",
              "    </tr>\n",
              "    <tr>\n",
              "      <th>23</th>\n",
              "      <td>nipple</td>\n",
              "      <td>826</td>\n",
              "    </tr>\n",
              "    <tr>\n",
              "      <th>24</th>\n",
              "      <td>hell</td>\n",
              "      <td>825</td>\n",
              "    </tr>\n",
              "    <tr>\n",
              "      <th>25</th>\n",
              "      <td>kill</td>\n",
              "      <td>804</td>\n",
              "    </tr>\n",
              "    <tr>\n",
              "      <th>26</th>\n",
              "      <td>dickhead</td>\n",
              "      <td>772</td>\n",
              "    </tr>\n",
              "    <tr>\n",
              "      <th>27</th>\n",
              "      <td>bastard</td>\n",
              "      <td>760</td>\n",
              "    </tr>\n",
              "    <tr>\n",
              "      <th>28</th>\n",
              "      <td>fucker</td>\n",
              "      <td>748</td>\n",
              "    </tr>\n",
              "    <tr>\n",
              "      <th>29</th>\n",
              "      <td>shut</td>\n",
              "      <td>722</td>\n",
              "    </tr>\n",
              "    <tr>\n",
              "      <th>30</th>\n",
              "      <td>faggots</td>\n",
              "      <td>680</td>\n",
              "    </tr>\n",
              "    <tr>\n",
              "      <th>31</th>\n",
              "      <td>loser</td>\n",
              "      <td>659</td>\n",
              "    </tr>\n",
              "    <tr>\n",
              "      <th>32</th>\n",
              "      <td>fucksex</td>\n",
              "      <td>624</td>\n",
              "    </tr>\n",
              "    <tr>\n",
              "      <th>33</th>\n",
              "      <td>twat</td>\n",
              "      <td>614</td>\n",
              "    </tr>\n",
              "    <tr>\n",
              "      <th>34</th>\n",
              "      <td>rape</td>\n",
              "      <td>610</td>\n",
              "    </tr>\n",
              "    <tr>\n",
              "      <th>35</th>\n",
              "      <td>cocksucker</td>\n",
              "      <td>550</td>\n",
              "    </tr>\n",
              "    <tr>\n",
              "      <th>36</th>\n",
              "      <td>pussy</td>\n",
              "      <td>468</td>\n",
              "    </tr>\n",
              "    <tr>\n",
              "      <th>37</th>\n",
              "      <td>anal</td>\n",
              "      <td>415</td>\n",
              "    </tr>\n",
              "    <tr>\n",
              "      <th>38</th>\n",
              "      <td>boobs</td>\n",
              "      <td>381</td>\n",
              "    </tr>\n",
              "    <tr>\n",
              "      <th>39</th>\n",
              "      <td>mexicans</td>\n",
              "      <td>370</td>\n",
              "    </tr>\n",
              "  </tbody>\n",
              "</table>\n",
              "</div>"
            ],
            "text/plain": [
              "    Toxic_word  Frequency\n",
              "0         fuck      10004\n",
              "1         shit       3695\n",
              "2      fucking       3337\n",
              "3       nigger       3306\n",
              "4         suck       3249\n",
              "5         hate       2655\n",
              "6       faggot       2028\n",
              "7        moron       1886\n",
              "8        bitch       1841\n",
              "9         cunt       1574\n",
              "10      stupid       1491\n",
              "11       sucks       1447\n",
              "12        dick       1337\n",
              "13       penis       1245\n",
              "14    bullshit       1164\n",
              "15       block       1152\n",
              "16     asshole       1070\n",
              "17      wanker       1037\n",
              "18       balls       1005\n",
              "19        bark       1001\n",
              "20   vandalism        994\n",
              "21       idiot        988\n",
              "22        cock        951\n",
              "23      nipple        826\n",
              "24        hell        825\n",
              "25        kill        804\n",
              "26    dickhead        772\n",
              "27     bastard        760\n",
              "28      fucker        748\n",
              "29        shut        722\n",
              "30     faggots        680\n",
              "31       loser        659\n",
              "32     fucksex        624\n",
              "33        twat        614\n",
              "34        rape        610\n",
              "35  cocksucker        550\n",
              "36       pussy        468\n",
              "37        anal        415\n",
              "38       boobs        381\n",
              "39    mexicans        370"
            ]
          },
          "metadata": {
            "tags": []
          },
          "execution_count": 71
        }
      ]
    },
    {
      "cell_type": "code",
      "metadata": {
        "colab": {
          "base_uri": "https://localhost:8080/",
          "height": 629
        },
        "id": "uto1CDT2bxju",
        "outputId": "2f292ce9-1bdd-4b15-f9e7-f081e9f14c44"
      },
      "source": [
        "plt.figure(figsize=(10,10))\n",
        "plt.barh(toxic_words_df['Toxic_word'],toxic_words_df['Frequency'],color='#87479d')\n",
        "plt.title('Total Frequency of toxic keywords', fontsize=18)\n",
        "plt.xlabel('Toxic words',fontsize=14)\n",
        "plt.ylabel('Total Occurance',fontsize=14)\n",
        "plt.show()"
      ],
      "execution_count": null,
      "outputs": [
        {
          "output_type": "display_data",
          "data": {
            "image/png": "[encoded data removed]",
            "text/plain": [
              "<Figure size 720x720 with 1 Axes>"
            ]
          },
          "metadata": {
            "tags": [],
            "needs_background": "light"
          }
        }
      ]
    },
    {
      "cell_type": "code",
      "metadata": {
        "id": "ZyvoSwd7cELk"
      },
      "source": [
        ""
      ],
      "execution_count": null,
      "outputs": []
    }
  ]
}