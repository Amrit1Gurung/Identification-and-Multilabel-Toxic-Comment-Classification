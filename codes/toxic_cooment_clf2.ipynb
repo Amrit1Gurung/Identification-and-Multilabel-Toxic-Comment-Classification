{
  "nbformat": 4,
  "nbformat_minor": 0,
  "metadata": {
    "colab": {
      "name": "toxic_cooment_clf2.ipynb",
      "provenance": [],
      "collapsed_sections": []
    },
    "kernelspec": {
      "name": "python3",
      "display_name": "Python 3"
    },
    "widgets": {
      "application/vnd.jupyter.widget-state+json": {
        "496b908874ea4d84bad30f7afdcf3eeb": {
          "model_module": "@jupyter-widgets/controls",
          "model_name": "HBoxModel",
          "state": {
            "_view_name": "HBoxView",
            "_dom_classes": [],
            "_model_name": "HBoxModel",
            "_view_module": "@jupyter-widgets/controls",
            "_model_module_version": "1.5.0",
            "_view_count": null,
            "_view_module_version": "1.5.0",
            "box_style": "",
            "layout": "IPY_MODEL_677dfe637ccc4b5ab8efe6c4dcda7285",
            "_model_module": "@jupyter-widgets/controls",
            "children": [
              "IPY_MODEL_9835d0ad41e24cea9f6fceae413fec1a",
              "IPY_MODEL_17dde6d26ab9422aba15e84622b2f5a7"
            ]
          }
        },
        "677dfe637ccc4b5ab8efe6c4dcda7285": {
          "model_module": "@jupyter-widgets/base",
          "model_name": "LayoutModel",
          "state": {
            "_view_name": "LayoutView",
            "grid_template_rows": null,
            "right": null,
            "justify_content": null,
            "_view_module": "@jupyter-widgets/base",
            "overflow": null,
            "_model_module_version": "1.2.0",
            "_view_count": null,
            "flex_flow": null,
            "width": null,
            "min_width": null,
            "border": null,
            "align_items": null,
            "bottom": null,
            "_model_module": "@jupyter-widgets/base",
            "top": null,
            "grid_column": null,
            "overflow_y": null,
            "overflow_x": null,
            "grid_auto_flow": null,
            "grid_area": null,
            "grid_template_columns": null,
            "flex": null,
            "_model_name": "LayoutModel",
            "justify_items": null,
            "grid_row": null,
            "max_height": null,
            "align_content": null,
            "visibility": null,
            "align_self": null,
            "height": null,
            "min_height": null,
            "padding": null,
            "grid_auto_rows": null,
            "grid_gap": null,
            "max_width": null,
            "order": null,
            "_view_module_version": "1.2.0",
            "grid_template_areas": null,
            "object_position": null,
            "object_fit": null,
            "grid_auto_columns": null,
            "margin": null,
            "display": null,
            "left": null
          }
        },
        "9835d0ad41e24cea9f6fceae413fec1a": {
          "model_module": "@jupyter-widgets/controls",
          "model_name": "FloatProgressModel",
          "state": {
            "_view_name": "ProgressView",
            "style": "IPY_MODEL_0eb99d6e348444239952f6353339955c",
            "_dom_classes": [],
            "description": "",
            "_model_name": "FloatProgressModel",
            "bar_style": "success",
            "max": 1,
            "_view_module": "@jupyter-widgets/controls",
            "_model_module_version": "1.5.0",
            "value": 1,
            "_view_count": null,
            "_view_module_version": "1.5.0",
            "orientation": "horizontal",
            "min": 0,
            "description_tooltip": null,
            "_model_module": "@jupyter-widgets/controls",
            "layout": "IPY_MODEL_be1f7f94314b439f834e499c11bbb71f"
          }
        },
        "17dde6d26ab9422aba15e84622b2f5a7": {
          "model_module": "@jupyter-widgets/controls",
          "model_name": "HTMLModel",
          "state": {
            "_view_name": "HTMLView",
            "style": "IPY_MODEL_5fd3429e855b4effa0fe89c8e38b17c3",
            "_dom_classes": [],
            "description": "",
            "_model_name": "HTMLModel",
            "placeholder": "​",
            "_view_module": "@jupyter-widgets/controls",
            "_model_module_version": "1.5.0",
            "value": " 6/? [00:26&lt;00:00,  4.49s/it]",
            "_view_count": null,
            "_view_module_version": "1.5.0",
            "description_tooltip": null,
            "_model_module": "@jupyter-widgets/controls",
            "layout": "IPY_MODEL_e73a76777483408ab867074e9082686d"
          }
        },
        "0eb99d6e348444239952f6353339955c": {
          "model_module": "@jupyter-widgets/controls",
          "model_name": "ProgressStyleModel",
          "state": {
            "_view_name": "StyleView",
            "_model_name": "ProgressStyleModel",
            "description_width": "initial",
            "_view_module": "@jupyter-widgets/base",
            "_model_module_version": "1.5.0",
            "_view_count": null,
            "_view_module_version": "1.2.0",
            "bar_color": null,
            "_model_module": "@jupyter-widgets/controls"
          }
        },
        "be1f7f94314b439f834e499c11bbb71f": {
          "model_module": "@jupyter-widgets/base",
          "model_name": "LayoutModel",
          "state": {
            "_view_name": "LayoutView",
            "grid_template_rows": null,
            "right": null,
            "justify_content": null,
            "_view_module": "@jupyter-widgets/base",
            "overflow": null,
            "_model_module_version": "1.2.0",
            "_view_count": null,
            "flex_flow": null,
            "width": null,
            "min_width": null,
            "border": null,
            "align_items": null,
            "bottom": null,
            "_model_module": "@jupyter-widgets/base",
            "top": null,
            "grid_column": null,
            "overflow_y": null,
            "overflow_x": null,
            "grid_auto_flow": null,
            "grid_area": null,
            "grid_template_columns": null,
            "flex": null,
            "_model_name": "LayoutModel",
            "justify_items": null,
            "grid_row": null,
            "max_height": null,
            "align_content": null,
            "visibility": null,
            "align_self": null,
            "height": null,
            "min_height": null,
            "padding": null,
            "grid_auto_rows": null,
            "grid_gap": null,
            "max_width": null,
            "order": null,
            "_view_module_version": "1.2.0",
            "grid_template_areas": null,
            "object_position": null,
            "object_fit": null,
            "grid_auto_columns": null,
            "margin": null,
            "display": null,
            "left": null
          }
        },
        "5fd3429e855b4effa0fe89c8e38b17c3": {
          "model_module": "@jupyter-widgets/controls",
          "model_name": "DescriptionStyleModel",
          "state": {
            "_view_name": "StyleView",
            "_model_name": "DescriptionStyleModel",
            "description_width": "",
            "_view_module": "@jupyter-widgets/base",
            "_model_module_version": "1.5.0",
            "_view_count": null,
            "_view_module_version": "1.2.0",
            "_model_module": "@jupyter-widgets/controls"
          }
        },
        "e73a76777483408ab867074e9082686d": {
          "model_module": "@jupyter-widgets/base",
          "model_name": "LayoutModel",
          "state": {
            "_view_name": "LayoutView",
            "grid_template_rows": null,
            "right": null,
            "justify_content": null,
            "_view_module": "@jupyter-widgets/base",
            "overflow": null,
            "_model_module_version": "1.2.0",
            "_view_count": null,
            "flex_flow": null,
            "width": null,
            "min_width": null,
            "border": null,
            "align_items": null,
            "bottom": null,
            "_model_module": "@jupyter-widgets/base",
            "top": null,
            "grid_column": null,
            "overflow_y": null,
            "overflow_x": null,
            "grid_auto_flow": null,
            "grid_area": null,
            "grid_template_columns": null,
            "flex": null,
            "_model_name": "LayoutModel",
            "justify_items": null,
            "grid_row": null,
            "max_height": null,
            "align_content": null,
            "visibility": null,
            "align_self": null,
            "height": null,
            "min_height": null,
            "padding": null,
            "grid_auto_rows": null,
            "grid_gap": null,
            "max_width": null,
            "order": null,
            "_view_module_version": "1.2.0",
            "grid_template_areas": null,
            "object_position": null,
            "object_fit": null,
            "grid_auto_columns": null,
            "margin": null,
            "display": null,
            "left": null
          }
        },
        "03d6317b660b4287925629296c6fe13c": {
          "model_module": "@jupyter-widgets/controls",
          "model_name": "HBoxModel",
          "state": {
            "_view_name": "HBoxView",
            "_dom_classes": [],
            "_model_name": "HBoxModel",
            "_view_module": "@jupyter-widgets/controls",
            "_model_module_version": "1.5.0",
            "_view_count": null,
            "_view_module_version": "1.5.0",
            "box_style": "",
            "layout": "IPY_MODEL_c2e73e61cd324c82aacff801d18187fb",
            "_model_module": "@jupyter-widgets/controls",
            "children": [
              "IPY_MODEL_6dc7969837044b07a5053dae8c327644",
              "IPY_MODEL_15da28f175224e389634ca0181968de7"
            ]
          }
        },
        "c2e73e61cd324c82aacff801d18187fb": {
          "model_module": "@jupyter-widgets/base",
          "model_name": "LayoutModel",
          "state": {
            "_view_name": "LayoutView",
            "grid_template_rows": null,
            "right": null,
            "justify_content": null,
            "_view_module": "@jupyter-widgets/base",
            "overflow": null,
            "_model_module_version": "1.2.0",
            "_view_count": null,
            "flex_flow": null,
            "width": null,
            "min_width": null,
            "border": null,
            "align_items": null,
            "bottom": null,
            "_model_module": "@jupyter-widgets/base",
            "top": null,
            "grid_column": null,
            "overflow_y": null,
            "overflow_x": null,
            "grid_auto_flow": null,
            "grid_area": null,
            "grid_template_columns": null,
            "flex": null,
            "_model_name": "LayoutModel",
            "justify_items": null,
            "grid_row": null,
            "max_height": null,
            "align_content": null,
            "visibility": null,
            "align_self": null,
            "height": null,
            "min_height": null,
            "padding": null,
            "grid_auto_rows": null,
            "grid_gap": null,
            "max_width": null,
            "order": null,
            "_view_module_version": "1.2.0",
            "grid_template_areas": null,
            "object_position": null,
            "object_fit": null,
            "grid_auto_columns": null,
            "margin": null,
            "display": null,
            "left": null
          }
        },
        "6dc7969837044b07a5053dae8c327644": {
          "model_module": "@jupyter-widgets/controls",
          "model_name": "FloatProgressModel",
          "state": {
            "_view_name": "ProgressView",
            "style": "IPY_MODEL_dc69d97887184fcb9731aaef9fc8ae17",
            "_dom_classes": [],
            "description": "",
            "_model_name": "FloatProgressModel",
            "bar_style": "success",
            "max": 1,
            "_view_module": "@jupyter-widgets/controls",
            "_model_module_version": "1.5.0",
            "value": 1,
            "_view_count": null,
            "_view_module_version": "1.5.0",
            "orientation": "horizontal",
            "min": 0,
            "description_tooltip": null,
            "_model_module": "@jupyter-widgets/controls",
            "layout": "IPY_MODEL_85af4bd8d83148d4a054863faacb98d0"
          }
        },
        "15da28f175224e389634ca0181968de7": {
          "model_module": "@jupyter-widgets/controls",
          "model_name": "HTMLModel",
          "state": {
            "_view_name": "HTMLView",
            "style": "IPY_MODEL_c24e18d2b54b42f4849600ee8ce8a946",
            "_dom_classes": [],
            "description": "",
            "_model_name": "HTMLModel",
            "placeholder": "​",
            "_view_module": "@jupyter-widgets/controls",
            "_model_module_version": "1.5.0",
            "value": " 6/? [00:03&lt;00:00,  1.78it/s]",
            "_view_count": null,
            "_view_module_version": "1.5.0",
            "description_tooltip": null,
            "_model_module": "@jupyter-widgets/controls",
            "layout": "IPY_MODEL_e49d0482751c4e729b345c887f08af67"
          }
        },
        "dc69d97887184fcb9731aaef9fc8ae17": {
          "model_module": "@jupyter-widgets/controls",
          "model_name": "ProgressStyleModel",
          "state": {
            "_view_name": "StyleView",
            "_model_name": "ProgressStyleModel",
            "description_width": "initial",
            "_view_module": "@jupyter-widgets/base",
            "_model_module_version": "1.5.0",
            "_view_count": null,
            "_view_module_version": "1.2.0",
            "bar_color": null,
            "_model_module": "@jupyter-widgets/controls"
          }
        },
        "85af4bd8d83148d4a054863faacb98d0": {
          "model_module": "@jupyter-widgets/base",
          "model_name": "LayoutModel",
          "state": {
            "_view_name": "LayoutView",
            "grid_template_rows": null,
            "right": null,
            "justify_content": null,
            "_view_module": "@jupyter-widgets/base",
            "overflow": null,
            "_model_module_version": "1.2.0",
            "_view_count": null,
            "flex_flow": null,
            "width": null,
            "min_width": null,
            "border": null,
            "align_items": null,
            "bottom": null,
            "_model_module": "@jupyter-widgets/base",
            "top": null,
            "grid_column": null,
            "overflow_y": null,
            "overflow_x": null,
            "grid_auto_flow": null,
            "grid_area": null,
            "grid_template_columns": null,
            "flex": null,
            "_model_name": "LayoutModel",
            "justify_items": null,
            "grid_row": null,
            "max_height": null,
            "align_content": null,
            "visibility": null,
            "align_self": null,
            "height": null,
            "min_height": null,
            "padding": null,
            "grid_auto_rows": null,
            "grid_gap": null,
            "max_width": null,
            "order": null,
            "_view_module_version": "1.2.0",
            "grid_template_areas": null,
            "object_position": null,
            "object_fit": null,
            "grid_auto_columns": null,
            "margin": null,
            "display": null,
            "left": null
          }
        },
        "c24e18d2b54b42f4849600ee8ce8a946": {
          "model_module": "@jupyter-widgets/controls",
          "model_name": "DescriptionStyleModel",
          "state": {
            "_view_name": "StyleView",
            "_model_name": "DescriptionStyleModel",
            "description_width": "",
            "_view_module": "@jupyter-widgets/base",
            "_model_module_version": "1.5.0",
            "_view_count": null,
            "_view_module_version": "1.2.0",
            "_model_module": "@jupyter-widgets/controls"
          }
        },
        "e49d0482751c4e729b345c887f08af67": {
          "model_module": "@jupyter-widgets/base",
          "model_name": "LayoutModel",
          "state": {
            "_view_name": "LayoutView",
            "grid_template_rows": null,
            "right": null,
            "justify_content": null,
            "_view_module": "@jupyter-widgets/base",
            "overflow": null,
            "_model_module_version": "1.2.0",
            "_view_count": null,
            "flex_flow": null,
            "width": null,
            "min_width": null,
            "border": null,
            "align_items": null,
            "bottom": null,
            "_model_module": "@jupyter-widgets/base",
            "top": null,
            "grid_column": null,
            "overflow_y": null,
            "overflow_x": null,
            "grid_auto_flow": null,
            "grid_area": null,
            "grid_template_columns": null,
            "flex": null,
            "_model_name": "LayoutModel",
            "justify_items": null,
            "grid_row": null,
            "max_height": null,
            "align_content": null,
            "visibility": null,
            "align_self": null,
            "height": null,
            "min_height": null,
            "padding": null,
            "grid_auto_rows": null,
            "grid_gap": null,
            "max_width": null,
            "order": null,
            "_view_module_version": "1.2.0",
            "grid_template_areas": null,
            "object_position": null,
            "object_fit": null,
            "grid_auto_columns": null,
            "margin": null,
            "display": null,
            "left": null
          }
        },
        "288ccbabe2b34b8fa4b5af453da1e30e": {
          "model_module": "@jupyter-widgets/controls",
          "model_name": "HBoxModel",
          "state": {
            "_view_name": "HBoxView",
            "_dom_classes": [],
            "_model_name": "HBoxModel",
            "_view_module": "@jupyter-widgets/controls",
            "_model_module_version": "1.5.0",
            "_view_count": null,
            "_view_module_version": "1.5.0",
            "box_style": "",
            "layout": "IPY_MODEL_b8e2b533dd2d4187aa88c5d5c437e79e",
            "_model_module": "@jupyter-widgets/controls",
            "children": [
              "IPY_MODEL_32c2f42c3d724b53b9347a62f7d690f1",
              "IPY_MODEL_f0f370db58fc47f594a958c68b100cd7"
            ]
          }
        },
        "b8e2b533dd2d4187aa88c5d5c437e79e": {
          "model_module": "@jupyter-widgets/base",
          "model_name": "LayoutModel",
          "state": {
            "_view_name": "LayoutView",
            "grid_template_rows": null,
            "right": null,
            "justify_content": null,
            "_view_module": "@jupyter-widgets/base",
            "overflow": null,
            "_model_module_version": "1.2.0",
            "_view_count": null,
            "flex_flow": null,
            "width": null,
            "min_width": null,
            "border": null,
            "align_items": null,
            "bottom": null,
            "_model_module": "@jupyter-widgets/base",
            "top": null,
            "grid_column": null,
            "overflow_y": null,
            "overflow_x": null,
            "grid_auto_flow": null,
            "grid_area": null,
            "grid_template_columns": null,
            "flex": null,
            "_model_name": "LayoutModel",
            "justify_items": null,
            "grid_row": null,
            "max_height": null,
            "align_content": null,
            "visibility": null,
            "align_self": null,
            "height": null,
            "min_height": null,
            "padding": null,
            "grid_auto_rows": null,
            "grid_gap": null,
            "max_width": null,
            "order": null,
            "_view_module_version": "1.2.0",
            "grid_template_areas": null,
            "object_position": null,
            "object_fit": null,
            "grid_auto_columns": null,
            "margin": null,
            "display": null,
            "left": null
          }
        },
        "32c2f42c3d724b53b9347a62f7d690f1": {
          "model_module": "@jupyter-widgets/controls",
          "model_name": "FloatProgressModel",
          "state": {
            "_view_name": "ProgressView",
            "style": "IPY_MODEL_a5efe454826a4ded9ef2a732f1857b72",
            "_dom_classes": [],
            "description": "",
            "_model_name": "FloatProgressModel",
            "bar_style": "success",
            "max": 1,
            "_view_module": "@jupyter-widgets/controls",
            "_model_module_version": "1.5.0",
            "value": 1,
            "_view_count": null,
            "_view_module_version": "1.5.0",
            "orientation": "horizontal",
            "min": 0,
            "description_tooltip": null,
            "_model_module": "@jupyter-widgets/controls",
            "layout": "IPY_MODEL_bb73199dd88c468496d8bf8237807d95"
          }
        },
        "f0f370db58fc47f594a958c68b100cd7": {
          "model_module": "@jupyter-widgets/controls",
          "model_name": "HTMLModel",
          "state": {
            "_view_name": "HTMLView",
            "style": "IPY_MODEL_4ecd13a128584882a8f09eb2ad7c1b55",
            "_dom_classes": [],
            "description": "",
            "_model_name": "HTMLModel",
            "placeholder": "​",
            "_view_module": "@jupyter-widgets/controls",
            "_model_module_version": "1.5.0",
            "value": " 6/? [00:34&lt;00:00,  5.78s/it]",
            "_view_count": null,
            "_view_module_version": "1.5.0",
            "description_tooltip": null,
            "_model_module": "@jupyter-widgets/controls",
            "layout": "IPY_MODEL_2327128029f64311a30710ed1f9830a7"
          }
        },
        "a5efe454826a4ded9ef2a732f1857b72": {
          "model_module": "@jupyter-widgets/controls",
          "model_name": "ProgressStyleModel",
          "state": {
            "_view_name": "StyleView",
            "_model_name": "ProgressStyleModel",
            "description_width": "initial",
            "_view_module": "@jupyter-widgets/base",
            "_model_module_version": "1.5.0",
            "_view_count": null,
            "_view_module_version": "1.2.0",
            "bar_color": null,
            "_model_module": "@jupyter-widgets/controls"
          }
        },
        "bb73199dd88c468496d8bf8237807d95": {
          "model_module": "@jupyter-widgets/base",
          "model_name": "LayoutModel",
          "state": {
            "_view_name": "LayoutView",
            "grid_template_rows": null,
            "right": null,
            "justify_content": null,
            "_view_module": "@jupyter-widgets/base",
            "overflow": null,
            "_model_module_version": "1.2.0",
            "_view_count": null,
            "flex_flow": null,
            "width": null,
            "min_width": null,
            "border": null,
            "align_items": null,
            "bottom": null,
            "_model_module": "@jupyter-widgets/base",
            "top": null,
            "grid_column": null,
            "overflow_y": null,
            "overflow_x": null,
            "grid_auto_flow": null,
            "grid_area": null,
            "grid_template_columns": null,
            "flex": null,
            "_model_name": "LayoutModel",
            "justify_items": null,
            "grid_row": null,
            "max_height": null,
            "align_content": null,
            "visibility": null,
            "align_self": null,
            "height": null,
            "min_height": null,
            "padding": null,
            "grid_auto_rows": null,
            "grid_gap": null,
            "max_width": null,
            "order": null,
            "_view_module_version": "1.2.0",
            "grid_template_areas": null,
            "object_position": null,
            "object_fit": null,
            "grid_auto_columns": null,
            "margin": null,
            "display": null,
            "left": null
          }
        },
        "4ecd13a128584882a8f09eb2ad7c1b55": {
          "model_module": "@jupyter-widgets/controls",
          "model_name": "DescriptionStyleModel",
          "state": {
            "_view_name": "StyleView",
            "_model_name": "DescriptionStyleModel",
            "description_width": "",
            "_view_module": "@jupyter-widgets/base",
            "_model_module_version": "1.5.0",
            "_view_count": null,
            "_view_module_version": "1.2.0",
            "_model_module": "@jupyter-widgets/controls"
          }
        },
        "2327128029f64311a30710ed1f9830a7": {
          "model_module": "@jupyter-widgets/base",
          "model_name": "LayoutModel",
          "state": {
            "_view_name": "LayoutView",
            "grid_template_rows": null,
            "right": null,
            "justify_content": null,
            "_view_module": "@jupyter-widgets/base",
            "overflow": null,
            "_model_module_version": "1.2.0",
            "_view_count": null,
            "flex_flow": null,
            "width": null,
            "min_width": null,
            "border": null,
            "align_items": null,
            "bottom": null,
            "_model_module": "@jupyter-widgets/base",
            "top": null,
            "grid_column": null,
            "overflow_y": null,
            "overflow_x": null,
            "grid_auto_flow": null,
            "grid_area": null,
            "grid_template_columns": null,
            "flex": null,
            "_model_name": "LayoutModel",
            "justify_items": null,
            "grid_row": null,
            "max_height": null,
            "align_content": null,
            "visibility": null,
            "align_self": null,
            "height": null,
            "min_height": null,
            "padding": null,
            "grid_auto_rows": null,
            "grid_gap": null,
            "max_width": null,
            "order": null,
            "_view_module_version": "1.2.0",
            "grid_template_areas": null,
            "object_position": null,
            "object_fit": null,
            "grid_auto_columns": null,
            "margin": null,
            "display": null,
            "left": null
          }
        },
        "63945749ad5747a58bd8868f8ae7e5d5": {
          "model_module": "@jupyter-widgets/controls",
          "model_name": "HBoxModel",
          "state": {
            "_view_name": "HBoxView",
            "_dom_classes": [],
            "_model_name": "HBoxModel",
            "_view_module": "@jupyter-widgets/controls",
            "_model_module_version": "1.5.0",
            "_view_count": null,
            "_view_module_version": "1.5.0",
            "box_style": "",
            "layout": "IPY_MODEL_013ebfe0041641d0a8b079473951c3a1",
            "_model_module": "@jupyter-widgets/controls",
            "children": [
              "IPY_MODEL_34bc983afc6a45dfa943b0a654dd1b08",
              "IPY_MODEL_c2824dacc88e40058ee251ae147f792f"
            ]
          }
        },
        "013ebfe0041641d0a8b079473951c3a1": {
          "model_module": "@jupyter-widgets/base",
          "model_name": "LayoutModel",
          "state": {
            "_view_name": "LayoutView",
            "grid_template_rows": null,
            "right": null,
            "justify_content": null,
            "_view_module": "@jupyter-widgets/base",
            "overflow": null,
            "_model_module_version": "1.2.0",
            "_view_count": null,
            "flex_flow": null,
            "width": null,
            "min_width": null,
            "border": null,
            "align_items": null,
            "bottom": null,
            "_model_module": "@jupyter-widgets/base",
            "top": null,
            "grid_column": null,
            "overflow_y": null,
            "overflow_x": null,
            "grid_auto_flow": null,
            "grid_area": null,
            "grid_template_columns": null,
            "flex": null,
            "_model_name": "LayoutModel",
            "justify_items": null,
            "grid_row": null,
            "max_height": null,
            "align_content": null,
            "visibility": null,
            "align_self": null,
            "height": null,
            "min_height": null,
            "padding": null,
            "grid_auto_rows": null,
            "grid_gap": null,
            "max_width": null,
            "order": null,
            "_view_module_version": "1.2.0",
            "grid_template_areas": null,
            "object_position": null,
            "object_fit": null,
            "grid_auto_columns": null,
            "margin": null,
            "display": null,
            "left": null
          }
        },
        "34bc983afc6a45dfa943b0a654dd1b08": {
          "model_module": "@jupyter-widgets/controls",
          "model_name": "FloatProgressModel",
          "state": {
            "_view_name": "ProgressView",
            "style": "IPY_MODEL_8425b817524f4a73b50c5dd209a794c6",
            "_dom_classes": [],
            "description": "",
            "_model_name": "FloatProgressModel",
            "bar_style": "success",
            "max": 1,
            "_view_module": "@jupyter-widgets/controls",
            "_model_module_version": "1.5.0",
            "value": 1,
            "_view_count": null,
            "_view_module_version": "1.5.0",
            "orientation": "horizontal",
            "min": 0,
            "description_tooltip": null,
            "_model_module": "@jupyter-widgets/controls",
            "layout": "IPY_MODEL_efbd43371683470eaa60c9877a3b21a5"
          }
        },
        "c2824dacc88e40058ee251ae147f792f": {
          "model_module": "@jupyter-widgets/controls",
          "model_name": "HTMLModel",
          "state": {
            "_view_name": "HTMLView",
            "style": "IPY_MODEL_b08efaf654d145ed90fc6052183b7ecf",
            "_dom_classes": [],
            "description": "",
            "_model_name": "HTMLModel",
            "placeholder": "​",
            "_view_module": "@jupyter-widgets/controls",
            "_model_module_version": "1.5.0",
            "value": " 6/? [00:03&lt;00:00,  1.97it/s]",
            "_view_count": null,
            "_view_module_version": "1.5.0",
            "description_tooltip": null,
            "_model_module": "@jupyter-widgets/controls",
            "layout": "IPY_MODEL_f955c0647475431ebc24d5174fe65a1e"
          }
        },
        "8425b817524f4a73b50c5dd209a794c6": {
          "model_module": "@jupyter-widgets/controls",
          "model_name": "ProgressStyleModel",
          "state": {
            "_view_name": "StyleView",
            "_model_name": "ProgressStyleModel",
            "description_width": "initial",
            "_view_module": "@jupyter-widgets/base",
            "_model_module_version": "1.5.0",
            "_view_count": null,
            "_view_module_version": "1.2.0",
            "bar_color": null,
            "_model_module": "@jupyter-widgets/controls"
          }
        },
        "efbd43371683470eaa60c9877a3b21a5": {
          "model_module": "@jupyter-widgets/base",
          "model_name": "LayoutModel",
          "state": {
            "_view_name": "LayoutView",
            "grid_template_rows": null,
            "right": null,
            "justify_content": null,
            "_view_module": "@jupyter-widgets/base",
            "overflow": null,
            "_model_module_version": "1.2.0",
            "_view_count": null,
            "flex_flow": null,
            "width": null,
            "min_width": null,
            "border": null,
            "align_items": null,
            "bottom": null,
            "_model_module": "@jupyter-widgets/base",
            "top": null,
            "grid_column": null,
            "overflow_y": null,
            "overflow_x": null,
            "grid_auto_flow": null,
            "grid_area": null,
            "grid_template_columns": null,
            "flex": null,
            "_model_name": "LayoutModel",
            "justify_items": null,
            "grid_row": null,
            "max_height": null,
            "align_content": null,
            "visibility": null,
            "align_self": null,
            "height": null,
            "min_height": null,
            "padding": null,
            "grid_auto_rows": null,
            "grid_gap": null,
            "max_width": null,
            "order": null,
            "_view_module_version": "1.2.0",
            "grid_template_areas": null,
            "object_position": null,
            "object_fit": null,
            "grid_auto_columns": null,
            "margin": null,
            "display": null,
            "left": null
          }
        },
        "b08efaf654d145ed90fc6052183b7ecf": {
          "model_module": "@jupyter-widgets/controls",
          "model_name": "DescriptionStyleModel",
          "state": {
            "_view_name": "StyleView",
            "_model_name": "DescriptionStyleModel",
            "description_width": "",
            "_view_module": "@jupyter-widgets/base",
            "_model_module_version": "1.5.0",
            "_view_count": null,
            "_view_module_version": "1.2.0",
            "_model_module": "@jupyter-widgets/controls"
          }
        },
        "f955c0647475431ebc24d5174fe65a1e": {
          "model_module": "@jupyter-widgets/base",
          "model_name": "LayoutModel",
          "state": {
            "_view_name": "LayoutView",
            "grid_template_rows": null,
            "right": null,
            "justify_content": null,
            "_view_module": "@jupyter-widgets/base",
            "overflow": null,
            "_model_module_version": "1.2.0",
            "_view_count": null,
            "flex_flow": null,
            "width": null,
            "min_width": null,
            "border": null,
            "align_items": null,
            "bottom": null,
            "_model_module": "@jupyter-widgets/base",
            "top": null,
            "grid_column": null,
            "overflow_y": null,
            "overflow_x": null,
            "grid_auto_flow": null,
            "grid_area": null,
            "grid_template_columns": null,
            "flex": null,
            "_model_name": "LayoutModel",
            "justify_items": null,
            "grid_row": null,
            "max_height": null,
            "align_content": null,
            "visibility": null,
            "align_self": null,
            "height": null,
            "min_height": null,
            "padding": null,
            "grid_auto_rows": null,
            "grid_gap": null,
            "max_width": null,
            "order": null,
            "_view_module_version": "1.2.0",
            "grid_template_areas": null,
            "object_position": null,
            "object_fit": null,
            "grid_auto_columns": null,
            "margin": null,
            "display": null,
            "left": null
          }
        },
        "7ea79bc57eef497497fd4d389b216f42": {
          "model_module": "@jupyter-widgets/controls",
          "model_name": "HBoxModel",
          "state": {
            "_view_name": "HBoxView",
            "_dom_classes": [],
            "_model_name": "HBoxModel",
            "_view_module": "@jupyter-widgets/controls",
            "_model_module_version": "1.5.0",
            "_view_count": null,
            "_view_module_version": "1.5.0",
            "box_style": "",
            "layout": "IPY_MODEL_d9f1112dfb0b4a3998bc50ccd456bcdd",
            "_model_module": "@jupyter-widgets/controls",
            "children": [
              "IPY_MODEL_29ba7f7d682349e196f8e2146bc81d6a",
              "IPY_MODEL_3d40b4004a6b45b3bed5aea3c7b911bf"
            ]
          }
        },
        "d9f1112dfb0b4a3998bc50ccd456bcdd": {
          "model_module": "@jupyter-widgets/base",
          "model_name": "LayoutModel",
          "state": {
            "_view_name": "LayoutView",
            "grid_template_rows": null,
            "right": null,
            "justify_content": null,
            "_view_module": "@jupyter-widgets/base",
            "overflow": null,
            "_model_module_version": "1.2.0",
            "_view_count": null,
            "flex_flow": null,
            "width": null,
            "min_width": null,
            "border": null,
            "align_items": null,
            "bottom": null,
            "_model_module": "@jupyter-widgets/base",
            "top": null,
            "grid_column": null,
            "overflow_y": null,
            "overflow_x": null,
            "grid_auto_flow": null,
            "grid_area": null,
            "grid_template_columns": null,
            "flex": null,
            "_model_name": "LayoutModel",
            "justify_items": null,
            "grid_row": null,
            "max_height": null,
            "align_content": null,
            "visibility": null,
            "align_self": null,
            "height": null,
            "min_height": null,
            "padding": null,
            "grid_auto_rows": null,
            "grid_gap": null,
            "max_width": null,
            "order": null,
            "_view_module_version": "1.2.0",
            "grid_template_areas": null,
            "object_position": null,
            "object_fit": null,
            "grid_auto_columns": null,
            "margin": null,
            "display": null,
            "left": null
          }
        },
        "29ba7f7d682349e196f8e2146bc81d6a": {
          "model_module": "@jupyter-widgets/controls",
          "model_name": "FloatProgressModel",
          "state": {
            "_view_name": "ProgressView",
            "style": "IPY_MODEL_1b6838b5f8f841b6b3412646d509e17d",
            "_dom_classes": [],
            "description": "",
            "_model_name": "FloatProgressModel",
            "bar_style": "success",
            "max": 1,
            "_view_module": "@jupyter-widgets/controls",
            "_model_module_version": "1.5.0",
            "value": 1,
            "_view_count": null,
            "_view_module_version": "1.5.0",
            "orientation": "horizontal",
            "min": 0,
            "description_tooltip": null,
            "_model_module": "@jupyter-widgets/controls",
            "layout": "IPY_MODEL_515cb20dc27c43e884c09a391e11df59"
          }
        },
        "3d40b4004a6b45b3bed5aea3c7b911bf": {
          "model_module": "@jupyter-widgets/controls",
          "model_name": "HTMLModel",
          "state": {
            "_view_name": "HTMLView",
            "style": "IPY_MODEL_0091d8847e174e5b875c97fbaf8de17e",
            "_dom_classes": [],
            "description": "",
            "_model_name": "HTMLModel",
            "placeholder": "​",
            "_view_module": "@jupyter-widgets/controls",
            "_model_module_version": "1.5.0",
            "value": " 6/? [00:33&lt;00:00,  5.59s/it]",
            "_view_count": null,
            "_view_module_version": "1.5.0",
            "description_tooltip": null,
            "_model_module": "@jupyter-widgets/controls",
            "layout": "IPY_MODEL_30a9c9df44894533a7ff1c347b8352ff"
          }
        },
        "1b6838b5f8f841b6b3412646d509e17d": {
          "model_module": "@jupyter-widgets/controls",
          "model_name": "ProgressStyleModel",
          "state": {
            "_view_name": "StyleView",
            "_model_name": "ProgressStyleModel",
            "description_width": "initial",
            "_view_module": "@jupyter-widgets/base",
            "_model_module_version": "1.5.0",
            "_view_count": null,
            "_view_module_version": "1.2.0",
            "bar_color": null,
            "_model_module": "@jupyter-widgets/controls"
          }
        },
        "515cb20dc27c43e884c09a391e11df59": {
          "model_module": "@jupyter-widgets/base",
          "model_name": "LayoutModel",
          "state": {
            "_view_name": "LayoutView",
            "grid_template_rows": null,
            "right": null,
            "justify_content": null,
            "_view_module": "@jupyter-widgets/base",
            "overflow": null,
            "_model_module_version": "1.2.0",
            "_view_count": null,
            "flex_flow": null,
            "width": null,
            "min_width": null,
            "border": null,
            "align_items": null,
            "bottom": null,
            "_model_module": "@jupyter-widgets/base",
            "top": null,
            "grid_column": null,
            "overflow_y": null,
            "overflow_x": null,
            "grid_auto_flow": null,
            "grid_area": null,
            "grid_template_columns": null,
            "flex": null,
            "_model_name": "LayoutModel",
            "justify_items": null,
            "grid_row": null,
            "max_height": null,
            "align_content": null,
            "visibility": null,
            "align_self": null,
            "height": null,
            "min_height": null,
            "padding": null,
            "grid_auto_rows": null,
            "grid_gap": null,
            "max_width": null,
            "order": null,
            "_view_module_version": "1.2.0",
            "grid_template_areas": null,
            "object_position": null,
            "object_fit": null,
            "grid_auto_columns": null,
            "margin": null,
            "display": null,
            "left": null
          }
        },
        "0091d8847e174e5b875c97fbaf8de17e": {
          "model_module": "@jupyter-widgets/controls",
          "model_name": "DescriptionStyleModel",
          "state": {
            "_view_name": "StyleView",
            "_model_name": "DescriptionStyleModel",
            "description_width": "",
            "_view_module": "@jupyter-widgets/base",
            "_model_module_version": "1.5.0",
            "_view_count": null,
            "_view_module_version": "1.2.0",
            "_model_module": "@jupyter-widgets/controls"
          }
        },
        "30a9c9df44894533a7ff1c347b8352ff": {
          "model_module": "@jupyter-widgets/base",
          "model_name": "LayoutModel",
          "state": {
            "_view_name": "LayoutView",
            "grid_template_rows": null,
            "right": null,
            "justify_content": null,
            "_view_module": "@jupyter-widgets/base",
            "overflow": null,
            "_model_module_version": "1.2.0",
            "_view_count": null,
            "flex_flow": null,
            "width": null,
            "min_width": null,
            "border": null,
            "align_items": null,
            "bottom": null,
            "_model_module": "@jupyter-widgets/base",
            "top": null,
            "grid_column": null,
            "overflow_y": null,
            "overflow_x": null,
            "grid_auto_flow": null,
            "grid_area": null,
            "grid_template_columns": null,
            "flex": null,
            "_model_name": "LayoutModel",
            "justify_items": null,
            "grid_row": null,
            "max_height": null,
            "align_content": null,
            "visibility": null,
            "align_self": null,
            "height": null,
            "min_height": null,
            "padding": null,
            "grid_auto_rows": null,
            "grid_gap": null,
            "max_width": null,
            "order": null,
            "_view_module_version": "1.2.0",
            "grid_template_areas": null,
            "object_position": null,
            "object_fit": null,
            "grid_auto_columns": null,
            "margin": null,
            "display": null,
            "left": null
          }
        },
        "74d38686ce304e9f8ebdef6c335891a0": {
          "model_module": "@jupyter-widgets/controls",
          "model_name": "HBoxModel",
          "state": {
            "_view_name": "HBoxView",
            "_dom_classes": [],
            "_model_name": "HBoxModel",
            "_view_module": "@jupyter-widgets/controls",
            "_model_module_version": "1.5.0",
            "_view_count": null,
            "_view_module_version": "1.5.0",
            "box_style": "",
            "layout": "IPY_MODEL_75ff351892fd42198299b6fcf1a2e719",
            "_model_module": "@jupyter-widgets/controls",
            "children": [
              "IPY_MODEL_7010a35983914bfba003cbfcc29b0b43",
              "IPY_MODEL_1f3365534af44644ac48ba71f9fa44dc"
            ]
          }
        },
        "75ff351892fd42198299b6fcf1a2e719": {
          "model_module": "@jupyter-widgets/base",
          "model_name": "LayoutModel",
          "state": {
            "_view_name": "LayoutView",
            "grid_template_rows": null,
            "right": null,
            "justify_content": null,
            "_view_module": "@jupyter-widgets/base",
            "overflow": null,
            "_model_module_version": "1.2.0",
            "_view_count": null,
            "flex_flow": null,
            "width": null,
            "min_width": null,
            "border": null,
            "align_items": null,
            "bottom": null,
            "_model_module": "@jupyter-widgets/base",
            "top": null,
            "grid_column": null,
            "overflow_y": null,
            "overflow_x": null,
            "grid_auto_flow": null,
            "grid_area": null,
            "grid_template_columns": null,
            "flex": null,
            "_model_name": "LayoutModel",
            "justify_items": null,
            "grid_row": null,
            "max_height": null,
            "align_content": null,
            "visibility": null,
            "align_self": null,
            "height": null,
            "min_height": null,
            "padding": null,
            "grid_auto_rows": null,
            "grid_gap": null,
            "max_width": null,
            "order": null,
            "_view_module_version": "1.2.0",
            "grid_template_areas": null,
            "object_position": null,
            "object_fit": null,
            "grid_auto_columns": null,
            "margin": null,
            "display": null,
            "left": null
          }
        },
        "7010a35983914bfba003cbfcc29b0b43": {
          "model_module": "@jupyter-widgets/controls",
          "model_name": "FloatProgressModel",
          "state": {
            "_view_name": "ProgressView",
            "style": "IPY_MODEL_48948e0de8234b388c44b728619ab1f6",
            "_dom_classes": [],
            "description": "",
            "_model_name": "FloatProgressModel",
            "bar_style": "success",
            "max": 1,
            "_view_module": "@jupyter-widgets/controls",
            "_model_module_version": "1.5.0",
            "value": 1,
            "_view_count": null,
            "_view_module_version": "1.5.0",
            "orientation": "horizontal",
            "min": 0,
            "description_tooltip": null,
            "_model_module": "@jupyter-widgets/controls",
            "layout": "IPY_MODEL_aa8de5a6600b4c04a623ebc31bab0de6"
          }
        },
        "1f3365534af44644ac48ba71f9fa44dc": {
          "model_module": "@jupyter-widgets/controls",
          "model_name": "HTMLModel",
          "state": {
            "_view_name": "HTMLView",
            "style": "IPY_MODEL_43399cbdf36443b3955297f45fa9e403",
            "_dom_classes": [],
            "description": "",
            "_model_name": "HTMLModel",
            "placeholder": "​",
            "_view_module": "@jupyter-widgets/controls",
            "_model_module_version": "1.5.0",
            "value": " 6/? [00:04&lt;00:00,  1.39it/s]",
            "_view_count": null,
            "_view_module_version": "1.5.0",
            "description_tooltip": null,
            "_model_module": "@jupyter-widgets/controls",
            "layout": "IPY_MODEL_af8542b438d64ca8ba853b4b0e4764f8"
          }
        },
        "48948e0de8234b388c44b728619ab1f6": {
          "model_module": "@jupyter-widgets/controls",
          "model_name": "ProgressStyleModel",
          "state": {
            "_view_name": "StyleView",
            "_model_name": "ProgressStyleModel",
            "description_width": "initial",
            "_view_module": "@jupyter-widgets/base",
            "_model_module_version": "1.5.0",
            "_view_count": null,
            "_view_module_version": "1.2.0",
            "bar_color": null,
            "_model_module": "@jupyter-widgets/controls"
          }
        },
        "aa8de5a6600b4c04a623ebc31bab0de6": {
          "model_module": "@jupyter-widgets/base",
          "model_name": "LayoutModel",
          "state": {
            "_view_name": "LayoutView",
            "grid_template_rows": null,
            "right": null,
            "justify_content": null,
            "_view_module": "@jupyter-widgets/base",
            "overflow": null,
            "_model_module_version": "1.2.0",
            "_view_count": null,
            "flex_flow": null,
            "width": null,
            "min_width": null,
            "border": null,
            "align_items": null,
            "bottom": null,
            "_model_module": "@jupyter-widgets/base",
            "top": null,
            "grid_column": null,
            "overflow_y": null,
            "overflow_x": null,
            "grid_auto_flow": null,
            "grid_area": null,
            "grid_template_columns": null,
            "flex": null,
            "_model_name": "LayoutModel",
            "justify_items": null,
            "grid_row": null,
            "max_height": null,
            "align_content": null,
            "visibility": null,
            "align_self": null,
            "height": null,
            "min_height": null,
            "padding": null,
            "grid_auto_rows": null,
            "grid_gap": null,
            "max_width": null,
            "order": null,
            "_view_module_version": "1.2.0",
            "grid_template_areas": null,
            "object_position": null,
            "object_fit": null,
            "grid_auto_columns": null,
            "margin": null,
            "display": null,
            "left": null
          }
        },
        "43399cbdf36443b3955297f45fa9e403": {
          "model_module": "@jupyter-widgets/controls",
          "model_name": "DescriptionStyleModel",
          "state": {
            "_view_name": "StyleView",
            "_model_name": "DescriptionStyleModel",
            "description_width": "",
            "_view_module": "@jupyter-widgets/base",
            "_model_module_version": "1.5.0",
            "_view_count": null,
            "_view_module_version": "1.2.0",
            "_model_module": "@jupyter-widgets/controls"
          }
        },
        "af8542b438d64ca8ba853b4b0e4764f8": {
          "model_module": "@jupyter-widgets/base",
          "model_name": "LayoutModel",
          "state": {
            "_view_name": "LayoutView",
            "grid_template_rows": null,
            "right": null,
            "justify_content": null,
            "_view_module": "@jupyter-widgets/base",
            "overflow": null,
            "_model_module_version": "1.2.0",
            "_view_count": null,
            "flex_flow": null,
            "width": null,
            "min_width": null,
            "border": null,
            "align_items": null,
            "bottom": null,
            "_model_module": "@jupyter-widgets/base",
            "top": null,
            "grid_column": null,
            "overflow_y": null,
            "overflow_x": null,
            "grid_auto_flow": null,
            "grid_area": null,
            "grid_template_columns": null,
            "flex": null,
            "_model_name": "LayoutModel",
            "justify_items": null,
            "grid_row": null,
            "max_height": null,
            "align_content": null,
            "visibility": null,
            "align_self": null,
            "height": null,
            "min_height": null,
            "padding": null,
            "grid_auto_rows": null,
            "grid_gap": null,
            "max_width": null,
            "order": null,
            "_view_module_version": "1.2.0",
            "grid_template_areas": null,
            "object_position": null,
            "object_fit": null,
            "grid_auto_columns": null,
            "margin": null,
            "display": null,
            "left": null
          }
        },
        "21426de7812b4be8a2339262ef4fae9f": {
          "model_module": "@jupyter-widgets/controls",
          "model_name": "HBoxModel",
          "state": {
            "_view_name": "HBoxView",
            "_dom_classes": [],
            "_model_name": "HBoxModel",
            "_view_module": "@jupyter-widgets/controls",
            "_model_module_version": "1.5.0",
            "_view_count": null,
            "_view_module_version": "1.5.0",
            "box_style": "",
            "layout": "IPY_MODEL_8bca2fe6b9fc4dacb1ae44e52ebef76f",
            "_model_module": "@jupyter-widgets/controls",
            "children": [
              "IPY_MODEL_1d31d0e6d7f34625b18bf4c00a4f38c6",
              "IPY_MODEL_2bfdd07f81924b3395d7aa02e1716e92"
            ]
          }
        },
        "8bca2fe6b9fc4dacb1ae44e52ebef76f": {
          "model_module": "@jupyter-widgets/base",
          "model_name": "LayoutModel",
          "state": {
            "_view_name": "LayoutView",
            "grid_template_rows": null,
            "right": null,
            "justify_content": null,
            "_view_module": "@jupyter-widgets/base",
            "overflow": null,
            "_model_module_version": "1.2.0",
            "_view_count": null,
            "flex_flow": null,
            "width": null,
            "min_width": null,
            "border": null,
            "align_items": null,
            "bottom": null,
            "_model_module": "@jupyter-widgets/base",
            "top": null,
            "grid_column": null,
            "overflow_y": null,
            "overflow_x": null,
            "grid_auto_flow": null,
            "grid_area": null,
            "grid_template_columns": null,
            "flex": null,
            "_model_name": "LayoutModel",
            "justify_items": null,
            "grid_row": null,
            "max_height": null,
            "align_content": null,
            "visibility": null,
            "align_self": null,
            "height": null,
            "min_height": null,
            "padding": null,
            "grid_auto_rows": null,
            "grid_gap": null,
            "max_width": null,
            "order": null,
            "_view_module_version": "1.2.0",
            "grid_template_areas": null,
            "object_position": null,
            "object_fit": null,
            "grid_auto_columns": null,
            "margin": null,
            "display": null,
            "left": null
          }
        },
        "1d31d0e6d7f34625b18bf4c00a4f38c6": {
          "model_module": "@jupyter-widgets/controls",
          "model_name": "FloatProgressModel",
          "state": {
            "_view_name": "ProgressView",
            "style": "IPY_MODEL_e8f5ff4060de41dbbe2b92414edadc3b",
            "_dom_classes": [],
            "description": "",
            "_model_name": "FloatProgressModel",
            "bar_style": "success",
            "max": 1,
            "_view_module": "@jupyter-widgets/controls",
            "_model_module_version": "1.5.0",
            "value": 1,
            "_view_count": null,
            "_view_module_version": "1.5.0",
            "orientation": "horizontal",
            "min": 0,
            "description_tooltip": null,
            "_model_module": "@jupyter-widgets/controls",
            "layout": "IPY_MODEL_a4259c62a4184fc78568c076249d7266"
          }
        },
        "2bfdd07f81924b3395d7aa02e1716e92": {
          "model_module": "@jupyter-widgets/controls",
          "model_name": "HTMLModel",
          "state": {
            "_view_name": "HTMLView",
            "style": "IPY_MODEL_99f538a244f847a5962cddbe5bad248d",
            "_dom_classes": [],
            "description": "",
            "_model_name": "HTMLModel",
            "placeholder": "​",
            "_view_module": "@jupyter-widgets/controls",
            "_model_module_version": "1.5.0",
            "value": " 6/? [00:01&lt;00:00,  3.15it/s]",
            "_view_count": null,
            "_view_module_version": "1.5.0",
            "description_tooltip": null,
            "_model_module": "@jupyter-widgets/controls",
            "layout": "IPY_MODEL_6250740593a3443ca64714141cca4b22"
          }
        },
        "e8f5ff4060de41dbbe2b92414edadc3b": {
          "model_module": "@jupyter-widgets/controls",
          "model_name": "ProgressStyleModel",
          "state": {
            "_view_name": "StyleView",
            "_model_name": "ProgressStyleModel",
            "description_width": "initial",
            "_view_module": "@jupyter-widgets/base",
            "_model_module_version": "1.5.0",
            "_view_count": null,
            "_view_module_version": "1.2.0",
            "bar_color": null,
            "_model_module": "@jupyter-widgets/controls"
          }
        },
        "a4259c62a4184fc78568c076249d7266": {
          "model_module": "@jupyter-widgets/base",
          "model_name": "LayoutModel",
          "state": {
            "_view_name": "LayoutView",
            "grid_template_rows": null,
            "right": null,
            "justify_content": null,
            "_view_module": "@jupyter-widgets/base",
            "overflow": null,
            "_model_module_version": "1.2.0",
            "_view_count": null,
            "flex_flow": null,
            "width": null,
            "min_width": null,
            "border": null,
            "align_items": null,
            "bottom": null,
            "_model_module": "@jupyter-widgets/base",
            "top": null,
            "grid_column": null,
            "overflow_y": null,
            "overflow_x": null,
            "grid_auto_flow": null,
            "grid_area": null,
            "grid_template_columns": null,
            "flex": null,
            "_model_name": "LayoutModel",
            "justify_items": null,
            "grid_row": null,
            "max_height": null,
            "align_content": null,
            "visibility": null,
            "align_self": null,
            "height": null,
            "min_height": null,
            "padding": null,
            "grid_auto_rows": null,
            "grid_gap": null,
            "max_width": null,
            "order": null,
            "_view_module_version": "1.2.0",
            "grid_template_areas": null,
            "object_position": null,
            "object_fit": null,
            "grid_auto_columns": null,
            "margin": null,
            "display": null,
            "left": null
          }
        },
        "99f538a244f847a5962cddbe5bad248d": {
          "model_module": "@jupyter-widgets/controls",
          "model_name": "DescriptionStyleModel",
          "state": {
            "_view_name": "StyleView",
            "_model_name": "DescriptionStyleModel",
            "description_width": "",
            "_view_module": "@jupyter-widgets/base",
            "_model_module_version": "1.5.0",
            "_view_count": null,
            "_view_module_version": "1.2.0",
            "_model_module": "@jupyter-widgets/controls"
          }
        },
        "6250740593a3443ca64714141cca4b22": {
          "model_module": "@jupyter-widgets/base",
          "model_name": "LayoutModel",
          "state": {
            "_view_name": "LayoutView",
            "grid_template_rows": null,
            "right": null,
            "justify_content": null,
            "_view_module": "@jupyter-widgets/base",
            "overflow": null,
            "_model_module_version": "1.2.0",
            "_view_count": null,
            "flex_flow": null,
            "width": null,
            "min_width": null,
            "border": null,
            "align_items": null,
            "bottom": null,
            "_model_module": "@jupyter-widgets/base",
            "top": null,
            "grid_column": null,
            "overflow_y": null,
            "overflow_x": null,
            "grid_auto_flow": null,
            "grid_area": null,
            "grid_template_columns": null,
            "flex": null,
            "_model_name": "LayoutModel",
            "justify_items": null,
            "grid_row": null,
            "max_height": null,
            "align_content": null,
            "visibility": null,
            "align_self": null,
            "height": null,
            "min_height": null,
            "padding": null,
            "grid_auto_rows": null,
            "grid_gap": null,
            "max_width": null,
            "order": null,
            "_view_module_version": "1.2.0",
            "grid_template_areas": null,
            "object_position": null,
            "object_fit": null,
            "grid_auto_columns": null,
            "margin": null,
            "display": null,
            "left": null
          }
        },
        "d6724daf0f964f1da3a8872974feae0e": {
          "model_module": "@jupyter-widgets/controls",
          "model_name": "HBoxModel",
          "state": {
            "_view_name": "HBoxView",
            "_dom_classes": [],
            "_model_name": "HBoxModel",
            "_view_module": "@jupyter-widgets/controls",
            "_model_module_version": "1.5.0",
            "_view_count": null,
            "_view_module_version": "1.5.0",
            "box_style": "",
            "layout": "IPY_MODEL_36408d5d48c342da828e9d959879a991",
            "_model_module": "@jupyter-widgets/controls",
            "children": [
              "IPY_MODEL_b4feb300786b416bb4d484a6265ecf40",
              "IPY_MODEL_7c37999c39fa42e0b707f59e1af0e9b8"
            ]
          }
        },
        "36408d5d48c342da828e9d959879a991": {
          "model_module": "@jupyter-widgets/base",
          "model_name": "LayoutModel",
          "state": {
            "_view_name": "LayoutView",
            "grid_template_rows": null,
            "right": null,
            "justify_content": null,
            "_view_module": "@jupyter-widgets/base",
            "overflow": null,
            "_model_module_version": "1.2.0",
            "_view_count": null,
            "flex_flow": null,
            "width": null,
            "min_width": null,
            "border": null,
            "align_items": null,
            "bottom": null,
            "_model_module": "@jupyter-widgets/base",
            "top": null,
            "grid_column": null,
            "overflow_y": null,
            "overflow_x": null,
            "grid_auto_flow": null,
            "grid_area": null,
            "grid_template_columns": null,
            "flex": null,
            "_model_name": "LayoutModel",
            "justify_items": null,
            "grid_row": null,
            "max_height": null,
            "align_content": null,
            "visibility": null,
            "align_self": null,
            "height": null,
            "min_height": null,
            "padding": null,
            "grid_auto_rows": null,
            "grid_gap": null,
            "max_width": null,
            "order": null,
            "_view_module_version": "1.2.0",
            "grid_template_areas": null,
            "object_position": null,
            "object_fit": null,
            "grid_auto_columns": null,
            "margin": null,
            "display": null,
            "left": null
          }
        },
        "b4feb300786b416bb4d484a6265ecf40": {
          "model_module": "@jupyter-widgets/controls",
          "model_name": "FloatProgressModel",
          "state": {
            "_view_name": "ProgressView",
            "style": "IPY_MODEL_ac8f603a163945df8e688237a72f1e1e",
            "_dom_classes": [],
            "description": "",
            "_model_name": "FloatProgressModel",
            "bar_style": "success",
            "max": 1,
            "_view_module": "@jupyter-widgets/controls",
            "_model_module_version": "1.5.0",
            "value": 1,
            "_view_count": null,
            "_view_module_version": "1.5.0",
            "orientation": "horizontal",
            "min": 0,
            "description_tooltip": null,
            "_model_module": "@jupyter-widgets/controls",
            "layout": "IPY_MODEL_bf736024381f46cba119d22ebc77faa7"
          }
        },
        "7c37999c39fa42e0b707f59e1af0e9b8": {
          "model_module": "@jupyter-widgets/controls",
          "model_name": "HTMLModel",
          "state": {
            "_view_name": "HTMLView",
            "style": "IPY_MODEL_0791c94a1df84cfe81bfd18c85dd1373",
            "_dom_classes": [],
            "description": "",
            "_model_name": "HTMLModel",
            "placeholder": "​",
            "_view_module": "@jupyter-widgets/controls",
            "_model_module_version": "1.5.0",
            "value": " 6/? [00:26&lt;00:00,  4.34s/it]",
            "_view_count": null,
            "_view_module_version": "1.5.0",
            "description_tooltip": null,
            "_model_module": "@jupyter-widgets/controls",
            "layout": "IPY_MODEL_0f1e227874c84927bc02999c3047a867"
          }
        },
        "ac8f603a163945df8e688237a72f1e1e": {
          "model_module": "@jupyter-widgets/controls",
          "model_name": "ProgressStyleModel",
          "state": {
            "_view_name": "StyleView",
            "_model_name": "ProgressStyleModel",
            "description_width": "initial",
            "_view_module": "@jupyter-widgets/base",
            "_model_module_version": "1.5.0",
            "_view_count": null,
            "_view_module_version": "1.2.0",
            "bar_color": null,
            "_model_module": "@jupyter-widgets/controls"
          }
        },
        "bf736024381f46cba119d22ebc77faa7": {
          "model_module": "@jupyter-widgets/base",
          "model_name": "LayoutModel",
          "state": {
            "_view_name": "LayoutView",
            "grid_template_rows": null,
            "right": null,
            "justify_content": null,
            "_view_module": "@jupyter-widgets/base",
            "overflow": null,
            "_model_module_version": "1.2.0",
            "_view_count": null,
            "flex_flow": null,
            "width": null,
            "min_width": null,
            "border": null,
            "align_items": null,
            "bottom": null,
            "_model_module": "@jupyter-widgets/base",
            "top": null,
            "grid_column": null,
            "overflow_y": null,
            "overflow_x": null,
            "grid_auto_flow": null,
            "grid_area": null,
            "grid_template_columns": null,
            "flex": null,
            "_model_name": "LayoutModel",
            "justify_items": null,
            "grid_row": null,
            "max_height": null,
            "align_content": null,
            "visibility": null,
            "align_self": null,
            "height": null,
            "min_height": null,
            "padding": null,
            "grid_auto_rows": null,
            "grid_gap": null,
            "max_width": null,
            "order": null,
            "_view_module_version": "1.2.0",
            "grid_template_areas": null,
            "object_position": null,
            "object_fit": null,
            "grid_auto_columns": null,
            "margin": null,
            "display": null,
            "left": null
          }
        },
        "0791c94a1df84cfe81bfd18c85dd1373": {
          "model_module": "@jupyter-widgets/controls",
          "model_name": "DescriptionStyleModel",
          "state": {
            "_view_name": "StyleView",
            "_model_name": "DescriptionStyleModel",
            "description_width": "",
            "_view_module": "@jupyter-widgets/base",
            "_model_module_version": "1.5.0",
            "_view_count": null,
            "_view_module_version": "1.2.0",
            "_model_module": "@jupyter-widgets/controls"
          }
        },
        "0f1e227874c84927bc02999c3047a867": {
          "model_module": "@jupyter-widgets/base",
          "model_name": "LayoutModel",
          "state": {
            "_view_name": "LayoutView",
            "grid_template_rows": null,
            "right": null,
            "justify_content": null,
            "_view_module": "@jupyter-widgets/base",
            "overflow": null,
            "_model_module_version": "1.2.0",
            "_view_count": null,
            "flex_flow": null,
            "width": null,
            "min_width": null,
            "border": null,
            "align_items": null,
            "bottom": null,
            "_model_module": "@jupyter-widgets/base",
            "top": null,
            "grid_column": null,
            "overflow_y": null,
            "overflow_x": null,
            "grid_auto_flow": null,
            "grid_area": null,
            "grid_template_columns": null,
            "flex": null,
            "_model_name": "LayoutModel",
            "justify_items": null,
            "grid_row": null,
            "max_height": null,
            "align_content": null,
            "visibility": null,
            "align_self": null,
            "height": null,
            "min_height": null,
            "padding": null,
            "grid_auto_rows": null,
            "grid_gap": null,
            "max_width": null,
            "order": null,
            "_view_module_version": "1.2.0",
            "grid_template_areas": null,
            "object_position": null,
            "object_fit": null,
            "grid_auto_columns": null,
            "margin": null,
            "display": null,
            "left": null
          }
        },
        "a9d43229e34c4e66afa156451dada680": {
          "model_module": "@jupyter-widgets/controls",
          "model_name": "HBoxModel",
          "state": {
            "_view_name": "HBoxView",
            "_dom_classes": [],
            "_model_name": "HBoxModel",
            "_view_module": "@jupyter-widgets/controls",
            "_model_module_version": "1.5.0",
            "_view_count": null,
            "_view_module_version": "1.5.0",
            "box_style": "",
            "layout": "IPY_MODEL_66722ff5bf1047c18339ae75a4c429c5",
            "_model_module": "@jupyter-widgets/controls",
            "children": [
              "IPY_MODEL_2cbcae3dda1747c681d0daad3f560bcb",
              "IPY_MODEL_cae1eeab38244b6a9360679a97a78e45"
            ]
          }
        },
        "66722ff5bf1047c18339ae75a4c429c5": {
          "model_module": "@jupyter-widgets/base",
          "model_name": "LayoutModel",
          "state": {
            "_view_name": "LayoutView",
            "grid_template_rows": null,
            "right": null,
            "justify_content": null,
            "_view_module": "@jupyter-widgets/base",
            "overflow": null,
            "_model_module_version": "1.2.0",
            "_view_count": null,
            "flex_flow": null,
            "width": null,
            "min_width": null,
            "border": null,
            "align_items": null,
            "bottom": null,
            "_model_module": "@jupyter-widgets/base",
            "top": null,
            "grid_column": null,
            "overflow_y": null,
            "overflow_x": null,
            "grid_auto_flow": null,
            "grid_area": null,
            "grid_template_columns": null,
            "flex": null,
            "_model_name": "LayoutModel",
            "justify_items": null,
            "grid_row": null,
            "max_height": null,
            "align_content": null,
            "visibility": null,
            "align_self": null,
            "height": null,
            "min_height": null,
            "padding": null,
            "grid_auto_rows": null,
            "grid_gap": null,
            "max_width": null,
            "order": null,
            "_view_module_version": "1.2.0",
            "grid_template_areas": null,
            "object_position": null,
            "object_fit": null,
            "grid_auto_columns": null,
            "margin": null,
            "display": null,
            "left": null
          }
        },
        "2cbcae3dda1747c681d0daad3f560bcb": {
          "model_module": "@jupyter-widgets/controls",
          "model_name": "FloatProgressModel",
          "state": {
            "_view_name": "ProgressView",
            "style": "IPY_MODEL_b5599fd88d58469faca2c5149060f6da",
            "_dom_classes": [],
            "description": "",
            "_model_name": "FloatProgressModel",
            "bar_style": "success",
            "max": 1,
            "_view_module": "@jupyter-widgets/controls",
            "_model_module_version": "1.5.0",
            "value": 1,
            "_view_count": null,
            "_view_module_version": "1.5.0",
            "orientation": "horizontal",
            "min": 0,
            "description_tooltip": null,
            "_model_module": "@jupyter-widgets/controls",
            "layout": "IPY_MODEL_b0ff78501499478384e94ae6d02c2905"
          }
        },
        "cae1eeab38244b6a9360679a97a78e45": {
          "model_module": "@jupyter-widgets/controls",
          "model_name": "HTMLModel",
          "state": {
            "_view_name": "HTMLView",
            "style": "IPY_MODEL_d46803ea5da14282af9081d4d5573bdf",
            "_dom_classes": [],
            "description": "",
            "_model_name": "HTMLModel",
            "placeholder": "​",
            "_view_module": "@jupyter-widgets/controls",
            "_model_module_version": "1.5.0",
            "value": " 6/? [00:03&lt;00:00,  1.89it/s]",
            "_view_count": null,
            "_view_module_version": "1.5.0",
            "description_tooltip": null,
            "_model_module": "@jupyter-widgets/controls",
            "layout": "IPY_MODEL_b25d26b291594d0aa9de349e5dc52ec4"
          }
        },
        "b5599fd88d58469faca2c5149060f6da": {
          "model_module": "@jupyter-widgets/controls",
          "model_name": "ProgressStyleModel",
          "state": {
            "_view_name": "StyleView",
            "_model_name": "ProgressStyleModel",
            "description_width": "initial",
            "_view_module": "@jupyter-widgets/base",
            "_model_module_version": "1.5.0",
            "_view_count": null,
            "_view_module_version": "1.2.0",
            "bar_color": null,
            "_model_module": "@jupyter-widgets/controls"
          }
        },
        "b0ff78501499478384e94ae6d02c2905": {
          "model_module": "@jupyter-widgets/base",
          "model_name": "LayoutModel",
          "state": {
            "_view_name": "LayoutView",
            "grid_template_rows": null,
            "right": null,
            "justify_content": null,
            "_view_module": "@jupyter-widgets/base",
            "overflow": null,
            "_model_module_version": "1.2.0",
            "_view_count": null,
            "flex_flow": null,
            "width": null,
            "min_width": null,
            "border": null,
            "align_items": null,
            "bottom": null,
            "_model_module": "@jupyter-widgets/base",
            "top": null,
            "grid_column": null,
            "overflow_y": null,
            "overflow_x": null,
            "grid_auto_flow": null,
            "grid_area": null,
            "grid_template_columns": null,
            "flex": null,
            "_model_name": "LayoutModel",
            "justify_items": null,
            "grid_row": null,
            "max_height": null,
            "align_content": null,
            "visibility": null,
            "align_self": null,
            "height": null,
            "min_height": null,
            "padding": null,
            "grid_auto_rows": null,
            "grid_gap": null,
            "max_width": null,
            "order": null,
            "_view_module_version": "1.2.0",
            "grid_template_areas": null,
            "object_position": null,
            "object_fit": null,
            "grid_auto_columns": null,
            "margin": null,
            "display": null,
            "left": null
          }
        },
        "d46803ea5da14282af9081d4d5573bdf": {
          "model_module": "@jupyter-widgets/controls",
          "model_name": "DescriptionStyleModel",
          "state": {
            "_view_name": "StyleView",
            "_model_name": "DescriptionStyleModel",
            "description_width": "",
            "_view_module": "@jupyter-widgets/base",
            "_model_module_version": "1.5.0",
            "_view_count": null,
            "_view_module_version": "1.2.0",
            "_model_module": "@jupyter-widgets/controls"
          }
        },
        "b25d26b291594d0aa9de349e5dc52ec4": {
          "model_module": "@jupyter-widgets/base",
          "model_name": "LayoutModel",
          "state": {
            "_view_name": "LayoutView",
            "grid_template_rows": null,
            "right": null,
            "justify_content": null,
            "_view_module": "@jupyter-widgets/base",
            "overflow": null,
            "_model_module_version": "1.2.0",
            "_view_count": null,
            "flex_flow": null,
            "width": null,
            "min_width": null,
            "border": null,
            "align_items": null,
            "bottom": null,
            "_model_module": "@jupyter-widgets/base",
            "top": null,
            "grid_column": null,
            "overflow_y": null,
            "overflow_x": null,
            "grid_auto_flow": null,
            "grid_area": null,
            "grid_template_columns": null,
            "flex": null,
            "_model_name": "LayoutModel",
            "justify_items": null,
            "grid_row": null,
            "max_height": null,
            "align_content": null,
            "visibility": null,
            "align_self": null,
            "height": null,
            "min_height": null,
            "padding": null,
            "grid_auto_rows": null,
            "grid_gap": null,
            "max_width": null,
            "order": null,
            "_view_module_version": "1.2.0",
            "grid_template_areas": null,
            "object_position": null,
            "object_fit": null,
            "grid_auto_columns": null,
            "margin": null,
            "display": null,
            "left": null
          }
        },
        "6ce16174b522483294a4b2cf810c0923": {
          "model_module": "@jupyter-widgets/controls",
          "model_name": "HBoxModel",
          "state": {
            "_view_name": "HBoxView",
            "_dom_classes": [],
            "_model_name": "HBoxModel",
            "_view_module": "@jupyter-widgets/controls",
            "_model_module_version": "1.5.0",
            "_view_count": null,
            "_view_module_version": "1.5.0",
            "box_style": "",
            "layout": "IPY_MODEL_8a42b8090e654db3bd2a24fd475afde7",
            "_model_module": "@jupyter-widgets/controls",
            "children": [
              "IPY_MODEL_d4219454a67847afb0e342ba6ca129d4",
              "IPY_MODEL_93925f4c3b284a1f83a37176db102a38"
            ]
          }
        },
        "8a42b8090e654db3bd2a24fd475afde7": {
          "model_module": "@jupyter-widgets/base",
          "model_name": "LayoutModel",
          "state": {
            "_view_name": "LayoutView",
            "grid_template_rows": null,
            "right": null,
            "justify_content": null,
            "_view_module": "@jupyter-widgets/base",
            "overflow": null,
            "_model_module_version": "1.2.0",
            "_view_count": null,
            "flex_flow": null,
            "width": null,
            "min_width": null,
            "border": null,
            "align_items": null,
            "bottom": null,
            "_model_module": "@jupyter-widgets/base",
            "top": null,
            "grid_column": null,
            "overflow_y": null,
            "overflow_x": null,
            "grid_auto_flow": null,
            "grid_area": null,
            "grid_template_columns": null,
            "flex": null,
            "_model_name": "LayoutModel",
            "justify_items": null,
            "grid_row": null,
            "max_height": null,
            "align_content": null,
            "visibility": null,
            "align_self": null,
            "height": null,
            "min_height": null,
            "padding": null,
            "grid_auto_rows": null,
            "grid_gap": null,
            "max_width": null,
            "order": null,
            "_view_module_version": "1.2.0",
            "grid_template_areas": null,
            "object_position": null,
            "object_fit": null,
            "grid_auto_columns": null,
            "margin": null,
            "display": null,
            "left": null
          }
        },
        "d4219454a67847afb0e342ba6ca129d4": {
          "model_module": "@jupyter-widgets/controls",
          "model_name": "FloatProgressModel",
          "state": {
            "_view_name": "ProgressView",
            "style": "IPY_MODEL_094efe4661e34027bb06a1029462dd87",
            "_dom_classes": [],
            "description": "",
            "_model_name": "FloatProgressModel",
            "bar_style": "success",
            "max": 1,
            "_view_module": "@jupyter-widgets/controls",
            "_model_module_version": "1.5.0",
            "value": 1,
            "_view_count": null,
            "_view_module_version": "1.5.0",
            "orientation": "horizontal",
            "min": 0,
            "description_tooltip": null,
            "_model_module": "@jupyter-widgets/controls",
            "layout": "IPY_MODEL_0b15b4450871411b85d862e74abe4915"
          }
        },
        "93925f4c3b284a1f83a37176db102a38": {
          "model_module": "@jupyter-widgets/controls",
          "model_name": "HTMLModel",
          "state": {
            "_view_name": "HTMLView",
            "style": "IPY_MODEL_a77d3b41421c4734b60dd9c3f32837ad",
            "_dom_classes": [],
            "description": "",
            "_model_name": "HTMLModel",
            "placeholder": "​",
            "_view_module": "@jupyter-widgets/controls",
            "_model_module_version": "1.5.0",
            "value": " 6/? [00:02&lt;00:00,  2.99it/s]",
            "_view_count": null,
            "_view_module_version": "1.5.0",
            "description_tooltip": null,
            "_model_module": "@jupyter-widgets/controls",
            "layout": "IPY_MODEL_1e7a1be14dfc4c4495bcd8c29a37df65"
          }
        },
        "094efe4661e34027bb06a1029462dd87": {
          "model_module": "@jupyter-widgets/controls",
          "model_name": "ProgressStyleModel",
          "state": {
            "_view_name": "StyleView",
            "_model_name": "ProgressStyleModel",
            "description_width": "initial",
            "_view_module": "@jupyter-widgets/base",
            "_model_module_version": "1.5.0",
            "_view_count": null,
            "_view_module_version": "1.2.0",
            "bar_color": null,
            "_model_module": "@jupyter-widgets/controls"
          }
        },
        "0b15b4450871411b85d862e74abe4915": {
          "model_module": "@jupyter-widgets/base",
          "model_name": "LayoutModel",
          "state": {
            "_view_name": "LayoutView",
            "grid_template_rows": null,
            "right": null,
            "justify_content": null,
            "_view_module": "@jupyter-widgets/base",
            "overflow": null,
            "_model_module_version": "1.2.0",
            "_view_count": null,
            "flex_flow": null,
            "width": null,
            "min_width": null,
            "border": null,
            "align_items": null,
            "bottom": null,
            "_model_module": "@jupyter-widgets/base",
            "top": null,
            "grid_column": null,
            "overflow_y": null,
            "overflow_x": null,
            "grid_auto_flow": null,
            "grid_area": null,
            "grid_template_columns": null,
            "flex": null,
            "_model_name": "LayoutModel",
            "justify_items": null,
            "grid_row": null,
            "max_height": null,
            "align_content": null,
            "visibility": null,
            "align_self": null,
            "height": null,
            "min_height": null,
            "padding": null,
            "grid_auto_rows": null,
            "grid_gap": null,
            "max_width": null,
            "order": null,
            "_view_module_version": "1.2.0",
            "grid_template_areas": null,
            "object_position": null,
            "object_fit": null,
            "grid_auto_columns": null,
            "margin": null,
            "display": null,
            "left": null
          }
        },
        "a77d3b41421c4734b60dd9c3f32837ad": {
          "model_module": "@jupyter-widgets/controls",
          "model_name": "DescriptionStyleModel",
          "state": {
            "_view_name": "StyleView",
            "_model_name": "DescriptionStyleModel",
            "description_width": "",
            "_view_module": "@jupyter-widgets/base",
            "_model_module_version": "1.5.0",
            "_view_count": null,
            "_view_module_version": "1.2.0",
            "_model_module": "@jupyter-widgets/controls"
          }
        },
        "1e7a1be14dfc4c4495bcd8c29a37df65": {
          "model_module": "@jupyter-widgets/base",
          "model_name": "LayoutModel",
          "state": {
            "_view_name": "LayoutView",
            "grid_template_rows": null,
            "right": null,
            "justify_content": null,
            "_view_module": "@jupyter-widgets/base",
            "overflow": null,
            "_model_module_version": "1.2.0",
            "_view_count": null,
            "flex_flow": null,
            "width": null,
            "min_width": null,
            "border": null,
            "align_items": null,
            "bottom": null,
            "_model_module": "@jupyter-widgets/base",
            "top": null,
            "grid_column": null,
            "overflow_y": null,
            "overflow_x": null,
            "grid_auto_flow": null,
            "grid_area": null,
            "grid_template_columns": null,
            "flex": null,
            "_model_name": "LayoutModel",
            "justify_items": null,
            "grid_row": null,
            "max_height": null,
            "align_content": null,
            "visibility": null,
            "align_self": null,
            "height": null,
            "min_height": null,
            "padding": null,
            "grid_auto_rows": null,
            "grid_gap": null,
            "max_width": null,
            "order": null,
            "_view_module_version": "1.2.0",
            "grid_template_areas": null,
            "object_position": null,
            "object_fit": null,
            "grid_auto_columns": null,
            "margin": null,
            "display": null,
            "left": null
          }
        },
        "3522bf70fed14a1b9af2336dc3801496": {
          "model_module": "@jupyter-widgets/controls",
          "model_name": "HBoxModel",
          "state": {
            "_view_name": "HBoxView",
            "_dom_classes": [],
            "_model_name": "HBoxModel",
            "_view_module": "@jupyter-widgets/controls",
            "_model_module_version": "1.5.0",
            "_view_count": null,
            "_view_module_version": "1.5.0",
            "box_style": "",
            "layout": "IPY_MODEL_6a46eb6b601a483d87a4e98c8b34b467",
            "_model_module": "@jupyter-widgets/controls",
            "children": [
              "IPY_MODEL_49fe4cceb71c47ea8407ff8f398aed25",
              "IPY_MODEL_e3dcedf9bca3449d90ab8b9bfda1b308"
            ]
          }
        },
        "6a46eb6b601a483d87a4e98c8b34b467": {
          "model_module": "@jupyter-widgets/base",
          "model_name": "LayoutModel",
          "state": {
            "_view_name": "LayoutView",
            "grid_template_rows": null,
            "right": null,
            "justify_content": null,
            "_view_module": "@jupyter-widgets/base",
            "overflow": null,
            "_model_module_version": "1.2.0",
            "_view_count": null,
            "flex_flow": null,
            "width": null,
            "min_width": null,
            "border": null,
            "align_items": null,
            "bottom": null,
            "_model_module": "@jupyter-widgets/base",
            "top": null,
            "grid_column": null,
            "overflow_y": null,
            "overflow_x": null,
            "grid_auto_flow": null,
            "grid_area": null,
            "grid_template_columns": null,
            "flex": null,
            "_model_name": "LayoutModel",
            "justify_items": null,
            "grid_row": null,
            "max_height": null,
            "align_content": null,
            "visibility": null,
            "align_self": null,
            "height": null,
            "min_height": null,
            "padding": null,
            "grid_auto_rows": null,
            "grid_gap": null,
            "max_width": null,
            "order": null,
            "_view_module_version": "1.2.0",
            "grid_template_areas": null,
            "object_position": null,
            "object_fit": null,
            "grid_auto_columns": null,
            "margin": null,
            "display": null,
            "left": null
          }
        },
        "49fe4cceb71c47ea8407ff8f398aed25": {
          "model_module": "@jupyter-widgets/controls",
          "model_name": "FloatProgressModel",
          "state": {
            "_view_name": "ProgressView",
            "style": "IPY_MODEL_ca75592b96774d84bbf6d0baed99f8f6",
            "_dom_classes": [],
            "description": "",
            "_model_name": "FloatProgressModel",
            "bar_style": "success",
            "max": 1,
            "_view_module": "@jupyter-widgets/controls",
            "_model_module_version": "1.5.0",
            "value": 1,
            "_view_count": null,
            "_view_module_version": "1.5.0",
            "orientation": "horizontal",
            "min": 0,
            "description_tooltip": null,
            "_model_module": "@jupyter-widgets/controls",
            "layout": "IPY_MODEL_20da8acb310e42b6a8b2d8c8652ce872"
          }
        },
        "e3dcedf9bca3449d90ab8b9bfda1b308": {
          "model_module": "@jupyter-widgets/controls",
          "model_name": "HTMLModel",
          "state": {
            "_view_name": "HTMLView",
            "style": "IPY_MODEL_948e2302b2be4f468be4cfc3ca3f79ee",
            "_dom_classes": [],
            "description": "",
            "_model_name": "HTMLModel",
            "placeholder": "​",
            "_view_module": "@jupyter-widgets/controls",
            "_model_module_version": "1.5.0",
            "value": " 6/? [00:27&lt;00:00,  4.51s/it]",
            "_view_count": null,
            "_view_module_version": "1.5.0",
            "description_tooltip": null,
            "_model_module": "@jupyter-widgets/controls",
            "layout": "IPY_MODEL_9d28ad0fcfc24045bac87c2c5bccbc8c"
          }
        },
        "ca75592b96774d84bbf6d0baed99f8f6": {
          "model_module": "@jupyter-widgets/controls",
          "model_name": "ProgressStyleModel",
          "state": {
            "_view_name": "StyleView",
            "_model_name": "ProgressStyleModel",
            "description_width": "initial",
            "_view_module": "@jupyter-widgets/base",
            "_model_module_version": "1.5.0",
            "_view_count": null,
            "_view_module_version": "1.2.0",
            "bar_color": null,
            "_model_module": "@jupyter-widgets/controls"
          }
        },
        "20da8acb310e42b6a8b2d8c8652ce872": {
          "model_module": "@jupyter-widgets/base",
          "model_name": "LayoutModel",
          "state": {
            "_view_name": "LayoutView",
            "grid_template_rows": null,
            "right": null,
            "justify_content": null,
            "_view_module": "@jupyter-widgets/base",
            "overflow": null,
            "_model_module_version": "1.2.0",
            "_view_count": null,
            "flex_flow": null,
            "width": null,
            "min_width": null,
            "border": null,
            "align_items": null,
            "bottom": null,
            "_model_module": "@jupyter-widgets/base",
            "top": null,
            "grid_column": null,
            "overflow_y": null,
            "overflow_x": null,
            "grid_auto_flow": null,
            "grid_area": null,
            "grid_template_columns": null,
            "flex": null,
            "_model_name": "LayoutModel",
            "justify_items": null,
            "grid_row": null,
            "max_height": null,
            "align_content": null,
            "visibility": null,
            "align_self": null,
            "height": null,
            "min_height": null,
            "padding": null,
            "grid_auto_rows": null,
            "grid_gap": null,
            "max_width": null,
            "order": null,
            "_view_module_version": "1.2.0",
            "grid_template_areas": null,
            "object_position": null,
            "object_fit": null,
            "grid_auto_columns": null,
            "margin": null,
            "display": null,
            "left": null
          }
        },
        "948e2302b2be4f468be4cfc3ca3f79ee": {
          "model_module": "@jupyter-widgets/controls",
          "model_name": "DescriptionStyleModel",
          "state": {
            "_view_name": "StyleView",
            "_model_name": "DescriptionStyleModel",
            "description_width": "",
            "_view_module": "@jupyter-widgets/base",
            "_model_module_version": "1.5.0",
            "_view_count": null,
            "_view_module_version": "1.2.0",
            "_model_module": "@jupyter-widgets/controls"
          }
        },
        "9d28ad0fcfc24045bac87c2c5bccbc8c": {
          "model_module": "@jupyter-widgets/base",
          "model_name": "LayoutModel",
          "state": {
            "_view_name": "LayoutView",
            "grid_template_rows": null,
            "right": null,
            "justify_content": null,
            "_view_module": "@jupyter-widgets/base",
            "overflow": null,
            "_model_module_version": "1.2.0",
            "_view_count": null,
            "flex_flow": null,
            "width": null,
            "min_width": null,
            "border": null,
            "align_items": null,
            "bottom": null,
            "_model_module": "@jupyter-widgets/base",
            "top": null,
            "grid_column": null,
            "overflow_y": null,
            "overflow_x": null,
            "grid_auto_flow": null,
            "grid_area": null,
            "grid_template_columns": null,
            "flex": null,
            "_model_name": "LayoutModel",
            "justify_items": null,
            "grid_row": null,
            "max_height": null,
            "align_content": null,
            "visibility": null,
            "align_self": null,
            "height": null,
            "min_height": null,
            "padding": null,
            "grid_auto_rows": null,
            "grid_gap": null,
            "max_width": null,
            "order": null,
            "_view_module_version": "1.2.0",
            "grid_template_areas": null,
            "object_position": null,
            "object_fit": null,
            "grid_auto_columns": null,
            "margin": null,
            "display": null,
            "left": null
          }
        }
      }
    }
  },
  "cells": [
    {
      "cell_type": "code",
      "metadata": {
        "id": "ZF9eRirezWPi"
      },
      "source": [
        "# accessing project folder in google drive. Once this cell is run, we will be inside project folder.\n",
        "import os\n",
        "os.chdir('/content/drive/MyDrive/programs/Datasets/toxic comment classification')"
      ],
      "execution_count": 1,
      "outputs": []
    },
    {
      "cell_type": "code",
      "metadata": {
        "id": "OMBG1rycCcSO"
      },
      "source": [
        "# load all necessary libraries\n",
        "import re\n",
        "import pickle\n",
        "import numpy as np\n",
        "import pandas as pd\n",
        "from tqdm import tqdm\n",
        "import nltk\n",
        "import matplotlib.pyplot as plt\n",
        "import seaborn as sns\n",
        "from nltk.tokenize import sent_tokenize, word_tokenize\n",
        "from nltk.corpus import stopwords\n",
        "from tqdm import tqdm_notebook as tqdm\n",
        "from wordcloud import WordCloud, STOPWORDS\n",
        "from imblearn.under_sampling import RandomUnderSampler\n",
        "from sklearn.model_selection import train_test_split\n",
        "from sklearn.feature_extraction.text import CountVectorizer, TfidfVectorizer\n",
        "from sklearn.naive_bayes import MultinomialNB\n",
        "from sklearn.linear_model import LogisticRegression\n",
        "from sklearn.svm import LinearSVC\n",
        "from sklearn.ensemble import RandomForestClassifier\n",
        "from sklearn import metrics\n",
        "from sklearn.metrics import roc_curve\n",
        "from sklearn.multiclass import OneVsRestClassifier\n",
        "from sklearn.multioutput import MultiOutputClassifier\n",
        "from sklearn import preprocessing\n",
        "from sklearn.metrics import confusion_matrix, roc_auc_score\n",
        "from sklearn import svm\n",
        "\n",
        "import warnings\n",
        "warnings.filterwarnings('ignore')"
      ],
      "execution_count": 5,
      "outputs": []
    },
    {
      "cell_type": "code",
      "metadata": {
        "colab": {
          "base_uri": "https://localhost:8080/"
        },
        "id": "0E1W510_0wvK",
        "outputId": "76b7d731-d432-4b8c-aef7-c6ba6dcc7f30"
      },
      "source": [
        "import nltk\n",
        "nltk.download('stopwords')"
      ],
      "execution_count": 3,
      "outputs": [
        {
          "output_type": "stream",
          "text": [
            "[nltk_data] Downloading package stopwords to /root/nltk_data...\n",
            "[nltk_data]   Unzipping corpora/stopwords.zip.\n"
          ],
          "name": "stdout"
        },
        {
          "output_type": "execute_result",
          "data": {
            "text/plain": [
              "True"
            ]
          },
          "metadata": {
            "tags": []
          },
          "execution_count": 3
        }
      ]
    },
    {
      "cell_type": "code",
      "metadata": {
        "colab": {
          "base_uri": "https://localhost:8080/",
          "height": 221
        },
        "id": "ddqFOIx9DMGv",
        "outputId": "795ac349-9d6a-4963-c3ad-eae064e30c70"
      },
      "source": [
        "# load data \n",
        "toxic_data = pd.read_csv('data/train.csv')\n",
        "print(\"Shape of data : \", toxic_data.shape)\n",
        "toxic_data.head()"
      ],
      "execution_count": 6,
      "outputs": [
        {
          "output_type": "stream",
          "text": [
            "Shape of data :  (159571, 8)\n"
          ],
          "name": "stdout"
        },
        {
          "output_type": "execute_result",
          "data": {
            "text/html": [
              "<div>\n",
              "<style scoped>\n",
              "    .dataframe tbody tr th:only-of-type {\n",
              "        vertical-align: middle;\n",
              "    }\n",
              "\n",
              "    .dataframe tbody tr th {\n",
              "        vertical-align: top;\n",
              "    }\n",
              "\n",
              "    .dataframe thead th {\n",
              "        text-align: right;\n",
              "    }\n",
              "</style>\n",
              "<table border=\"1\" class=\"dataframe\">\n",
              "  <thead>\n",
              "    <tr style=\"text-align: right;\">\n",
              "      <th></th>\n",
              "      <th>id</th>\n",
              "      <th>comment_text</th>\n",
              "      <th>toxic</th>\n",
              "      <th>severe_toxic</th>\n",
              "      <th>obscene</th>\n",
              "      <th>threat</th>\n",
              "      <th>insult</th>\n",
              "      <th>identity_hate</th>\n",
              "    </tr>\n",
              "  </thead>\n",
              "  <tbody>\n",
              "    <tr>\n",
              "      <th>0</th>\n",
              "      <td>0000997932d777bf</td>\n",
              "      <td>Explanation\\nWhy the edits made under my usern...</td>\n",
              "      <td>0</td>\n",
              "      <td>0</td>\n",
              "      <td>0</td>\n",
              "      <td>0</td>\n",
              "      <td>0</td>\n",
              "      <td>0</td>\n",
              "    </tr>\n",
              "    <tr>\n",
              "      <th>1</th>\n",
              "      <td>000103f0d9cfb60f</td>\n",
              "      <td>D'aww! He matches this background colour I'm s...</td>\n",
              "      <td>0</td>\n",
              "      <td>0</td>\n",
              "      <td>0</td>\n",
              "      <td>0</td>\n",
              "      <td>0</td>\n",
              "      <td>0</td>\n",
              "    </tr>\n",
              "    <tr>\n",
              "      <th>2</th>\n",
              "      <td>000113f07ec002fd</td>\n",
              "      <td>Hey man, I'm really not trying to edit war. It...</td>\n",
              "      <td>0</td>\n",
              "      <td>0</td>\n",
              "      <td>0</td>\n",
              "      <td>0</td>\n",
              "      <td>0</td>\n",
              "      <td>0</td>\n",
              "    </tr>\n",
              "    <tr>\n",
              "      <th>3</th>\n",
              "      <td>0001b41b1c6bb37e</td>\n",
              "      <td>\"\\nMore\\nI can't make any real suggestions on ...</td>\n",
              "      <td>0</td>\n",
              "      <td>0</td>\n",
              "      <td>0</td>\n",
              "      <td>0</td>\n",
              "      <td>0</td>\n",
              "      <td>0</td>\n",
              "    </tr>\n",
              "    <tr>\n",
              "      <th>4</th>\n",
              "      <td>0001d958c54c6e35</td>\n",
              "      <td>You, sir, are my hero. Any chance you remember...</td>\n",
              "      <td>0</td>\n",
              "      <td>0</td>\n",
              "      <td>0</td>\n",
              "      <td>0</td>\n",
              "      <td>0</td>\n",
              "      <td>0</td>\n",
              "    </tr>\n",
              "  </tbody>\n",
              "</table>\n",
              "</div>"
            ],
            "text/plain": [
              "                 id  ... identity_hate\n",
              "0  0000997932d777bf  ...             0\n",
              "1  000103f0d9cfb60f  ...             0\n",
              "2  000113f07ec002fd  ...             0\n",
              "3  0001b41b1c6bb37e  ...             0\n",
              "4  0001d958c54c6e35  ...             0\n",
              "\n",
              "[5 rows x 8 columns]"
            ]
          },
          "metadata": {
            "tags": []
          },
          "execution_count": 6
        }
      ]
    },
    {
      "cell_type": "code",
      "metadata": {
        "colab": {
          "base_uri": "https://localhost:8080/"
        },
        "id": "vNt4Cvy0D4lF",
        "outputId": "d2e6bb5b-2110-4c98-b165-ab2bd5bb13bf"
      },
      "source": [
        "# removinbg duplicate data if there are.\n",
        "toxic_data.drop_duplicates(subset='comment_text', inplace=True)\n",
        "print('NOw data size is : ',toxic_data.shape)"
      ],
      "execution_count": 7,
      "outputs": [
        {
          "output_type": "stream",
          "text": [
            "NOw data size is :  (159571, 8)\n"
          ],
          "name": "stdout"
        }
      ]
    },
    {
      "cell_type": "code",
      "metadata": {
        "colab": {
          "base_uri": "https://localhost:8080/",
          "height": 359
        },
        "id": "705XWvUaFZv3",
        "outputId": "c428c2d3-bd81-418f-9839-e83dc1953532"
      },
      "source": [
        "categories = ['toxic', 'severe_toxic', 'obscene', 'threat', 'insult', 'identity_hate']\n",
        "cat_df = toxic_data[categories].sum(axis=0).plot.bar()\n",
        "\"\"\"\n",
        "for index, row in toxic_data.iterrows():\n",
        "  while index < 5:\n",
        "    print(\"Toxic comment: \", row.toxic_data['comment_text'])\n",
        "    for t in toxic_type:\n",
        "      if row.toxic_data[data]\n",
        "    #print('Toxic type: ', row.toxic_data['toxic'])\n",
        "\"\"\""
      ],
      "execution_count": 8,
      "outputs": [
        {
          "output_type": "execute_result",
          "data": {
            "application/vnd.google.colaboratory.intrinsic+json": {
              "type": "string"
            },
            "text/plain": [
              "'\\nfor index, row in toxic_data.iterrows():\\n  while index < 5:\\n    print(\"Toxic comment: \", row.toxic_data[\\'comment_text\\'])\\n    for t in toxic_type:\\n      if row.toxic_data[data]\\n    #print(\\'Toxic type: \\', row.toxic_data[\\'toxic\\'])\\n'"
            ]
          },
          "metadata": {
            "tags": []
          },
          "execution_count": 8
        },
        {
          "output_type": "display_data",
          "data": {
            "image/png": "[encoded data removed]",
            "text/plain": [
              "<Figure size 432x288 with 1 Axes>"
            ]
          },
          "metadata": {
            "tags": [],
            "needs_background": "light"
          }
        }
      ]
    },
    {
      "cell_type": "code",
      "metadata": {
        "id": "9xLas8MZ_f_G",
        "colab": {
          "base_uri": "https://localhost:8080/",
          "height": 297
        },
        "outputId": "9acc74d5-ef8b-4b34-a7a2-066f3f69ced8"
      },
      "source": [
        "# lets look at the class label distribution of an individual toxic categories\n",
        "count = 1\n",
        "plt.figure(figsize=(8,4))\n",
        "for i, category in enumerate(categories):\n",
        "  plt.subplot(2,3,count)\n",
        "  sns.countplot(toxic_data[category])\n",
        "  count += 1\n",
        "plt.tight_layout()\n",
        "plt.show()"
      ],
      "execution_count": 9,
      "outputs": [
        {
          "output_type": "display_data",
          "data": {
            "image/png": "[encoded data removed]",
            "text/plain": [
              "<Figure size 576x288 with 6 Axes>"
            ]
          },
          "metadata": {
            "tags": [],
            "needs_background": "light"
          }
        }
      ]
    },
    {
      "cell_type": "markdown",
      "metadata": {
        "id": "FXN8hrkFrVXp"
      },
      "source": [
        "Out of aoout 160 thousand observations (online comments),only around 35 thousand comments exhibited toxicity labels (combining all six toxic categores above). This shows that our dataset is highly imbalance. We need to handle such class imbalance which we will do later sections."
      ]
    },
    {
      "cell_type": "code",
      "metadata": {
        "id": "CQ_aznMJx0OD"
      },
      "source": [
        ""
      ],
      "execution_count": 9,
      "outputs": []
    },
    {
      "cell_type": "code",
      "metadata": {
        "id": "RVL93g6c1hkM"
      },
      "source": [
        "stop_words = set(stopwords.words('english'))\n",
        "# function to preprocess and remove stopwords\n",
        "def preprocess(text):\n",
        "  no_stops = []\n",
        "  sent = text.lower()\n",
        "  sent = re.sub(r\"[^a-zA-Z]\",\" \",sent)    # removes all characters except alphabets\n",
        "  sent = re.sub(r'\\s+', ' ', sent)       # removes extra white spaces\n",
        "  #sent = str(text)\n",
        "  for w in sent.split():\n",
        "    if not w in stop_words:\n",
        "      no_stops.append(w)\n",
        "  return (\" \".join(no_stops))"
      ],
      "execution_count": 10,
      "outputs": []
    },
    {
      "cell_type": "code",
      "metadata": {
        "id": "ahsNpE5x17gW"
      },
      "source": [
        "toxic_data['cleaned_comments'] = toxic_data['comment_text'].apply(lambda x: preprocess(str(x)))"
      ],
      "execution_count": 11,
      "outputs": []
    },
    {
      "cell_type": "code",
      "metadata": {
        "id": "HMtrtchRiUTY"
      },
      "source": [
        "X = toxic_data['cleaned_comments'].values  # vector of independent feature (cleaned_comments columns)\n",
        "Y = toxic_data[categories]       # vectors of target class/categories \n",
        "# splitting data into traina and test set \n",
        "#x_train, x_test, y_train, y_test = train_test_split(X, Y, test_size=0.2, random_state=42)\n",
        "\n",
        "# creating vectorizer\n",
        "tfidf = TfidfVectorizer(max_features=5000,stop_words='english', max_df=0.7)\n",
        "tfidf_X = tfidf.fit_transform(X)\n",
        "\n",
        "# saiving the vectorizer as pickle file\n",
        "with open(\"savedmodels/tfidfVectorizer.pkl\", \"wb\") as file:\n",
        "  pickle.dump(tfidf,file)"
      ],
      "execution_count": 12,
      "outputs": []
    },
    {
      "cell_type": "code",
      "metadata": {
        "id": "tzPLhoVaiX-U"
      },
      "source": [
        "# applying undersampling method to downsampe majority class labels. This is done to handle class imbalance\n",
        "def underSampling(y):\n",
        "  downsample = RandomUnderSampler(sampling_strategy='majority')\n",
        "  x_res, y_res = downsample.fit_resample(tfidf_X,y)\n",
        "  return x_res, y_res"
      ],
      "execution_count": 13,
      "outputs": []
    },
    {
      "cell_type": "code",
      "metadata": {
        "id": "NPn489skkVeZ"
      },
      "source": [
        "X_toxic, Y_toxic = underSampling(Y['toxic'].values)\n",
        "X_st, Y_st = underSampling(Y['severe_toxic'].values)\n",
        "X_insult, Y_insult = underSampling(Y['insult'].values)\n",
        "X_threat, Y_threat = underSampling(Y['threat'].values)\n",
        "X_obscene, Y_obscene = underSampling(Y['obscene'].values)\n",
        "X_identity_hate, Y_identity_hate = underSampling(Y['identity_hate'].values)"
      ],
      "execution_count": 14,
      "outputs": []
    },
    {
      "cell_type": "code",
      "metadata": {
        "colab": {
          "base_uri": "https://localhost:8080/",
          "height": 297
        },
        "id": "qb7B0LbZXiEr",
        "outputId": "be0eb3a4-6af1-440d-9e7a-85cf3da861a1"
      },
      "source": [
        "# we just performed random undersampling to handle imabalanced data. Now lets look at the class distribution again\n",
        "def sampledDist(new_categories):\n",
        "  count = 1\n",
        "  plt.figure(figsize=(8,4))\n",
        "  for i,category in enumerate(new_categories):\n",
        "    df = pd.DataFrame({categories[i]:list(category)})\n",
        "    plt.subplot(2,3,count)\n",
        "    sns.countplot(df[categories[i]])\n",
        "    count +=1\n",
        "  plt.tight_layout()\n",
        "  plt.show()\n",
        "    \n",
        "sampledDist([Y_toxic, Y_st, Y_insult, Y_threat, Y_obscene, Y_identity_hate])"
      ],
      "execution_count": 15,
      "outputs": [
        {
          "output_type": "display_data",
          "data": {
            "image/png": "[encoded data removed]",
            "text/plain": [
              "<Figure size 576x288 with 6 Axes>"
            ]
          },
          "metadata": {
            "tags": [],
            "needs_background": "light"
          }
        }
      ]
    },
    {
      "cell_type": "markdown",
      "metadata": {
        "id": "kSxQuKF63Y9F"
      },
      "source": [
        "We shave now balanced class labels distribution for each toxic categories."
      ]
    },
    {
      "cell_type": "code",
      "metadata": {
        "id": "UsameLOjsqcs"
      },
      "source": [
        "# Splitting data into train:test by 80:20 for each toxic categories\n",
        "x_train_t, x_val_t, y_train_t, y_val_t = train_test_split(X_toxic, Y_toxic, test_size=0.2, random_state = 42)\n",
        "x_train_st, x_val_st, y_train_st, y_val_st = train_test_split(X_st, Y_st, test_size=0.2, random_state = 42)\n",
        "x_train_ins, x_val_ins, y_train_ins, y_val_ins = train_test_split(X_insult, Y_insult, test_size=0.2, random_state = 42)\n",
        "x_train_th, x_val_th, y_train_th, y_val_th = train_test_split(X_threat, Y_threat, test_size=0.2, random_state = 42)\n",
        "x_train_obs, x_val_obs, y_train_obs, y_val_obs = train_test_split(X_obscene, Y_obscene, test_size=0.2, random_state = 42)\n",
        "x_train_ih, x_val_ih, y_train_ih, y_val_ih = train_test_split(X_identity_hate, Y_identity_hate, test_size=0.2, random_state = 42)"
      ],
      "execution_count": 16,
      "outputs": []
    },
    {
      "cell_type": "code",
      "metadata": {
        "id": "OM7d_F_j0jgF"
      },
      "source": [
        "## for convenience furing model building and evaluation we dis the following\n",
        "X_train = [x_train_t, x_train_st, x_train_ins, x_train_th, x_train_obs, x_train_ih]\n",
        "Y_train = [y_train_t, y_train_st, y_train_ins, y_train_th, y_train_obs, y_train_ih]\n",
        "X_val = [x_val_t, x_val_st, x_val_ins, x_val_th, x_val_obs, x_val_ih]\n",
        "Y_val = [y_val_t, y_val_st, y_val_ins, y_val_th, y_val_obs, y_val_ih]"
      ],
      "execution_count": 17,
      "outputs": []
    },
    {
      "cell_type": "markdown",
      "metadata": {
        "id": "-M6EU6lETh-U"
      },
      "source": [
        "### Model Training and Evaluating  \n",
        "<small>This is an multilabel classification problem. In such multilabel classification, a same text/independent features can belong to zero or more categores."
      ]
    },
    {
      "cell_type": "code",
      "metadata": {
        "id": "19UqiVx627xi"
      },
      "source": [
        "from sklearn.metrics import precision_recall_fscore_support\n",
        "svc_clf = LinearSVC()\n",
        "linearSVC = LinearSVC()\n",
        "NB_clf = MultinomialNB()\n",
        "log_reg = LogisticRegression()\n",
        "\n",
        "mean_auc_scores = []\n",
        "mean_acc_scores = []\n",
        "def execute(model, x_train=X_train, y_train=Y_train, x_test=X_val, option=True):\n",
        "  accuracies=[]\n",
        "  auc_scores = []\n",
        "  if option:\n",
        "    for i, category in tqdm(enumerate(categories)):\n",
        "      x_tr = x_train[i].toarray()\n",
        "      x_val = x_test[i].toarray()\n",
        "      y_tr = y_train[i]\n",
        "      model.fit(x_tr,y_tr)\n",
        "      prediction = model.predict(x_val)\n",
        "\n",
        "      if len(x_val) == 1:\n",
        "        if option:\n",
        "          print('Prediction for {} is {}'.format(category,prediction))\n",
        "      else:\n",
        "        print('Test accuracy for {} is {}'.format(category,metrics.accuracy_score(Y_val[i],prediction)))\n",
        "        accuracies.append(metrics.accuracy_score(Y_val[i], prediction))\n",
        "        print('AUC score for {} is {}'.format(category, roc_auc_score(Y_val[i],prediction)))\n",
        "        auc_scores.append(metrics.roc_auc_score(Y_val[i],prediction))\n",
        "        #print('precision_recall_fscore_support_weighted', precision_recall_fscore_support(Y_val[i], prediction, average='weighted'))\n",
        "      modelname = 'model_'+category+'.pkl'\n",
        "      path = 'savedmodels/'+modelname \n",
        "      with open(path, 'wb') as file:\n",
        "        pickle.dump(model,file)\n",
        "  print('mean accuracy: ', sum(accuracies)/len(accuracies)) if option and len(accuracies)!=0 else None\n",
        "  print('mean auc score: ', sum(auc_scores)/len(auc_scores)) if option and len(auc_scores)!=0 else None\n",
        "  mean_auc_scores.append(sum(auc_scores)/len(auc_scores)) if option and len(accuracies)!=0 else None\n",
        "  mean_acc_scores.append(sum(auc_scores)/len(auc_scores)) if option and len(auc_scores)!=0 else None\n",
        "  return accuracies, auc_scores"
      ],
      "execution_count": 18,
      "outputs": []
    },
    {
      "cell_type": "code",
      "metadata": {
        "colab": {
          "base_uri": "https://localhost:8080/",
          "height": 1000,
          "referenced_widgets": [
            "496b908874ea4d84bad30f7afdcf3eeb",
            "677dfe637ccc4b5ab8efe6c4dcda7285",
            "9835d0ad41e24cea9f6fceae413fec1a",
            "17dde6d26ab9422aba15e84622b2f5a7",
            "0eb99d6e348444239952f6353339955c",
            "be1f7f94314b439f834e499c11bbb71f",
            "5fd3429e855b4effa0fe89c8e38b17c3",
            "e73a76777483408ab867074e9082686d",
            "03d6317b660b4287925629296c6fe13c",
            "c2e73e61cd324c82aacff801d18187fb",
            "6dc7969837044b07a5053dae8c327644",
            "15da28f175224e389634ca0181968de7",
            "dc69d97887184fcb9731aaef9fc8ae17",
            "85af4bd8d83148d4a054863faacb98d0",
            "c24e18d2b54b42f4849600ee8ce8a946",
            "e49d0482751c4e729b345c887f08af67",
            "288ccbabe2b34b8fa4b5af453da1e30e",
            "b8e2b533dd2d4187aa88c5d5c437e79e",
            "32c2f42c3d724b53b9347a62f7d690f1",
            "f0f370db58fc47f594a958c68b100cd7",
            "a5efe454826a4ded9ef2a732f1857b72",
            "bb73199dd88c468496d8bf8237807d95",
            "4ecd13a128584882a8f09eb2ad7c1b55",
            "2327128029f64311a30710ed1f9830a7"
          ]
        },
        "id": "5os_mhu4DlmW",
        "outputId": "cf8bb70b-9419-4e74-d7d8-36f7c50398e5"
      },
      "source": [
        "print('Result for MultinomialNB: \\n')\n",
        "accNB, aucNB = execute(NB_clf)\n",
        "\n",
        "print('\\n-------------------------------------------------------------------------\\n')\n",
        "print('Result for Linear Support Vector Machine:\\n')\n",
        "accSVM, aucSVM = execute(svc_clf)\n",
        "\n",
        "print('\\n-------------------------------------------------------------------------\\n')\n",
        "print('Result for Logistic Regression:\\n')\n",
        "accLogReg, aucLogReg = execute(log_reg)"
      ],
      "execution_count": 19,
      "outputs": [
        {
          "output_type": "stream",
          "text": [
            "Result for MultinomialNB: \n",
            "\n"
          ],
          "name": "stdout"
        },
        {
          "output_type": "display_data",
          "data": {
            "application/vnd.jupyter.widget-view+json": {
              "model_id": "496b908874ea4d84bad30f7afdcf3eeb",
              "version_minor": 0,
              "version_major": 2
            },
            "text/plain": [
              "HBox(children=(FloatProgress(value=1.0, bar_style='info', max=1.0), HTML(value='')))"
            ]
          },
          "metadata": {
            "tags": []
          }
        },
        {
          "output_type": "stream",
          "text": [
            "Test accuracy for toxic is 0.8703824779339654\n",
            "AUC score for toxic is 0.8706109185122323\n",
            "Test accuracy for severe_toxic is 0.9388714733542319\n",
            "AUC score for severe_toxic is 0.9398441880367103\n",
            "Test accuracy for obscene is 0.8987622976832752\n",
            "AUC score for obscene is 0.8985813802634176\n",
            "Test accuracy for threat is 0.890625\n",
            "AUC score for threat is 0.8866013071895424\n",
            "Test accuracy for insult is 0.8979289940828402\n",
            "AUC score for insult is 0.8984646631915294\n",
            "Test accuracy for identity_hate is 0.905693950177936\n",
            "AUC score for identity_hate is 0.9069863239413412\n",
            "\n",
            "mean accuracy:  0.9003773655387081\n",
            "mean auc score:  0.9001814635224622\n",
            "\n",
            "-------------------------------------------------------------------------\n",
            "\n",
            "Result for Linear Support Vector Machine:\n",
            "\n"
          ],
          "name": "stdout"
        },
        {
          "output_type": "display_data",
          "data": {
            "application/vnd.jupyter.widget-view+json": {
              "model_id": "03d6317b660b4287925629296c6fe13c",
              "version_minor": 0,
              "version_major": 2
            },
            "text/plain": [
              "HBox(children=(FloatProgress(value=1.0, bar_style='info', max=1.0), HTML(value='')))"
            ]
          },
          "metadata": {
            "tags": []
          }
        },
        {
          "output_type": "stream",
          "text": [
            "Test accuracy for toxic is 0.8772474664923178\n",
            "AUC score for toxic is 0.8767562286199475\n",
            "Test accuracy for severe_toxic is 0.9498432601880877\n",
            "AUC score for severe_toxic is 0.9494004583862051\n",
            "Test accuracy for obscene is 0.90352269120914\n",
            "AUC score for obscene is 0.9037306757883795\n",
            "Test accuracy for threat is 0.9166666666666666\n",
            "AUC score for threat is 0.9183006535947712\n",
            "Test accuracy for insult is 0.9266272189349113\n",
            "AUC score for insult is 0.9261247876197971\n",
            "Test accuracy for identity_hate is 0.9145907473309609\n",
            "AUC score for identity_hate is 0.9137102804922875\n",
            "\n",
            "mean accuracy:  0.914749675137014\n",
            "mean auc score:  0.9146705140835646\n",
            "\n",
            "-------------------------------------------------------------------------\n",
            "\n",
            "Result for Logistic Regression:\n",
            "\n"
          ],
          "name": "stdout"
        },
        {
          "output_type": "display_data",
          "data": {
            "application/vnd.jupyter.widget-view+json": {
              "model_id": "288ccbabe2b34b8fa4b5af453da1e30e",
              "version_minor": 0,
              "version_major": 2
            },
            "text/plain": [
              "HBox(children=(FloatProgress(value=1.0, bar_style='info', max=1.0), HTML(value='')))"
            ]
          },
          "metadata": {
            "tags": []
          }
        },
        {
          "output_type": "stream",
          "text": [
            "Test accuracy for toxic is 0.8813337692056228\n",
            "AUC score for toxic is 0.8805823873644016\n",
            "Test accuracy for severe_toxic is 0.9388714733542319\n",
            "AUC score for severe_toxic is 0.9376801329910192\n",
            "Test accuracy for obscene is 0.902570612503967\n",
            "AUC score for obscene is 0.9029800684128462\n",
            "Test accuracy for threat is 0.8958333333333334\n",
            "AUC score for threat is 0.8993464052287583\n",
            "Test accuracy for insult is 0.926923076923077\n",
            "AUC score for insult is 0.9261764488524026\n",
            "Test accuracy for identity_hate is 0.9039145907473309\n",
            "AUC score for identity_hate is 0.9022142793769091\n",
            "\n",
            "mean accuracy:  0.9082411426779272\n",
            "mean auc score:  0.9081632870377229\n"
          ],
          "name": "stdout"
        }
      ]
    },
    {
      "cell_type": "code",
      "metadata": {
        "id": "9yC2vKLbP60G"
      },
      "source": [
        "\n",
        "#For MultOutputClasifier strategy\n",
        "def execute2(model, x_train=X_train, y_train=Y_train, x_test=X_val, verbose=True):\n",
        "  accuracies=[]\n",
        "  conf_matrix = []\n",
        "  for i, category in tqdm(enumerate(categories)):\n",
        "    x_tr = x_train[i].toarray()\n",
        "    x_val = x_test[i].toarray()\n",
        "    y_tr = y_train[i]\n",
        "    model.fit(x_tr,y_tr)\n",
        "    y_pred = model.predict(x_val)\n",
        "    # converting both y_test and y_pred to  array   \n",
        "    y_test_array = np.array(Y_val[i].tolist())\n",
        "    y_pred_array = np.array(y_pred.tolist())\n",
        "    conf_mat = metrics.confusion_matrix(Y_val[i], y_pred)\n",
        "    print(conf_mat)\n",
        "  return accuracies"
      ],
      "execution_count": 20,
      "outputs": []
    },
    {
      "cell_type": "code",
      "metadata": {
        "colab": {
          "base_uri": "https://localhost:8080/",
          "height": 980,
          "referenced_widgets": [
            "63945749ad5747a58bd8868f8ae7e5d5",
            "013ebfe0041641d0a8b079473951c3a1",
            "34bc983afc6a45dfa943b0a654dd1b08",
            "c2824dacc88e40058ee251ae147f792f",
            "8425b817524f4a73b50c5dd209a794c6",
            "efbd43371683470eaa60c9877a3b21a5",
            "b08efaf654d145ed90fc6052183b7ecf",
            "f955c0647475431ebc24d5174fe65a1e",
            "7ea79bc57eef497497fd4d389b216f42",
            "d9f1112dfb0b4a3998bc50ccd456bcdd",
            "29ba7f7d682349e196f8e2146bc81d6a",
            "3d40b4004a6b45b3bed5aea3c7b911bf",
            "1b6838b5f8f841b6b3412646d509e17d",
            "515cb20dc27c43e884c09a391e11df59",
            "0091d8847e174e5b875c97fbaf8de17e",
            "30a9c9df44894533a7ff1c347b8352ff",
            "74d38686ce304e9f8ebdef6c335891a0",
            "75ff351892fd42198299b6fcf1a2e719",
            "7010a35983914bfba003cbfcc29b0b43",
            "1f3365534af44644ac48ba71f9fa44dc",
            "48948e0de8234b388c44b728619ab1f6",
            "aa8de5a6600b4c04a623ebc31bab0de6",
            "43399cbdf36443b3955297f45fa9e403",
            "af8542b438d64ca8ba853b4b0e4764f8"
          ]
        },
        "id": "r8wBmKvcdt7u",
        "outputId": "de55b762-c98b-4073-d213-7866b3bb7ea9"
      },
      "source": [
        "## Confusion Matrix\n",
        "\n",
        "print('Result for MultinomialNB: \\n')\n",
        "confNB_CM = execute2(NB_clf)\n",
        "\n",
        "print('\\n-------------------------------------------------------------------------\\n')\n",
        "print('Result for Linear Support Vector Machine:\\n')\n",
        "confLogreg = execute2(log_reg)\n",
        "\n",
        "print('\\n-------------------------------------------------------------------------\\n')\n",
        "print('Result for Linear Support Vector Machine:\\n')\n",
        "confSVM_CM = execute2(svc_clf)"
      ],
      "execution_count": 21,
      "outputs": [
        {
          "output_type": "stream",
          "text": [
            "Result for MultinomialNB: \n",
            "\n"
          ],
          "name": "stdout"
        },
        {
          "output_type": "display_data",
          "data": {
            "application/vnd.jupyter.widget-view+json": {
              "model_id": "63945749ad5747a58bd8868f8ae7e5d5",
              "version_minor": 0,
              "version_major": 2
            },
            "text/plain": [
              "HBox(children=(FloatProgress(value=1.0, bar_style='info', max=1.0), HTML(value='')))"
            ]
          },
          "metadata": {
            "tags": []
          }
        },
        {
          "output_type": "stream",
          "text": [
            "[[2682  439]\n",
            " [ 354 2643]]\n",
            "[[299  30]\n",
            " [  9 300]]\n",
            "[[1372  189]\n",
            " [ 130 1460]]\n",
            "[[74 16]\n",
            " [ 5 97]]\n",
            "[[1496  225]\n",
            " [ 120 1539]]\n",
            "[[249  40]\n",
            " [ 13 260]]\n",
            "\n",
            "\n",
            "-------------------------------------------------------------------------\n",
            "\n",
            "Result for Linear Support Vector Machine:\n",
            "\n"
          ],
          "name": "stdout"
        },
        {
          "output_type": "display_data",
          "data": {
            "application/vnd.jupyter.widget-view+json": {
              "model_id": "7ea79bc57eef497497fd4d389b216f42",
              "version_minor": 0,
              "version_major": 2
            },
            "text/plain": [
              "HBox(children=(FloatProgress(value=1.0, bar_style='info', max=1.0), HTML(value='')))"
            ]
          },
          "metadata": {
            "tags": []
          }
        },
        {
          "output_type": "stream",
          "text": [
            "[[2864  257]\n",
            " [ 469 2528]]\n",
            "[[321   8]\n",
            " [ 31 278]]\n",
            "[[1479   82]\n",
            " [ 225 1365]]\n",
            "[[86  4]\n",
            " [16 86]]\n",
            "[[1664   57]\n",
            " [ 190 1469]]\n",
            "[[278  11]\n",
            " [ 43 230]]\n",
            "\n",
            "\n",
            "-------------------------------------------------------------------------\n",
            "\n",
            "Result for Linear Support Vector Machine:\n",
            "\n"
          ],
          "name": "stdout"
        },
        {
          "output_type": "display_data",
          "data": {
            "application/vnd.jupyter.widget-view+json": {
              "model_id": "74d38686ce304e9f8ebdef6c335891a0",
              "version_minor": 0,
              "version_major": 2
            },
            "text/plain": [
              "HBox(children=(FloatProgress(value=1.0, bar_style='info', max=1.0), HTML(value='')))"
            ]
          },
          "metadata": {
            "tags": []
          }
        },
        {
          "output_type": "stream",
          "text": [
            "[[2812  309]\n",
            " [ 442 2555]]\n",
            "[[317  12]\n",
            " [ 20 289]]\n",
            "[[1446  115]\n",
            " [ 189 1401]]\n",
            "[[85  5]\n",
            " [11 91]]\n",
            "[[1641   80]\n",
            " [ 168 1491]]\n",
            "[[273  16]\n",
            " [ 32 241]]\n",
            "\n"
          ],
          "name": "stdout"
        }
      ]
    },
    {
      "cell_type": "markdown",
      "metadata": {
        "id": "YSx3FBPkNSZ9"
      },
      "source": [
        ""
      ]
    },
    {
      "cell_type": "code",
      "metadata": {
        "id": "d7zmCGg1hOHU"
      },
      "source": [
        "# for classification report\n",
        "def execute3(model, x_train=X_train, y_train=Y_train, x_test=X_val, verbose=True):\n",
        "  accuracies=[]\n",
        "  for i, category in tqdm(enumerate(categories)):\n",
        "    x_tr = x_train[i].toarray()\n",
        "    x_val = x_test[i].toarray()\n",
        "    y_tr = y_train[i]\n",
        "    model.fit(x_tr,y_tr)\n",
        "    y_pred = model.predict(x_val)\n",
        "    # converting both y_test and y_pred to  array   \n",
        "    y_test_array = np.array(Y_val[i].tolist())\n",
        "    y_pred_array = np.array(y_pred.tolist())\n",
        "    #clf_report = metrics.classification_report(Y_val[i], y_pred)\n",
        "    clf_report = metrics.classification_report(y_test_array, y_pred_array)\n",
        "    print('Classification Report for {}'.format(category))\n",
        "    print(clf_report)\n",
        "    print('\\n')\n",
        "  return accuracies"
      ],
      "execution_count": 22,
      "outputs": []
    },
    {
      "cell_type": "code",
      "metadata": {
        "colab": {
          "base_uri": "https://localhost:8080/",
          "height": 1000,
          "referenced_widgets": [
            "21426de7812b4be8a2339262ef4fae9f",
            "8bca2fe6b9fc4dacb1ae44e52ebef76f",
            "1d31d0e6d7f34625b18bf4c00a4f38c6",
            "2bfdd07f81924b3395d7aa02e1716e92",
            "e8f5ff4060de41dbbe2b92414edadc3b",
            "a4259c62a4184fc78568c076249d7266",
            "99f538a244f847a5962cddbe5bad248d",
            "6250740593a3443ca64714141cca4b22",
            "d6724daf0f964f1da3a8872974feae0e",
            "36408d5d48c342da828e9d959879a991",
            "b4feb300786b416bb4d484a6265ecf40",
            "7c37999c39fa42e0b707f59e1af0e9b8",
            "ac8f603a163945df8e688237a72f1e1e",
            "bf736024381f46cba119d22ebc77faa7",
            "0791c94a1df84cfe81bfd18c85dd1373",
            "0f1e227874c84927bc02999c3047a867",
            "a9d43229e34c4e66afa156451dada680",
            "66722ff5bf1047c18339ae75a4c429c5",
            "2cbcae3dda1747c681d0daad3f560bcb",
            "cae1eeab38244b6a9360679a97a78e45",
            "b5599fd88d58469faca2c5149060f6da",
            "b0ff78501499478384e94ae6d02c2905",
            "d46803ea5da14282af9081d4d5573bdf",
            "b25d26b291594d0aa9de349e5dc52ec4"
          ]
        },
        "id": "QcVM_N-RiCPA",
        "outputId": "a9deab43-3649-4765-f84e-a6461ae9a2a5"
      },
      "source": [
        "print('Result for MultinomialNB: \\n')\n",
        "accNB_cr = execute3(NB_clf)\n",
        "\n",
        "print('\\n-------------------------------------------------------------------------\\n')\n",
        "print('Result for Logistic Regression:\\n')\n",
        "accLogreg = execute3(log_reg)\n",
        "\n",
        "print('\\n-------------------------------------------------------------------------\\n')\n",
        "print('Result for Linear Support Vector Machine:\\n')\n",
        "accSVM_cr = execute3(svc_clf)"
      ],
      "execution_count": 23,
      "outputs": [
        {
          "output_type": "stream",
          "text": [
            "Result for MultinomialNB: \n",
            "\n"
          ],
          "name": "stdout"
        },
        {
          "output_type": "display_data",
          "data": {
            "application/vnd.jupyter.widget-view+json": {
              "model_id": "21426de7812b4be8a2339262ef4fae9f",
              "version_minor": 0,
              "version_major": 2
            },
            "text/plain": [
              "HBox(children=(FloatProgress(value=1.0, bar_style='info', max=1.0), HTML(value='')))"
            ]
          },
          "metadata": {
            "tags": []
          }
        },
        {
          "output_type": "stream",
          "text": [
            "Classification Report for toxic\n",
            "              precision    recall  f1-score   support\n",
            "\n",
            "           0       0.88      0.86      0.87      3121\n",
            "           1       0.86      0.88      0.87      2997\n",
            "\n",
            "    accuracy                           0.87      6118\n",
            "   macro avg       0.87      0.87      0.87      6118\n",
            "weighted avg       0.87      0.87      0.87      6118\n",
            "\n",
            "\n",
            "\n",
            "Classification Report for severe_toxic\n",
            "              precision    recall  f1-score   support\n",
            "\n",
            "           0       0.97      0.91      0.94       329\n",
            "           1       0.91      0.97      0.94       309\n",
            "\n",
            "    accuracy                           0.94       638\n",
            "   macro avg       0.94      0.94      0.94       638\n",
            "weighted avg       0.94      0.94      0.94       638\n",
            "\n",
            "\n",
            "\n",
            "Classification Report for obscene\n",
            "              precision    recall  f1-score   support\n",
            "\n",
            "           0       0.91      0.88      0.90      1561\n",
            "           1       0.89      0.92      0.90      1590\n",
            "\n",
            "    accuracy                           0.90      3151\n",
            "   macro avg       0.90      0.90      0.90      3151\n",
            "weighted avg       0.90      0.90      0.90      3151\n",
            "\n",
            "\n",
            "\n",
            "Classification Report for threat\n",
            "              precision    recall  f1-score   support\n",
            "\n",
            "           0       0.94      0.82      0.88        90\n",
            "           1       0.86      0.95      0.90       102\n",
            "\n",
            "    accuracy                           0.89       192\n",
            "   macro avg       0.90      0.89      0.89       192\n",
            "weighted avg       0.90      0.89      0.89       192\n",
            "\n",
            "\n",
            "\n",
            "Classification Report for insult\n",
            "              precision    recall  f1-score   support\n",
            "\n",
            "           0       0.93      0.87      0.90      1721\n",
            "           1       0.87      0.93      0.90      1659\n",
            "\n",
            "    accuracy                           0.90      3380\n",
            "   macro avg       0.90      0.90      0.90      3380\n",
            "weighted avg       0.90      0.90      0.90      3380\n",
            "\n",
            "\n",
            "\n",
            "Classification Report for identity_hate\n",
            "              precision    recall  f1-score   support\n",
            "\n",
            "           0       0.95      0.86      0.90       289\n",
            "           1       0.87      0.95      0.91       273\n",
            "\n",
            "    accuracy                           0.91       562\n",
            "   macro avg       0.91      0.91      0.91       562\n",
            "weighted avg       0.91      0.91      0.91       562\n",
            "\n",
            "\n",
            "\n",
            "\n",
            "\n",
            "-------------------------------------------------------------------------\n",
            "\n",
            "Result for Logistic Regression:\n",
            "\n"
          ],
          "name": "stdout"
        },
        {
          "output_type": "display_data",
          "data": {
            "application/vnd.jupyter.widget-view+json": {
              "model_id": "d6724daf0f964f1da3a8872974feae0e",
              "version_minor": 0,
              "version_major": 2
            },
            "text/plain": [
              "HBox(children=(FloatProgress(value=1.0, bar_style='info', max=1.0), HTML(value='')))"
            ]
          },
          "metadata": {
            "tags": []
          }
        },
        {
          "output_type": "stream",
          "text": [
            "Classification Report for toxic\n",
            "              precision    recall  f1-score   support\n",
            "\n",
            "           0       0.86      0.92      0.89      3121\n",
            "           1       0.91      0.84      0.87      2997\n",
            "\n",
            "    accuracy                           0.88      6118\n",
            "   macro avg       0.88      0.88      0.88      6118\n",
            "weighted avg       0.88      0.88      0.88      6118\n",
            "\n",
            "\n",
            "\n",
            "Classification Report for severe_toxic\n",
            "              precision    recall  f1-score   support\n",
            "\n",
            "           0       0.91      0.98      0.94       329\n",
            "           1       0.97      0.90      0.93       309\n",
            "\n",
            "    accuracy                           0.94       638\n",
            "   macro avg       0.94      0.94      0.94       638\n",
            "weighted avg       0.94      0.94      0.94       638\n",
            "\n",
            "\n",
            "\n",
            "Classification Report for obscene\n",
            "              precision    recall  f1-score   support\n",
            "\n",
            "           0       0.87      0.95      0.91      1561\n",
            "           1       0.94      0.86      0.90      1590\n",
            "\n",
            "    accuracy                           0.90      3151\n",
            "   macro avg       0.91      0.90      0.90      3151\n",
            "weighted avg       0.91      0.90      0.90      3151\n",
            "\n",
            "\n",
            "\n",
            "Classification Report for threat\n",
            "              precision    recall  f1-score   support\n",
            "\n",
            "           0       0.84      0.96      0.90        90\n",
            "           1       0.96      0.84      0.90       102\n",
            "\n",
            "    accuracy                           0.90       192\n",
            "   macro avg       0.90      0.90      0.90       192\n",
            "weighted avg       0.90      0.90      0.90       192\n",
            "\n",
            "\n",
            "\n",
            "Classification Report for insult\n",
            "              precision    recall  f1-score   support\n",
            "\n",
            "           0       0.90      0.97      0.93      1721\n",
            "           1       0.96      0.89      0.92      1659\n",
            "\n",
            "    accuracy                           0.93      3380\n",
            "   macro avg       0.93      0.93      0.93      3380\n",
            "weighted avg       0.93      0.93      0.93      3380\n",
            "\n",
            "\n",
            "\n",
            "Classification Report for identity_hate\n",
            "              precision    recall  f1-score   support\n",
            "\n",
            "           0       0.87      0.96      0.91       289\n",
            "           1       0.95      0.84      0.89       273\n",
            "\n",
            "    accuracy                           0.90       562\n",
            "   macro avg       0.91      0.90      0.90       562\n",
            "weighted avg       0.91      0.90      0.90       562\n",
            "\n",
            "\n",
            "\n",
            "\n",
            "\n",
            "-------------------------------------------------------------------------\n",
            "\n",
            "Result for Linear Support Vector Machine:\n",
            "\n"
          ],
          "name": "stdout"
        },
        {
          "output_type": "display_data",
          "data": {
            "application/vnd.jupyter.widget-view+json": {
              "model_id": "a9d43229e34c4e66afa156451dada680",
              "version_minor": 0,
              "version_major": 2
            },
            "text/plain": [
              "HBox(children=(FloatProgress(value=1.0, bar_style='info', max=1.0), HTML(value='')))"
            ]
          },
          "metadata": {
            "tags": []
          }
        },
        {
          "output_type": "stream",
          "text": [
            "Classification Report for toxic\n",
            "              precision    recall  f1-score   support\n",
            "\n",
            "           0       0.86      0.90      0.88      3121\n",
            "           1       0.89      0.85      0.87      2997\n",
            "\n",
            "    accuracy                           0.88      6118\n",
            "   macro avg       0.88      0.88      0.88      6118\n",
            "weighted avg       0.88      0.88      0.88      6118\n",
            "\n",
            "\n",
            "\n",
            "Classification Report for severe_toxic\n",
            "              precision    recall  f1-score   support\n",
            "\n",
            "           0       0.94      0.96      0.95       329\n",
            "           1       0.96      0.94      0.95       309\n",
            "\n",
            "    accuracy                           0.95       638\n",
            "   macro avg       0.95      0.95      0.95       638\n",
            "weighted avg       0.95      0.95      0.95       638\n",
            "\n",
            "\n",
            "\n",
            "Classification Report for obscene\n",
            "              precision    recall  f1-score   support\n",
            "\n",
            "           0       0.88      0.93      0.90      1561\n",
            "           1       0.92      0.88      0.90      1590\n",
            "\n",
            "    accuracy                           0.90      3151\n",
            "   macro avg       0.90      0.90      0.90      3151\n",
            "weighted avg       0.90      0.90      0.90      3151\n",
            "\n",
            "\n",
            "\n",
            "Classification Report for threat\n",
            "              precision    recall  f1-score   support\n",
            "\n",
            "           0       0.89      0.94      0.91        90\n",
            "           1       0.95      0.89      0.92       102\n",
            "\n",
            "    accuracy                           0.92       192\n",
            "   macro avg       0.92      0.92      0.92       192\n",
            "weighted avg       0.92      0.92      0.92       192\n",
            "\n",
            "\n",
            "\n",
            "Classification Report for insult\n",
            "              precision    recall  f1-score   support\n",
            "\n",
            "           0       0.91      0.95      0.93      1721\n",
            "           1       0.95      0.90      0.92      1659\n",
            "\n",
            "    accuracy                           0.93      3380\n",
            "   macro avg       0.93      0.93      0.93      3380\n",
            "weighted avg       0.93      0.93      0.93      3380\n",
            "\n",
            "\n",
            "\n",
            "Classification Report for identity_hate\n",
            "              precision    recall  f1-score   support\n",
            "\n",
            "           0       0.90      0.94      0.92       289\n",
            "           1       0.94      0.88      0.91       273\n",
            "\n",
            "    accuracy                           0.91       562\n",
            "   macro avg       0.92      0.91      0.91       562\n",
            "weighted avg       0.92      0.91      0.91       562\n",
            "\n",
            "\n",
            "\n",
            "\n"
          ],
          "name": "stdout"
        }
      ]
    },
    {
      "cell_type": "code",
      "metadata": {
        "id": "HBXAhdmhzzMk"
      },
      "source": [
        "## we shall calculate auc_scores and plot roc_auc_curve here\n",
        "def execute4(model, x_train=X_train, x_test=X_val, y_train=Y_train):\n",
        "  auc_scores=[]\n",
        "  count = 1\n",
        "  plt.figure(figsize=(12,4))\n",
        "  for i, category in tqdm(enumerate(categories)):\n",
        "    auc_scores=[]\n",
        "    x_tr = x_train[i].toarray()\n",
        "    x_val = x_test[i].toarray()\n",
        "    y_tr = y_train[i]\n",
        "    model.fit(x_tr,y_tr)\n",
        "    y_pred = model.predict(x_val)\n",
        "    auc_score = roc_auc_score(Y_val[i],y_pred)\n",
        "    print('AUC scores of '+category+':', auc_score)\n",
        "    y_pred_prob = model.predict_proba(x_val)[:,1]\n",
        "    fpr, tpr, thresholds = roc_curve(Y_val[i], y_pred_prob)\n",
        "    plt.subplot(2,3,count)\n",
        "    plt.plot([0, 1], [0, 1], 'k--' )\n",
        "    plt.plot(fpr, tpr, label=category,color = \"r\")\n",
        "    plt.xlabel('False Positive Rate')\n",
        "    plt.ylabel('True Positive Rate')\n",
        "    plt.title('ROC Curve '+category,fontsize=12)\n",
        "    count = count+1\n",
        "    auc_scores.append(auc_score)\n",
        "  print('mean auc_score : ', sum(auc_scores)/len(auc_scores))\n",
        "  print('acu_scores:', auc_scores)\n",
        "  plt.tight_layout()\n",
        "  plt.show()"
      ],
      "execution_count": 24,
      "outputs": []
    },
    {
      "cell_type": "code",
      "metadata": {
        "colab": {
          "base_uri": "https://localhost:8080/",
          "height": 1000,
          "referenced_widgets": [
            "6ce16174b522483294a4b2cf810c0923",
            "8a42b8090e654db3bd2a24fd475afde7",
            "d4219454a67847afb0e342ba6ca129d4",
            "93925f4c3b284a1f83a37176db102a38",
            "094efe4661e34027bb06a1029462dd87",
            "0b15b4450871411b85d862e74abe4915",
            "a77d3b41421c4734b60dd9c3f32837ad",
            "1e7a1be14dfc4c4495bcd8c29a37df65",
            "3522bf70fed14a1b9af2336dc3801496",
            "6a46eb6b601a483d87a4e98c8b34b467",
            "49fe4cceb71c47ea8407ff8f398aed25",
            "e3dcedf9bca3449d90ab8b9bfda1b308",
            "ca75592b96774d84bbf6d0baed99f8f6",
            "20da8acb310e42b6a8b2d8c8652ce872",
            "948e2302b2be4f468be4cfc3ca3f79ee",
            "9d28ad0fcfc24045bac87c2c5bccbc8c"
          ]
        },
        "id": "sJxSQsbl6_Bf",
        "outputId": "91f49384-3ef1-4019-de83-34590dd01576"
      },
      "source": [
        "print('Result for Naive Bayes:\\n')\n",
        "roccurveNB = execute4(NB_clf)\n",
        "\n",
        "print('\\n-------------------------------------------------------------------------\\n')\n",
        "print('Result for Linear SVM:\\n')\n",
        "roccurve_logreg = execute4(log_reg)"
      ],
      "execution_count": 25,
      "outputs": [
        {
          "output_type": "stream",
          "text": [
            "Result for Naive Bayes:\n",
            "\n"
          ],
          "name": "stdout"
        },
        {
          "output_type": "display_data",
          "data": {
            "application/vnd.jupyter.widget-view+json": {
              "model_id": "6ce16174b522483294a4b2cf810c0923",
              "version_minor": 0,
              "version_major": 2
            },
            "text/plain": [
              "HBox(children=(FloatProgress(value=1.0, bar_style='info', max=1.0), HTML(value='')))"
            ]
          },
          "metadata": {
            "tags": []
          }
        },
        {
          "output_type": "stream",
          "text": [
            "AUC scores of toxic: 0.8706109185122323\n",
            "AUC scores of severe_toxic: 0.9398441880367103\n",
            "AUC scores of obscene: 0.8985813802634176\n",
            "AUC scores of threat: 0.8866013071895424\n",
            "AUC scores of insult: 0.8984646631915294\n",
            "AUC scores of identity_hate: 0.9069863239413412\n",
            "\n",
            "mean auc_score :  0.9069863239413412\n",
            "acu_scores: [0.9069863239413412]\n"
          ],
          "name": "stdout"
        },
        {
          "output_type": "display_data",
          "data": {
            "image/png": "[encoded data removed]",
            "text/plain": [
              "<Figure size 864x288 with 6 Axes>"
            ]
          },
          "metadata": {
            "tags": [],
            "needs_background": "light"
          }
        },
        {
          "output_type": "stream",
          "text": [
            "\n",
            "-------------------------------------------------------------------------\n",
            "\n",
            "Result for Linear SVM:\n",
            "\n"
          ],
          "name": "stdout"
        },
        {
          "output_type": "display_data",
          "data": {
            "application/vnd.jupyter.widget-view+json": {
              "model_id": "3522bf70fed14a1b9af2336dc3801496",
              "version_minor": 0,
              "version_major": 2
            },
            "text/plain": [
              "HBox(children=(FloatProgress(value=1.0, bar_style='info', max=1.0), HTML(value='')))"
            ]
          },
          "metadata": {
            "tags": []
          }
        },
        {
          "output_type": "stream",
          "text": [
            "AUC scores of toxic: 0.8805823873644016\n",
            "AUC scores of severe_toxic: 0.9376801329910192\n",
            "AUC scores of obscene: 0.9029800684128462\n",
            "AUC scores of threat: 0.8993464052287583\n",
            "AUC scores of insult: 0.9261764488524026\n",
            "AUC scores of identity_hate: 0.9022142793769091\n",
            "\n",
            "mean auc_score :  0.9022142793769091\n",
            "acu_scores: [0.9022142793769091]\n"
          ],
          "name": "stdout"
        },
        {
          "output_type": "display_data",
          "data": {
            "image/png": "[encoded data removed]",
            "text/plain": [
              "<Figure size 864x288 with 6 Axes>"
            ]
          },
          "metadata": {
            "tags": [],
            "needs_background": "light"
          }
        }
      ]
    },
    {
      "cell_type": "code",
      "metadata": {
        "id": "hs0rZIrmU37u"
      },
      "source": [
        ""
      ],
      "execution_count": 25,
      "outputs": []
    },
    {
      "cell_type": "markdown",
      "metadata": {
        "id": "RjFBIKlgVEhR"
      },
      "source": [
        "##### Model comparasion"
      ]
    },
    {
      "cell_type": "code",
      "metadata": {
        "id": "ZS2dW-lWVklW",
        "colab": {
          "base_uri": "https://localhost:8080/",
          "height": 266
        },
        "outputId": "3ee1d7ee-be21-42cb-aa2f-7d39ba80d9a3"
      },
      "source": [
        "compare_df = pd.DataFrame()\n",
        "compare_df['Category'] = categories\n",
        "compare_df['AUC NB'] = aucNB\n",
        "compare_df['AUC LogReg'] = aucLogReg\n",
        "compare_df['AUC SVM'] = aucSVM\n",
        "compare_df['SVM advantage to NB'] = compare_df['AUC SVM'] - compare_df['AUC NB']\n",
        "compare_df['SVM advantage to LogReg'] = compare_df['AUC SVM'] - compare_df['AUC LogReg']\n",
        "compare_df.index = compare_df.Category\n",
        "compare_df.drop('Category', axis=1, inplace=True)\n",
        "compare_df.to_csv('model comparison/AUC_comparison.csv')\n",
        "compare_df"
      ],
      "execution_count": 26,
      "outputs": [
        {
          "output_type": "execute_result",
          "data": {
            "text/html": [
              "<div>\n",
              "<style scoped>\n",
              "    .dataframe tbody tr th:only-of-type {\n",
              "        vertical-align: middle;\n",
              "    }\n",
              "\n",
              "    .dataframe tbody tr th {\n",
              "        vertical-align: top;\n",
              "    }\n",
              "\n",
              "    .dataframe thead th {\n",
              "        text-align: right;\n",
              "    }\n",
              "</style>\n",
              "<table border=\"1\" class=\"dataframe\">\n",
              "  <thead>\n",
              "    <tr style=\"text-align: right;\">\n",
              "      <th></th>\n",
              "      <th>AUC NB</th>\n",
              "      <th>AUC LogReg</th>\n",
              "      <th>AUC SVM</th>\n",
              "      <th>SVM advantage to NB</th>\n",
              "      <th>SVM advantage to LogReg</th>\n",
              "    </tr>\n",
              "    <tr>\n",
              "      <th>Category</th>\n",
              "      <th></th>\n",
              "      <th></th>\n",
              "      <th></th>\n",
              "      <th></th>\n",
              "      <th></th>\n",
              "    </tr>\n",
              "  </thead>\n",
              "  <tbody>\n",
              "    <tr>\n",
              "      <th>toxic</th>\n",
              "      <td>0.870611</td>\n",
              "      <td>0.880582</td>\n",
              "      <td>0.876756</td>\n",
              "      <td>0.006145</td>\n",
              "      <td>-0.003826</td>\n",
              "    </tr>\n",
              "    <tr>\n",
              "      <th>severe_toxic</th>\n",
              "      <td>0.939844</td>\n",
              "      <td>0.937680</td>\n",
              "      <td>0.949400</td>\n",
              "      <td>0.009556</td>\n",
              "      <td>0.011720</td>\n",
              "    </tr>\n",
              "    <tr>\n",
              "      <th>obscene</th>\n",
              "      <td>0.898581</td>\n",
              "      <td>0.902980</td>\n",
              "      <td>0.903731</td>\n",
              "      <td>0.005149</td>\n",
              "      <td>0.000751</td>\n",
              "    </tr>\n",
              "    <tr>\n",
              "      <th>threat</th>\n",
              "      <td>0.886601</td>\n",
              "      <td>0.899346</td>\n",
              "      <td>0.918301</td>\n",
              "      <td>0.031699</td>\n",
              "      <td>0.018954</td>\n",
              "    </tr>\n",
              "    <tr>\n",
              "      <th>insult</th>\n",
              "      <td>0.898465</td>\n",
              "      <td>0.926176</td>\n",
              "      <td>0.926125</td>\n",
              "      <td>0.027660</td>\n",
              "      <td>-0.000052</td>\n",
              "    </tr>\n",
              "    <tr>\n",
              "      <th>identity_hate</th>\n",
              "      <td>0.906986</td>\n",
              "      <td>0.902214</td>\n",
              "      <td>0.913710</td>\n",
              "      <td>0.006724</td>\n",
              "      <td>0.011496</td>\n",
              "    </tr>\n",
              "  </tbody>\n",
              "</table>\n",
              "</div>"
            ],
            "text/plain": [
              "                 AUC NB  ...  SVM advantage to LogReg\n",
              "Category                 ...                         \n",
              "toxic          0.870611  ...                -0.003826\n",
              "severe_toxic   0.939844  ...                 0.011720\n",
              "obscene        0.898581  ...                 0.000751\n",
              "threat         0.886601  ...                 0.018954\n",
              "insult         0.898465  ...                -0.000052\n",
              "identity_hate  0.906986  ...                 0.011496\n",
              "\n",
              "[6 rows x 5 columns]"
            ]
          },
          "metadata": {
            "tags": []
          },
          "execution_count": 26
        }
      ]
    },
    {
      "cell_type": "code",
      "metadata": {
        "colab": {
          "base_uri": "https://localhost:8080/",
          "height": 266
        },
        "id": "nlVc_uIrEUUM",
        "outputId": "d77c4b28-d6c7-46c1-ac18-0fe55c351812"
      },
      "source": [
        "compare_df = pd.DataFrame()\n",
        "compare_df['Category'] = categories\n",
        "compare_df['Acc NB'] = accNB\n",
        "compare_df['Acc LogReg'] = accLogReg\n",
        "compare_df['Acc SVM'] = accSVM\n",
        "compare_df['SVM advantage to NB'] = compare_df['Acc SVM'] - compare_df['Acc NB']\n",
        "compare_df['SVM advantage to LogReg'] = compare_df['Acc SVM'] - compare_df['Acc LogReg']\n",
        "compare_df.index = compare_df.Category\n",
        "compare_df.drop('Category', axis=1, inplace=True)\n",
        "compare_df.to_csv('model comparison/model2_comparison.csv')\n",
        "compare_df"
      ],
      "execution_count": 27,
      "outputs": [
        {
          "output_type": "execute_result",
          "data": {
            "text/html": [
              "<div>\n",
              "<style scoped>\n",
              "    .dataframe tbody tr th:only-of-type {\n",
              "        vertical-align: middle;\n",
              "    }\n",
              "\n",
              "    .dataframe tbody tr th {\n",
              "        vertical-align: top;\n",
              "    }\n",
              "\n",
              "    .dataframe thead th {\n",
              "        text-align: right;\n",
              "    }\n",
              "</style>\n",
              "<table border=\"1\" class=\"dataframe\">\n",
              "  <thead>\n",
              "    <tr style=\"text-align: right;\">\n",
              "      <th></th>\n",
              "      <th>Acc NB</th>\n",
              "      <th>Acc LogReg</th>\n",
              "      <th>Acc SVM</th>\n",
              "      <th>SVM advantage to NB</th>\n",
              "      <th>SVM advantage to LogReg</th>\n",
              "    </tr>\n",
              "    <tr>\n",
              "      <th>Category</th>\n",
              "      <th></th>\n",
              "      <th></th>\n",
              "      <th></th>\n",
              "      <th></th>\n",
              "      <th></th>\n",
              "    </tr>\n",
              "  </thead>\n",
              "  <tbody>\n",
              "    <tr>\n",
              "      <th>toxic</th>\n",
              "      <td>0.870382</td>\n",
              "      <td>0.881334</td>\n",
              "      <td>0.877247</td>\n",
              "      <td>0.006865</td>\n",
              "      <td>-0.004086</td>\n",
              "    </tr>\n",
              "    <tr>\n",
              "      <th>severe_toxic</th>\n",
              "      <td>0.938871</td>\n",
              "      <td>0.938871</td>\n",
              "      <td>0.949843</td>\n",
              "      <td>0.010972</td>\n",
              "      <td>0.010972</td>\n",
              "    </tr>\n",
              "    <tr>\n",
              "      <th>obscene</th>\n",
              "      <td>0.898762</td>\n",
              "      <td>0.902571</td>\n",
              "      <td>0.903523</td>\n",
              "      <td>0.004760</td>\n",
              "      <td>0.000952</td>\n",
              "    </tr>\n",
              "    <tr>\n",
              "      <th>threat</th>\n",
              "      <td>0.890625</td>\n",
              "      <td>0.895833</td>\n",
              "      <td>0.916667</td>\n",
              "      <td>0.026042</td>\n",
              "      <td>0.020833</td>\n",
              "    </tr>\n",
              "    <tr>\n",
              "      <th>insult</th>\n",
              "      <td>0.897929</td>\n",
              "      <td>0.926923</td>\n",
              "      <td>0.926627</td>\n",
              "      <td>0.028698</td>\n",
              "      <td>-0.000296</td>\n",
              "    </tr>\n",
              "    <tr>\n",
              "      <th>identity_hate</th>\n",
              "      <td>0.905694</td>\n",
              "      <td>0.903915</td>\n",
              "      <td>0.914591</td>\n",
              "      <td>0.008897</td>\n",
              "      <td>0.010676</td>\n",
              "    </tr>\n",
              "  </tbody>\n",
              "</table>\n",
              "</div>"
            ],
            "text/plain": [
              "                 Acc NB  ...  SVM advantage to LogReg\n",
              "Category                 ...                         \n",
              "toxic          0.870382  ...                -0.004086\n",
              "severe_toxic   0.938871  ...                 0.010972\n",
              "obscene        0.898762  ...                 0.000952\n",
              "threat         0.890625  ...                 0.020833\n",
              "insult         0.897929  ...                -0.000296\n",
              "identity_hate  0.905694  ...                 0.010676\n",
              "\n",
              "[6 rows x 5 columns]"
            ]
          },
          "metadata": {
            "tags": []
          },
          "execution_count": 27
        }
      ]
    },
    {
      "cell_type": "code",
      "metadata": {
        "id": "HdBFFS_CVkre",
        "colab": {
          "base_uri": "https://localhost:8080/",
          "height": 159
        },
        "outputId": "13ef0a34-5c11-40f5-87ca-9863aa15354b"
      },
      "source": [
        "models = ['Naiv_Bayes', 'Logistic Regression', 'SVM']\n",
        "auc_df = pd.DataFrame()\n",
        "auc_df['Models'] = models\n",
        "auc_df['Mean AUC Score'] = mean_auc_scores\n",
        "auc_df.to_csv('model comparison/MeanAUCScores.csv')\n",
        "print('Mean AUC Scores for models')\n",
        "auc_df"
      ],
      "execution_count": 28,
      "outputs": [
        {
          "output_type": "stream",
          "text": [
            "Mean AUC Scores for models\n"
          ],
          "name": "stdout"
        },
        {
          "output_type": "execute_result",
          "data": {
            "text/html": [
              "<div>\n",
              "<style scoped>\n",
              "    .dataframe tbody tr th:only-of-type {\n",
              "        vertical-align: middle;\n",
              "    }\n",
              "\n",
              "    .dataframe tbody tr th {\n",
              "        vertical-align: top;\n",
              "    }\n",
              "\n",
              "    .dataframe thead th {\n",
              "        text-align: right;\n",
              "    }\n",
              "</style>\n",
              "<table border=\"1\" class=\"dataframe\">\n",
              "  <thead>\n",
              "    <tr style=\"text-align: right;\">\n",
              "      <th></th>\n",
              "      <th>Models</th>\n",
              "      <th>Mean AUC Score</th>\n",
              "    </tr>\n",
              "  </thead>\n",
              "  <tbody>\n",
              "    <tr>\n",
              "      <th>0</th>\n",
              "      <td>Naiv_Bayes</td>\n",
              "      <td>0.900181</td>\n",
              "    </tr>\n",
              "    <tr>\n",
              "      <th>1</th>\n",
              "      <td>Logistic Regression</td>\n",
              "      <td>0.914671</td>\n",
              "    </tr>\n",
              "    <tr>\n",
              "      <th>2</th>\n",
              "      <td>SVM</td>\n",
              "      <td>0.908163</td>\n",
              "    </tr>\n",
              "  </tbody>\n",
              "</table>\n",
              "</div>"
            ],
            "text/plain": [
              "                Models  Mean AUC Score\n",
              "0           Naiv_Bayes        0.900181\n",
              "1  Logistic Regression        0.914671\n",
              "2                  SVM        0.908163"
            ]
          },
          "metadata": {
            "tags": []
          },
          "execution_count": 28
        }
      ]
    },
    {
      "cell_type": "code",
      "metadata": {
        "id": "gW4D8mU5VkwQ",
        "colab": {
          "base_uri": "https://localhost:8080/",
          "height": 159
        },
        "outputId": "167ab546-8b6c-4e24-89e5-6817d8309724"
      },
      "source": [
        "models = ['Naiv_Bayes', 'Logistic Regression', 'SVM']\n",
        "acc_df = pd.DataFrame()\n",
        "acc_df['Models'] = models\n",
        "acc_df['Mean Accuracy Score'] = mean_acc_scores\n",
        "acc_df.to_csv('model comparison/MeanAccuracyScores.csv')\n",
        "print('Mean Accuracy Scores for models')\n",
        "acc_df"
      ],
      "execution_count": 29,
      "outputs": [
        {
          "output_type": "stream",
          "text": [
            "Mean Accuracy Scores for models\n"
          ],
          "name": "stdout"
        },
        {
          "output_type": "execute_result",
          "data": {
            "text/html": [
              "<div>\n",
              "<style scoped>\n",
              "    .dataframe tbody tr th:only-of-type {\n",
              "        vertical-align: middle;\n",
              "    }\n",
              "\n",
              "    .dataframe tbody tr th {\n",
              "        vertical-align: top;\n",
              "    }\n",
              "\n",
              "    .dataframe thead th {\n",
              "        text-align: right;\n",
              "    }\n",
              "</style>\n",
              "<table border=\"1\" class=\"dataframe\">\n",
              "  <thead>\n",
              "    <tr style=\"text-align: right;\">\n",
              "      <th></th>\n",
              "      <th>Models</th>\n",
              "      <th>Mean Accuracy Score</th>\n",
              "    </tr>\n",
              "  </thead>\n",
              "  <tbody>\n",
              "    <tr>\n",
              "      <th>0</th>\n",
              "      <td>Naiv_Bayes</td>\n",
              "      <td>0.900181</td>\n",
              "    </tr>\n",
              "    <tr>\n",
              "      <th>1</th>\n",
              "      <td>Logistic Regression</td>\n",
              "      <td>0.914671</td>\n",
              "    </tr>\n",
              "    <tr>\n",
              "      <th>2</th>\n",
              "      <td>SVM</td>\n",
              "      <td>0.908163</td>\n",
              "    </tr>\n",
              "  </tbody>\n",
              "</table>\n",
              "</div>"
            ],
            "text/plain": [
              "                Models  Mean Accuracy Score\n",
              "0           Naiv_Bayes             0.900181\n",
              "1  Logistic Regression             0.914671\n",
              "2                  SVM             0.908163"
            ]
          },
          "metadata": {
            "tags": []
          },
          "execution_count": 29
        }
      ]
    },
    {
      "cell_type": "code",
      "metadata": {
        "id": "4F2JI7FMVh87"
      },
      "source": [
        ""
      ],
      "execution_count": 29,
      "outputs": []
    }
  ]
}