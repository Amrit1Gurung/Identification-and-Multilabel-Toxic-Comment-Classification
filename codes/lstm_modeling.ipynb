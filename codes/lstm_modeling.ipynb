{
  "nbformat": 4,
  "nbformat_minor": 0,
  "metadata": {
    "colab": {
      "name": "lstm_modeling.ipynb",
      "provenance": [],
      "collapsed_sections": []
    },
    "kernelspec": {
      "name": "python3",
      "display_name": "Python 3"
    },
    "language_info": {
      "name": "python"
    },
    "accelerator": "GPU"
  },
  "cells": [
    {
      "cell_type": "code",
      "metadata": {
        "id": "UpGfrvK6VYMB"
      },
      "source": [
        "# this gives access to our project folder in google drive.\n",
        "import os\n",
        "os.chdir(\"/content/drive/MyDrive/programs/Datasets/toxic comment classification\")"
      ],
      "execution_count": null,
      "outputs": []
    },
    {
      "cell_type": "code",
      "metadata": {
        "colab": {
          "base_uri": "https://localhost:8080/"
        },
        "id": "scCXtPaxcvMu",
        "outputId": "2f4869ec-e2cb-45e5-f7d9-8c81d427e56e"
      },
      "source": [
        "import nltk\n",
        "nltk.download('stopwords')"
      ],
      "execution_count": null,
      "outputs": [
        {
          "output_type": "stream",
          "text": [
            "[nltk_data] Downloading package stopwords to /root/nltk_data...\n",
            "[nltk_data]   Unzipping corpora/stopwords.zip.\n"
          ],
          "name": "stdout"
        },
        {
          "output_type": "execute_result",
          "data": {
            "text/plain": [
              "True"
            ]
          },
          "metadata": {
            "tags": []
          },
          "execution_count": 2
        }
      ]
    },
    {
      "cell_type": "code",
      "metadata": {
        "id": "4DodrXgSchiX"
      },
      "source": [
        "# importing dependecies\n",
        "import os\n",
        "import numpy as np  \n",
        "import pandas as pd \n",
        "import seaborn as sns\n",
        "import matplotlib.pyplot as plt\n",
        "%matplotlib inline\n",
        "import re           \n",
        "from sklearn.model_selection import train_test_split\n",
        "from sklearn import metrics\n",
        "import tensorflow as tf\n",
        "from tensorflow import keras\n",
        "from tensorflow.keras import layers\n",
        "from tensorflow.keras.preprocessing.text import Tokenizer \n",
        "from tensorflow.keras.preprocessing.sequence import pad_sequences  \n",
        "from tensorflow.keras.layers import Input, LSTM, Embedding, Dense, Dropout, Activation\n",
        "from tensorflow.keras.optimizers import Adam\n",
        "from tensorflow.keras.models import Model, Sequential\n",
        "from nltk.corpus import stopwords \n",
        "stop_words = set(stopwords.words('english')) \n",
        "import warnings\n",
        "warnings.filterwarnings(\"ignore\")"
      ],
      "execution_count": null,
      "outputs": []
    },
    {
      "cell_type": "code",
      "metadata": {
        "colab": {
          "base_uri": "https://localhost:8080/",
          "height": 245
        },
        "id": "fQkXEfbJc2L-",
        "outputId": "4cc2a641-8ef3-4dfc-93e8-47ed614bfee5"
      },
      "source": [
        "dataset = pd.read_csv('../data/train.csv')\n",
        "print(\"Shape of data : \", dataset.shape)\n",
        "dataset.head(3)"
      ],
      "execution_count": null,
      "outputs": [
        {
          "output_type": "stream",
          "text": [
            "Shape of data :  (159571, 8)\n"
          ],
          "name": "stdout"
        },
        {
          "output_type": "execute_result",
          "data": {
            "text/html": [
              "<div>\n",
              "<style scoped>\n",
              "    .dataframe tbody tr th:only-of-type {\n",
              "        vertical-align: middle;\n",
              "    }\n",
              "\n",
              "    .dataframe tbody tr th {\n",
              "        vertical-align: top;\n",
              "    }\n",
              "\n",
              "    .dataframe thead th {\n",
              "        text-align: right;\n",
              "    }\n",
              "</style>\n",
              "<table border=\"1\" class=\"dataframe\">\n",
              "  <thead>\n",
              "    <tr style=\"text-align: right;\">\n",
              "      <th></th>\n",
              "      <th>id</th>\n",
              "      <th>comment_text</th>\n",
              "      <th>toxic</th>\n",
              "      <th>severe_toxic</th>\n",
              "      <th>obscene</th>\n",
              "      <th>threat</th>\n",
              "      <th>insult</th>\n",
              "      <th>identity_hate</th>\n",
              "    </tr>\n",
              "  </thead>\n",
              "  <tbody>\n",
              "    <tr>\n",
              "      <th>0</th>\n",
              "      <td>0000997932d777bf</td>\n",
              "      <td>Explanation\\nWhy the edits made under my usern...</td>\n",
              "      <td>0</td>\n",
              "      <td>0</td>\n",
              "      <td>0</td>\n",
              "      <td>0</td>\n",
              "      <td>0</td>\n",
              "      <td>0</td>\n",
              "    </tr>\n",
              "    <tr>\n",
              "      <th>1</th>\n",
              "      <td>000103f0d9cfb60f</td>\n",
              "      <td>D'aww! He matches this background colour I'm s...</td>\n",
              "      <td>0</td>\n",
              "      <td>0</td>\n",
              "      <td>0</td>\n",
              "      <td>0</td>\n",
              "      <td>0</td>\n",
              "      <td>0</td>\n",
              "    </tr>\n",
              "    <tr>\n",
              "      <th>2</th>\n",
              "      <td>000113f07ec002fd</td>\n",
              "      <td>Hey man, I'm really not trying to edit war. It...</td>\n",
              "      <td>0</td>\n",
              "      <td>0</td>\n",
              "      <td>0</td>\n",
              "      <td>0</td>\n",
              "      <td>0</td>\n",
              "      <td>0</td>\n",
              "    </tr>\n",
              "  </tbody>\n",
              "</table>\n",
              "</div>"
            ],
            "text/plain": [
              "                 id  ... identity_hate\n",
              "0  0000997932d777bf  ...             0\n",
              "1  000103f0d9cfb60f  ...             0\n",
              "2  000113f07ec002fd  ...             0\n",
              "\n",
              "[3 rows x 8 columns]"
            ]
          },
          "metadata": {
            "tags": []
          },
          "execution_count": 4
        }
      ]
    },
    {
      "cell_type": "code",
      "metadata": {
        "id": "jD5umZuZdga0"
      },
      "source": [
        "stop_words = set(stopwords.words('english'))\n",
        "# function to preprocess and remove stopwords\n",
        "def preprocess(text):\n",
        "  no_stops = []\n",
        "  sent = text.lower()\n",
        "  sent = re.sub(r\"[^a-zA-Z]\",\" \",sent)    # removes all characters except alphabets\n",
        "  sent = re.sub(r'\\s+', ' ', sent)       # removes extra white spaces\n",
        "  #sent = str(text)\n",
        "  for w in sent.split():\n",
        "    if not w in stop_words:\n",
        "      no_stops.append(w)\n",
        "  long_words = [word for word in no_stops if len(word)>3]\n",
        "  return (\" \".join(long_words))"
      ],
      "execution_count": null,
      "outputs": []
    },
    {
      "cell_type": "code",
      "metadata": {
        "id": "BNV06cDSe2qg"
      },
      "source": [
        "data = dataset.copy()\n",
        "data['cleaned_comments'] = data['comment_text'].apply(lambda x: preprocess(str(x)))"
      ],
      "execution_count": null,
      "outputs": []
    },
    {
      "cell_type": "code",
      "metadata": {
        "id": "mpr_x5WoeE2y"
      },
      "source": [
        "# loading the glove model\n",
        "def loadGloveModel(gloveFile):\n",
        "    print(\"Loading Glove Model\")\n",
        "    f = open(gloveFile,'r')\n",
        "    word_embeddings = {}\n",
        "    for line in f:\n",
        "        values = line.split()\n",
        "        word = values[0]\n",
        "        coefs = np.asarray(values[1:], dtype='float32')\n",
        "        word_embeddings[word] = coefs\n",
        "    print (\"Done.\"),len(word_embeddings),(\" words loaded!\")\n",
        "    return word_embeddings"
      ],
      "execution_count": null,
      "outputs": []
    },
    {
      "cell_type": "code",
      "metadata": {
        "colab": {
          "base_uri": "https://localhost:8080/"
        },
        "id": "gI0FKGuPfM_G",
        "outputId": "7200a85e-ade1-47ce-a723-1aac110907cc"
      },
      "source": [
        "# load the glove model . \n",
        "word_embedding=loadGloveModel(\"../glove vector/glove.6B.100d.txt\")"
      ],
      "execution_count": null,
      "outputs": [
        {
          "output_type": "stream",
          "text": [
            "Loading Glove Model\n",
            "Done.\n"
          ],
          "name": "stdout"
        }
      ]
    },
    {
      "cell_type": "code",
      "metadata": {
        "id": "mwEEF8PIgEAQ"
      },
      "source": [
        "# separate and set independent and target/dependent features.Then split data into train set and test set\n",
        "X = data['cleaned_comments']\n",
        "Y = data[['toxic','severe_toxic','obscene','threat','insult','identity_hate']].values\n",
        "x_train, x_test, y_train, y_test = train_test_split(X, Y, test_size=0.2,random_state=42)"
      ],
      "execution_count": null,
      "outputs": []
    },
    {
      "cell_type": "code",
      "metadata": {
        "colab": {
          "base_uri": "https://localhost:8080/"
        },
        "id": "qIRF_07xlJhv",
        "outputId": "36006dc0-dcf2-4971-fd1d-9bef5a10d836"
      },
      "source": [
        "tokenizer = Tokenizer(num_words=5000)\n",
        "tokenizer.fit_on_texts(x_train)\n",
        "train_seq = tokenizer.texts_to_sequences(x_train)\n",
        "test_seq = tokenizer.texts_to_sequences(x_test)\n",
        "train_pad = pad_sequences(train_seq)\n",
        "test_pad = pad_sequences(test_seq, maxlen=train_pad.shape[1])\n",
        "word_index = tokenizer.word_index\n",
        "\n",
        "print('The number of unique tokens are {}'.format(len(word_index)))\n",
        "print(\"Now train and test tensor shape is : \", train_pad.shape,test_pad.shape)\n",
        "print('target train and test tesor shape is: ', y_train.shape,y_test.shape)"
      ],
      "execution_count": null,
      "outputs": [
        {
          "output_type": "stream",
          "text": [
            "The number of unique tokens are 141661\n",
            "Now train and test tensor shape is :  (127656, 1000) (31915, 1000)\n",
            "target train and test tesor shape is:  (127656, 6) (31915, 6)\n"
          ],
          "name": "stdout"
        }
      ]
    },
    {
      "cell_type": "code",
      "metadata": {
        "id": "HWHQH4KTlJoU"
      },
      "source": [
        "vocab_size = len(word_index)+1\n",
        "sequence_len = train_pad.shape[1]\n",
        "embedded_dim = 100\n",
        "# creating embedding matrix\n",
        "embedding_matrix = np.zeros((vocab_size,embedded_dim))\n",
        "for word, i in word_index.items():\n",
        "  embedding_vector = word_embedding.get(word)\n",
        "  if embedding_vector is not None:\n",
        "    embedding_matrix[i] = embedding_vector"
      ],
      "execution_count": null,
      "outputs": []
    },
    {
      "cell_type": "code",
      "metadata": {
        "colab": {
          "base_uri": "https://localhost:8080/"
        },
        "id": "VB_ffdNdncpo",
        "outputId": "8f829853-5165-44c7-e60b-b78e9ffbbb28"
      },
      "source": [
        "embedding_matrix.shape"
      ],
      "execution_count": null,
      "outputs": [
        {
          "output_type": "execute_result",
          "data": {
            "text/plain": [
              "(141662, 100)"
            ]
          },
          "metadata": {
            "tags": []
          },
          "execution_count": 12
        }
      ]
    },
    {
      "cell_type": "code",
      "metadata": {
        "id": "naUVOHJ-nfyF"
      },
      "source": [
        "# Build and train model\n",
        "def train_model():\n",
        "  model = Sequential()\n",
        "  model.add(Embedding(vocab_size, embedded_dim, weights=[embedding_matrix], input_length=sequence_len))\n",
        "  model.add(LSTM(128))\n",
        "  model.add(Dropout(0.2))\n",
        "  #model.add(Dense(24, activation='relu'))\n",
        "  #model.add(Dropout(0.2))\n",
        "  model.add(Dense(6 ,activation='sigmoid'))\n",
        "  model.compile(loss='binary_crossentropy', optimizer='adam', metrics=['accuracy'])\n",
        "  return model"
      ],
      "execution_count": null,
      "outputs": []
    },
    {
      "cell_type": "code",
      "metadata": {
        "colab": {
          "base_uri": "https://localhost:8080/"
        },
        "id": "Y4Ug8TqGodtB",
        "outputId": "74f3ceb0-c34d-454a-c216-49f709e1db76"
      },
      "source": [
        "model = train_model()\n",
        "print(model.summary())"
      ],
      "execution_count": null,
      "outputs": [
        {
          "output_type": "stream",
          "text": [
            "Model: \"sequential\"\n",
            "_________________________________________________________________\n",
            "Layer (type)                 Output Shape              Param #   \n",
            "=================================================================\n",
            "embedding (Embedding)        (None, 1000, 100)         14166200  \n",
            "_________________________________________________________________\n",
            "lstm (LSTM)                  (None, 128)               117248    \n",
            "_________________________________________________________________\n",
            "dropout (Dropout)            (None, 128)               0         \n",
            "_________________________________________________________________\n",
            "dense (Dense)                (None, 6)                 774       \n",
            "=================================================================\n",
            "Total params: 14,284,222\n",
            "Trainable params: 14,284,222\n",
            "Non-trainable params: 0\n",
            "_________________________________________________________________\n",
            "None\n"
          ],
          "name": "stdout"
        }
      ]
    },
    {
      "cell_type": "code",
      "metadata": {
        "id": "SUMNy1Yao1vd",
        "colab": {
          "base_uri": "https://localhost:8080/"
        },
        "outputId": "838ed5fe-9de9-4c94-efe8-e924c2055e64"
      },
      "source": [
        "history = model.fit(train_pad, y_train, batch_size=150, epochs=5, validation_data=(test_pad, y_test))"
      ],
      "execution_count": null,
      "outputs": [
        {
          "output_type": "stream",
          "text": [
            "Epoch 1/5\n",
            "852/852 [==============================] - 237s 240ms/step - loss: 0.1106 - accuracy: 0.7926 - val_loss: 0.0582 - val_accuracy: 0.9941\n",
            "Epoch 2/5\n",
            "852/852 [==============================] - 203s 239ms/step - loss: 0.0551 - accuracy: 0.9677 - val_loss: 0.0543 - val_accuracy: 0.9938\n",
            "Epoch 3/5\n",
            "852/852 [==============================] - 202s 238ms/step - loss: 0.0504 - accuracy: 0.9766 - val_loss: 0.0548 - val_accuracy: 0.9928\n",
            "Epoch 4/5\n",
            "852/852 [==============================] - 202s 237ms/step - loss: 0.0490 - accuracy: 0.9684 - val_loss: 0.0546 - val_accuracy: 0.9934\n",
            "Epoch 5/5\n",
            "852/852 [==============================] - 201s 236ms/step - loss: 0.0461 - accuracy: 0.9716 - val_loss: 0.0566 - val_accuracy: 0.9935\n"
          ],
          "name": "stdout"
        }
      ]
    },
    {
      "cell_type": "code",
      "metadata": {
        "colab": {
          "base_uri": "https://localhost:8080/",
          "height": 497
        },
        "id": "Cpxmf4A3tf9E",
        "outputId": "1b8131d4-8479-4185-9789-c9c010c4adf4"
      },
      "source": [
        "#save model\n",
        "model.save('../saved_models/lstm_model.h5')\n",
        "\n",
        "history_df = pd.DataFrame(model.history.history).rename(columns={\"loss\":\"train_loss\", \"accuracy\":\"train_accuracy\"})\n",
        "history_df.plot(figsize=(8,8))\n",
        "plt.grid(True)\n",
        "plt.xlabel('Epochs')\n",
        "plt.ylabel('Accuracy')\n",
        "plt.savefig('../plots/AccuracyVsLoss.png')\n",
        "plt.show()"
      ],
      "execution_count": null,
      "outputs": [
        {
          "output_type": "display_data",
          "data": {
            "image/png": "[encoded data removed]",
            "text/plain": [
              "<Figure size 576x576 with 1 Axes>"
            ]
          },
          "metadata": {
            "tags": [],
            "needs_background": "light"
          }
        }
      ]
    },
    {
      "cell_type": "code",
      "metadata": {
        "colab": {
          "base_uri": "https://localhost:8080/"
        },
        "id": "OlynZ3JA36lv",
        "outputId": "cad64d4e-a1b5-471f-9bae-5744b0d9c45c"
      },
      "source": [
        "# Evaluating \n",
        "score = model.evaluate(test_pad, y_test, verbose=1)\n",
        "\n",
        "print(\"Test Score:\", score[0])\n",
        "print(\"Test Accuracy:\", score[1])"
      ],
      "execution_count": null,
      "outputs": [
        {
          "output_type": "stream",
          "text": [
            "998/998 [==============================] - 21s 21ms/step - loss: 0.0566 - accuracy: 0.9935\n",
            "Test Score: 0.056615203619003296\n",
            "Test Accuracy: 0.9934827089309692\n"
          ],
          "name": "stdout"
        }
      ]
    },
    {
      "cell_type": "markdown",
      "metadata": {
        "id": "i3r1UNCnk-e2"
      },
      "source": [
        "pretty decent!"
      ]
    },
    {
      "cell_type": "code",
      "metadata": {
        "id": "A_sqldQbpCD_"
      },
      "source": [
        "y_pred = model.predict_classes(test_pad)"
      ],
      "execution_count": null,
      "outputs": []
    },
    {
      "cell_type": "code",
      "metadata": {
        "id": "sXxZHT3SpCIx"
      },
      "source": [
        "from sklearn.metrics import multilabel_confusion_matrix\n",
        "#multilabel_confusion_matrix(y_test,y_pred)"
      ],
      "execution_count": null,
      "outputs": []
    },
    {
      "cell_type": "markdown",
      "metadata": {
        "id": "7ea2Gat0lLkH"
      },
      "source": [
        "### Test  \n",
        "predict the toxic labels/categires for given string"
      ]
    },
    {
      "cell_type": "code",
      "metadata": {
        "id": "sqdtCUJQW81L"
      },
      "source": [
        "def Execute(text):\n",
        "  test_str = preprocess(text)\n",
        "  t_seq = tokenizer.texts_to_sequences([test_str])\n",
        "  t_pad = pad_sequences(t_seq, maxlen=train_pad.shape[1])\n",
        "  predicted = model.predict(t_pad)\n",
        "  result = predicted[0]\n",
        "  categories = ['toxic','severe_toxic','obscene','threat','insult','identity_hate']\n",
        "  predicted_categories = []\n",
        "  #probability = []\n",
        "  for category, prob_value in zip(categories,result):\n",
        "    if prob_value>0.80:\n",
        "      predicted_categories.append(category)\n",
        "      #probability.append(value)\n",
        "  print('The given comment is :', predicted_categories)    \n",
        "  #print(predicted_categories)\n",
        "  #print(zip(predicted_categories,probability))"
      ],
      "execution_count": null,
      "outputs": []
    },
    {
      "cell_type": "code",
      "metadata": {
        "colab": {
          "base_uri": "https://localhost:8080/"
        },
        "id": "HdGUDoxtcgFo",
        "outputId": "b2abaa06-a9b9-4217-9d5d-fdb899cf6625"
      },
      "source": [
        "#test_string = \"I don't give the fuck those goddamn morons says.\"\n",
        "test_string =\"You little piece of shit do you really want me to smack on your fucking face goddamn moron\"\n",
        "predict_categories = Execute(test_string) "
      ],
      "execution_count": null,
      "outputs": [
        {
          "output_type": "stream",
          "text": [
            "The given comment is : ['toxic', 'obscene', 'insult']\n"
          ],
          "name": "stdout"
        }
      ]
    },
    {
      "cell_type": "code",
      "metadata": {
        "colab": {
          "base_uri": "https://localhost:8080/"
        },
        "id": "_wtvFPBQiKc5",
        "outputId": "81f33c32-cf0a-4cd7-bf6d-ab9fa1208362"
      },
      "source": [
        "test_string = str(input('Input the test string :'))\n",
        "predict_categories = Execute(test_string)"
      ],
      "execution_count": null,
      "outputs": [
        {
          "output_type": "stream",
          "text": [
            "Input the test string :fuck you assholes\n",
            "The given comment is : ['toxic', 'obscene']\n"
          ],
          "name": "stdout"
        }
      ]
    },
    {
      "cell_type": "code",
      "metadata": {
        "id": "WjtpSfD5l4kE"
      },
      "source": [
        ""
      ],
      "execution_count": null,
      "outputs": []
    }
  ]
}